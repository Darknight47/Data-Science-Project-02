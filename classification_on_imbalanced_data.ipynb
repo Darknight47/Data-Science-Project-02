{
 "cells": [
  {
   "cell_type": "markdown",
   "metadata": {},
   "source": [
    "## Main Task\n",
    "In the insurance industry, predicting the likelihood of claims is critical for risk assessment and policy pricing. However, insurance claims datasets often exhibit class imbalance, with non-claims outnumbering actual claims. (Classification On A Highly Imbalanced Data)\n",
    "\n",
    "**Imbalanced Data:** refers to a dataset where the classes are not represented equally. In a classification task, this typically means that one class (or a few classes) occurs much more frequently than others. For example, in a binary classification problem, you might have 95% of the data belonging to class A and only 5% to class B.  \n",
    "\n",
    "### Challenges of Imbalanced Data:\n",
    "1. **Bias Toward Majority Class:** Standard machine learning algorithms often assume a relatively equal class distribution. When faced with imbalanced data, these algorithms may be biased towards the majority class, leading to poor predictive performance on the minority class.\n",
    "\n",
    "2. **Skewed Performance Metrics:** Traditional metrics like accuracy can be misleading in the context of imbalanced data. For instance, in the previous example, a model that always predicts class A would achieve 95% accuracy but would fail entirely to capture class B.\n",
    "\n",
    "### Strategies to Handle Imbalanced Data:\n",
    "#### Resampling Techniques:\n",
    "1. **Oversampling:** Increasing the number of instances in the minority class by duplicating instances or generating synthetic data (e.g., using SMOTE - Synthetic Minority Over-sampling Technique).\n",
    "2. **Undersampling:** Reducing the number of instances in the majority class to balance the dataset.\n",
    "#### Algorithmic Solutions:\n",
    "1. **Weighted Loss Functions:** Modify the loss function to give more importance to the minority class, which can help the model to pay more attention to it during training.\n",
    "2. **Ensemble Methods:** Methods like Random Forest or Boosting can be adjusted to handle imbalanced data, such as by using balanced random forests or boosting with class weights.\n",
    "3. **Anomaly Detection Techniques:** In cases where the minority class is extremely rare, anomaly detection methods might be more suitable.\n",
    "\n",
    "### Data Understanding\n",
    "The dataset has the following features:\n",
    "1. policy_id: Unique identifier for the insurance policy.\n",
    "2. subscription_length: The duration for which the insurance policy is active.\n",
    "3. customer_age: Age of the insurance policyholder, which can influence the likelihood of claims.\n",
    "4. vehicle_age: Age of the vehicle insured, which may affect the probability of claims due to factors like wear and tear.\n",
    "5. model: The model of the vehicle, which could impact the claim frequency due to model-specific characteristics.\n",
    "6. fuel_type: Type of fuel the vehicle uses (e.g., Petrol, Diesel, CNG), which might influence the risk profile and claim likelihood.\n",
    "7. max_torque, max_power: Engine performance characteristics that could relate to the vehicle’s mechanical condition and claim risks.\n",
    "8. engine_type: The type of engine, which might have implications for maintenance and claim rates.\n",
    "9. displacement, cylinder: Specifications related to the engine size and construction, affecting the vehicle’s performance and potentially its claim history.\n",
    "10. region_code: The code representing the geographical region of the policyholder, as claim patterns can vary regionally.\n",
    "11. region_density: Population density of the policyholder’s region, which could correlate with accident and claim frequencies.\n",
    "12. airbags: The number of airbags in the vehicle, indicating safety level which can influence claim probability.\n",
    "13. is_esc (Electronic Stability Control), is_adjustable_steering, is_tpms (Tire Pressure Monitoring System): Features that enhance vehicle safety and could potentially reduce the likelihood of claims.\n",
    "14. is_parking_sensors, is_parking_camera: Parking aids that might affect the probability of making a claim, especially in urban areas.\n",
    "15. rear_brakes_type: Type of rear brakes, which could be related to the vehicle’s stopping capability and safety.\n",
    "Features like steering_type, turning_radius, length, width, gross_weight, and various other binary indicators (Yes/No) for specific vehicle amenities and safety features, which together build a profile of the vehicle’s characteristics and its associated risk factors.\n",
    "16. claim_status: Indicates whether a claim was made (1) or not (0), which is the dependent variable the model aims to predict."
   ]
  },
  {
   "cell_type": "code",
   "execution_count": 7,
   "metadata": {},
   "outputs": [],
   "source": [
    "import pandas as pd\n",
    "import matplotlib.pyplot as plt\n",
    "import seaborn as sns"
   ]
  },
  {
   "cell_type": "code",
   "execution_count": 2,
   "metadata": {},
   "outputs": [],
   "source": [
    "dataset = pd.read_csv('datasets/insurance claims data.csv')"
   ]
  },
  {
   "cell_type": "code",
   "execution_count": 3,
   "metadata": {},
   "outputs": [
    {
     "data": {
      "text/html": [
       "<div>\n",
       "<style scoped>\n",
       "    .dataframe tbody tr th:only-of-type {\n",
       "        vertical-align: middle;\n",
       "    }\n",
       "\n",
       "    .dataframe tbody tr th {\n",
       "        vertical-align: top;\n",
       "    }\n",
       "\n",
       "    .dataframe thead th {\n",
       "        text-align: right;\n",
       "    }\n",
       "</style>\n",
       "<table border=\"1\" class=\"dataframe\">\n",
       "  <thead>\n",
       "    <tr style=\"text-align: right;\">\n",
       "      <th></th>\n",
       "      <th>policy_id</th>\n",
       "      <th>subscription_length</th>\n",
       "      <th>vehicle_age</th>\n",
       "      <th>customer_age</th>\n",
       "      <th>region_code</th>\n",
       "      <th>region_density</th>\n",
       "      <th>segment</th>\n",
       "      <th>model</th>\n",
       "      <th>fuel_type</th>\n",
       "      <th>max_torque</th>\n",
       "      <th>...</th>\n",
       "      <th>is_brake_assist</th>\n",
       "      <th>is_power_door_locks</th>\n",
       "      <th>is_central_locking</th>\n",
       "      <th>is_power_steering</th>\n",
       "      <th>is_driver_seat_height_adjustable</th>\n",
       "      <th>is_day_night_rear_view_mirror</th>\n",
       "      <th>is_ecw</th>\n",
       "      <th>is_speed_alert</th>\n",
       "      <th>ncap_rating</th>\n",
       "      <th>claim_status</th>\n",
       "    </tr>\n",
       "  </thead>\n",
       "  <tbody>\n",
       "    <tr>\n",
       "      <th>0</th>\n",
       "      <td>POL045360</td>\n",
       "      <td>9.3</td>\n",
       "      <td>1.2</td>\n",
       "      <td>41</td>\n",
       "      <td>C8</td>\n",
       "      <td>8794</td>\n",
       "      <td>C2</td>\n",
       "      <td>M4</td>\n",
       "      <td>Diesel</td>\n",
       "      <td>250Nm@2750rpm</td>\n",
       "      <td>...</td>\n",
       "      <td>Yes</td>\n",
       "      <td>Yes</td>\n",
       "      <td>Yes</td>\n",
       "      <td>Yes</td>\n",
       "      <td>Yes</td>\n",
       "      <td>No</td>\n",
       "      <td>Yes</td>\n",
       "      <td>Yes</td>\n",
       "      <td>3</td>\n",
       "      <td>0</td>\n",
       "    </tr>\n",
       "    <tr>\n",
       "      <th>1</th>\n",
       "      <td>POL016745</td>\n",
       "      <td>8.2</td>\n",
       "      <td>1.8</td>\n",
       "      <td>35</td>\n",
       "      <td>C2</td>\n",
       "      <td>27003</td>\n",
       "      <td>C1</td>\n",
       "      <td>M9</td>\n",
       "      <td>Diesel</td>\n",
       "      <td>200Nm@1750rpm</td>\n",
       "      <td>...</td>\n",
       "      <td>No</td>\n",
       "      <td>Yes</td>\n",
       "      <td>Yes</td>\n",
       "      <td>Yes</td>\n",
       "      <td>Yes</td>\n",
       "      <td>Yes</td>\n",
       "      <td>Yes</td>\n",
       "      <td>Yes</td>\n",
       "      <td>4</td>\n",
       "      <td>0</td>\n",
       "    </tr>\n",
       "  </tbody>\n",
       "</table>\n",
       "<p>2 rows × 41 columns</p>\n",
       "</div>"
      ],
      "text/plain": [
       "   policy_id  subscription_length  vehicle_age  customer_age region_code  \\\n",
       "0  POL045360                  9.3          1.2            41          C8   \n",
       "1  POL016745                  8.2          1.8            35          C2   \n",
       "\n",
       "   region_density segment model fuel_type     max_torque  ... is_brake_assist  \\\n",
       "0            8794      C2    M4    Diesel  250Nm@2750rpm  ...             Yes   \n",
       "1           27003      C1    M9    Diesel  200Nm@1750rpm  ...              No   \n",
       "\n",
       "  is_power_door_locks  is_central_locking is_power_steering  \\\n",
       "0                 Yes                 Yes               Yes   \n",
       "1                 Yes                 Yes               Yes   \n",
       "\n",
       "  is_driver_seat_height_adjustable is_day_night_rear_view_mirror is_ecw  \\\n",
       "0                              Yes                            No    Yes   \n",
       "1                              Yes                           Yes    Yes   \n",
       "\n",
       "  is_speed_alert ncap_rating  claim_status  \n",
       "0            Yes           3             0  \n",
       "1            Yes           4             0  \n",
       "\n",
       "[2 rows x 41 columns]"
      ]
     },
     "execution_count": 3,
     "metadata": {},
     "output_type": "execute_result"
    }
   ],
   "source": [
    "dataset.head(2)"
   ]
  },
  {
   "cell_type": "code",
   "execution_count": 4,
   "metadata": {},
   "outputs": [
    {
     "name": "stdout",
     "output_type": "stream",
     "text": [
      "<class 'pandas.core.frame.DataFrame'>\n",
      "RangeIndex: 58592 entries, 0 to 58591\n",
      "Data columns (total 41 columns):\n",
      " #   Column                            Non-Null Count  Dtype  \n",
      "---  ------                            --------------  -----  \n",
      " 0   policy_id                         58592 non-null  object \n",
      " 1   subscription_length               58592 non-null  float64\n",
      " 2   vehicle_age                       58592 non-null  float64\n",
      " 3   customer_age                      58592 non-null  int64  \n",
      " 4   region_code                       58592 non-null  object \n",
      " 5   region_density                    58592 non-null  int64  \n",
      " 6   segment                           58592 non-null  object \n",
      " 7   model                             58592 non-null  object \n",
      " 8   fuel_type                         58592 non-null  object \n",
      " 9   max_torque                        58592 non-null  object \n",
      " 10  max_power                         58592 non-null  object \n",
      " 11  engine_type                       58592 non-null  object \n",
      " 12  airbags                           58592 non-null  int64  \n",
      " 13  is_esc                            58592 non-null  object \n",
      " 14  is_adjustable_steering            58592 non-null  object \n",
      " 15  is_tpms                           58592 non-null  object \n",
      " 16  is_parking_sensors                58592 non-null  object \n",
      " 17  is_parking_camera                 58592 non-null  object \n",
      " 18  rear_brakes_type                  58592 non-null  object \n",
      " 19  displacement                      58592 non-null  int64  \n",
      " 20  cylinder                          58592 non-null  int64  \n",
      " 21  transmission_type                 58592 non-null  object \n",
      " 22  steering_type                     58592 non-null  object \n",
      " 23  turning_radius                    58592 non-null  float64\n",
      " 24  length                            58592 non-null  int64  \n",
      " 25  width                             58592 non-null  int64  \n",
      " 26  gross_weight                      58592 non-null  int64  \n",
      " 27  is_front_fog_lights               58592 non-null  object \n",
      " 28  is_rear_window_wiper              58592 non-null  object \n",
      " 29  is_rear_window_washer             58592 non-null  object \n",
      " 30  is_rear_window_defogger           58592 non-null  object \n",
      " 31  is_brake_assist                   58592 non-null  object \n",
      " 32  is_power_door_locks               58592 non-null  object \n",
      " 33  is_central_locking                58592 non-null  object \n",
      " 34  is_power_steering                 58592 non-null  object \n",
      " 35  is_driver_seat_height_adjustable  58592 non-null  object \n",
      " 36  is_day_night_rear_view_mirror     58592 non-null  object \n",
      " 37  is_ecw                            58592 non-null  object \n",
      " 38  is_speed_alert                    58592 non-null  object \n",
      " 39  ncap_rating                       58592 non-null  int64  \n",
      " 40  claim_status                      58592 non-null  int64  \n",
      "dtypes: float64(3), int64(10), object(28)\n",
      "memory usage: 18.3+ MB\n"
     ]
    }
   ],
   "source": [
    "dataset.info()"
   ]
  },
  {
   "cell_type": "code",
   "execution_count": 5,
   "metadata": {},
   "outputs": [
    {
     "data": {
      "text/plain": [
       "(58592, 41)"
      ]
     },
     "execution_count": 5,
     "metadata": {},
     "output_type": "execute_result"
    }
   ],
   "source": [
    "dataset.shape"
   ]
  },
  {
   "cell_type": "code",
   "execution_count": 6,
   "metadata": {},
   "outputs": [
    {
     "data": {
      "text/plain": [
       "policy_id                           0\n",
       "subscription_length                 0\n",
       "vehicle_age                         0\n",
       "customer_age                        0\n",
       "region_code                         0\n",
       "region_density                      0\n",
       "segment                             0\n",
       "model                               0\n",
       "fuel_type                           0\n",
       "max_torque                          0\n",
       "max_power                           0\n",
       "engine_type                         0\n",
       "airbags                             0\n",
       "is_esc                              0\n",
       "is_adjustable_steering              0\n",
       "is_tpms                             0\n",
       "is_parking_sensors                  0\n",
       "is_parking_camera                   0\n",
       "rear_brakes_type                    0\n",
       "displacement                        0\n",
       "cylinder                            0\n",
       "transmission_type                   0\n",
       "steering_type                       0\n",
       "turning_radius                      0\n",
       "length                              0\n",
       "width                               0\n",
       "gross_weight                        0\n",
       "is_front_fog_lights                 0\n",
       "is_rear_window_wiper                0\n",
       "is_rear_window_washer               0\n",
       "is_rear_window_defogger             0\n",
       "is_brake_assist                     0\n",
       "is_power_door_locks                 0\n",
       "is_central_locking                  0\n",
       "is_power_steering                   0\n",
       "is_driver_seat_height_adjustable    0\n",
       "is_day_night_rear_view_mirror       0\n",
       "is_ecw                              0\n",
       "is_speed_alert                      0\n",
       "ncap_rating                         0\n",
       "claim_status                        0\n",
       "dtype: int64"
      ]
     },
     "execution_count": 6,
     "metadata": {},
     "output_type": "execute_result"
    }
   ],
   "source": [
    "dataset.isnull().sum()"
   ]
  },
  {
   "cell_type": "markdown",
   "metadata": {},
   "source": [
    "### Exploratory Data Analysis\n",
    "#### Distribution of Claim Status"
   ]
  },
  {
   "cell_type": "code",
   "execution_count": 8,
   "metadata": {},
   "outputs": [
    {
     "data": {
      "image/png": "[encoded data removed]",
      "text/plain": [
       "<Figure size 1000x600 with 1 Axes>"
      ]
     },
     "metadata": {},
     "output_type": "display_data"
    }
   ],
   "source": [
    "plt.figure(figsize=(10, 6))\n",
    "sns.countplot(x='claim_status', data=dataset)\n",
    "plt.title('Distribution of Claim Status')\n",
    "plt.xlabel('Claim Status')\n",
    "plt.ylabel('Count')\n",
    "plt.show()"
   ]
  },
  {
   "cell_type": "markdown",
   "metadata": {},
   "source": [
    "> The distribution of the claim_status shows a significant imbalance between the classes, with much fewer claims (1) compared to no claims (0)!\n",
    "#### "
   ]
  }
 ],
 "metadata": {
  "kernelspec": {
   "display_name": "Python 3",
   "language": "python",
   "name": "python3"
  },
  "language_info": {
   "codemirror_mode": {
    "name": "ipython",
    "version": 3
   },
   "file_extension": ".py",
   "mimetype": "text/x-python",
   "name": "python",
   "nbconvert_exporter": "python",
   "pygments_lexer": "ipython3",
   "version": "3.12.2"
  }
 },
 "nbformat": 4,
 "nbformat_minor": 2
}
