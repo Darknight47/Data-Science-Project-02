{
 "cells": [
  {
   "cell_type": "markdown",
   "metadata": {},
   "source": [
    "## Main Goal\n",
    "Clustering credit cards based on their buying habits, credit limits, and many other financial factors!  \n",
    "**Credit Cards Clustering** or **Credit Cards Segmentation**\n",
    "\n",
    "### Data Understanding\n",
    "The Sample Dataset summarizes the usage behavior of about 9000 active credit card holders during the last 6 months. The file is at a customer level with 18 behavioral variables.  \n",
    "The dataset has the following features:  \n",
    "1. **CUST_ID**: Identification of Credit Card holder (Categorical)\n",
    "2. **BALANCE**: Balance amount left in their account to make purchases \n",
    "3. **BALANCE_FREQUENCY**: How frequently the Balance is updated, score between 0 and 1 (1 = frequently updated, 0 = not frequently updated)\n",
    "4. **PURCHASES**: Amount of purchases made from account\n",
    "5. **ONEOFF_PURCHASES**: Maximum purchase amount done in one-go\n",
    "6. **INSTALLMENTS_PURCHASES**: Amount of purchase done in installment\n",
    "7. **CASH_ADVANCE**: Cash in advance given by the user\n",
    "8. **PURCHASES_FREQUENCY**: How frequently the Purchases are being made, score between 0 and 1 (1 = frequently purchased, 0 = not frequently purchased)\n",
    "9. **ONEOFFPURCHASESFREQUENCY**: How frequently Purchases are happening in one-go (1 = frequently purchased, 0 = not frequently purchased)\n",
    "10. **PURCHASESINSTALLMENTSFREQUENCY**: How frequently purchases in installments are being done (1 = frequently done, 0 = not frequently done)\n",
    "11. **CASHADVANCEFREQUENCY**: How frequently the cash in advance being paid\n",
    "12. **CASHADVANCETRX**: Number of Transactions made with \"Cash in Advanced\"\n",
    "13. **PURCHASES_TRX**: Numbe of purchase transactions made\n",
    "14. **CREDIT_LIMIT**: Limit of Credit Card for user\n",
    "15. **PAYMENTS**: Amount of Payment done by user\n",
    "16. **MINIMUM_PAYMENTS**: Minimum amount of payments made by user\n",
    "17. **PRCFULLPAYMENT**: Percent of full payment paid by user\n",
    "18. **TENURE**: Tenure of credit card service for user\n",
    "\n",
    "The dataset has the 8950 observations & 18 features!  \n",
    "The dataset can be accessed on: [https://www.kaggle.com/datasets/arjunbhasin2013/ccdata/data]"
   ]
  },
  {
   "cell_type": "code",
   "execution_count": 1,
   "metadata": {},
   "outputs": [],
   "source": [
    "import pandas as pd"
   ]
  },
  {
   "cell_type": "code",
   "execution_count": 2,
   "metadata": {},
   "outputs": [],
   "source": [
    "dataset = pd.read_csv(\"datasets/CCards.csv\")"
   ]
  },
  {
   "cell_type": "code",
   "execution_count": 3,
   "metadata": {},
   "outputs": [
    {
     "data": {
      "text/html": [
       "<div>\n",
       "<style scoped>\n",
       "    .dataframe tbody tr th:only-of-type {\n",
       "        vertical-align: middle;\n",
       "    }\n",
       "\n",
       "    .dataframe tbody tr th {\n",
       "        vertical-align: top;\n",
       "    }\n",
       "\n",
       "    .dataframe thead th {\n",
       "        text-align: right;\n",
       "    }\n",
       "</style>\n",
       "<table border=\"1\" class=\"dataframe\">\n",
       "  <thead>\n",
       "    <tr style=\"text-align: right;\">\n",
       "      <th></th>\n",
       "      <th>CUST_ID</th>\n",
       "      <th>BALANCE</th>\n",
       "      <th>BALANCE_FREQUENCY</th>\n",
       "      <th>PURCHASES</th>\n",
       "      <th>ONEOFF_PURCHASES</th>\n",
       "      <th>INSTALLMENTS_PURCHASES</th>\n",
       "      <th>CASH_ADVANCE</th>\n",
       "      <th>PURCHASES_FREQUENCY</th>\n",
       "      <th>ONEOFF_PURCHASES_FREQUENCY</th>\n",
       "      <th>PURCHASES_INSTALLMENTS_FREQUENCY</th>\n",
       "      <th>CASH_ADVANCE_FREQUENCY</th>\n",
       "      <th>CASH_ADVANCE_TRX</th>\n",
       "      <th>PURCHASES_TRX</th>\n",
       "      <th>CREDIT_LIMIT</th>\n",
       "      <th>PAYMENTS</th>\n",
       "      <th>MINIMUM_PAYMENTS</th>\n",
       "      <th>PRC_FULL_PAYMENT</th>\n",
       "      <th>TENURE</th>\n",
       "    </tr>\n",
       "  </thead>\n",
       "  <tbody>\n",
       "    <tr>\n",
       "      <th>0</th>\n",
       "      <td>C10001</td>\n",
       "      <td>40.900749</td>\n",
       "      <td>0.818182</td>\n",
       "      <td>95.4</td>\n",
       "      <td>0.0</td>\n",
       "      <td>95.4</td>\n",
       "      <td>0.000000</td>\n",
       "      <td>0.166667</td>\n",
       "      <td>0.0</td>\n",
       "      <td>0.083333</td>\n",
       "      <td>0.00</td>\n",
       "      <td>0</td>\n",
       "      <td>2</td>\n",
       "      <td>1000.0</td>\n",
       "      <td>201.802084</td>\n",
       "      <td>139.509787</td>\n",
       "      <td>0.000000</td>\n",
       "      <td>12</td>\n",
       "    </tr>\n",
       "    <tr>\n",
       "      <th>1</th>\n",
       "      <td>C10002</td>\n",
       "      <td>3202.467416</td>\n",
       "      <td>0.909091</td>\n",
       "      <td>0.0</td>\n",
       "      <td>0.0</td>\n",
       "      <td>0.0</td>\n",
       "      <td>6442.945483</td>\n",
       "      <td>0.000000</td>\n",
       "      <td>0.0</td>\n",
       "      <td>0.000000</td>\n",
       "      <td>0.25</td>\n",
       "      <td>4</td>\n",
       "      <td>0</td>\n",
       "      <td>7000.0</td>\n",
       "      <td>4103.032597</td>\n",
       "      <td>1072.340217</td>\n",
       "      <td>0.222222</td>\n",
       "      <td>12</td>\n",
       "    </tr>\n",
       "  </tbody>\n",
       "</table>\n",
       "</div>"
      ],
      "text/plain": [
       "  CUST_ID      BALANCE  BALANCE_FREQUENCY  PURCHASES  ONEOFF_PURCHASES  \\\n",
       "0  C10001    40.900749           0.818182       95.4               0.0   \n",
       "1  C10002  3202.467416           0.909091        0.0               0.0   \n",
       "\n",
       "   INSTALLMENTS_PURCHASES  CASH_ADVANCE  PURCHASES_FREQUENCY  \\\n",
       "0                    95.4      0.000000             0.166667   \n",
       "1                     0.0   6442.945483             0.000000   \n",
       "\n",
       "   ONEOFF_PURCHASES_FREQUENCY  PURCHASES_INSTALLMENTS_FREQUENCY  \\\n",
       "0                         0.0                          0.083333   \n",
       "1                         0.0                          0.000000   \n",
       "\n",
       "   CASH_ADVANCE_FREQUENCY  CASH_ADVANCE_TRX  PURCHASES_TRX  CREDIT_LIMIT  \\\n",
       "0                    0.00                 0              2        1000.0   \n",
       "1                    0.25                 4              0        7000.0   \n",
       "\n",
       "      PAYMENTS  MINIMUM_PAYMENTS  PRC_FULL_PAYMENT  TENURE  \n",
       "0   201.802084        139.509787          0.000000      12  \n",
       "1  4103.032597       1072.340217          0.222222      12  "
      ]
     },
     "execution_count": 3,
     "metadata": {},
     "output_type": "execute_result"
    }
   ],
   "source": [
    "dataset.head(2)"
   ]
  },
  {
   "cell_type": "code",
   "execution_count": 4,
   "metadata": {},
   "outputs": [
    {
     "name": "stdout",
     "output_type": "stream",
     "text": [
      "<class 'pandas.core.frame.DataFrame'>\n",
      "RangeIndex: 8950 entries, 0 to 8949\n",
      "Data columns (total 18 columns):\n",
      " #   Column                            Non-Null Count  Dtype  \n",
      "---  ------                            --------------  -----  \n",
      " 0   CUST_ID                           8950 non-null   object \n",
      " 1   BALANCE                           8950 non-null   float64\n",
      " 2   BALANCE_FREQUENCY                 8950 non-null   float64\n",
      " 3   PURCHASES                         8950 non-null   float64\n",
      " 4   ONEOFF_PURCHASES                  8950 non-null   float64\n",
      " 5   INSTALLMENTS_PURCHASES            8950 non-null   float64\n",
      " 6   CASH_ADVANCE                      8950 non-null   float64\n",
      " 7   PURCHASES_FREQUENCY               8950 non-null   float64\n",
      " 8   ONEOFF_PURCHASES_FREQUENCY        8950 non-null   float64\n",
      " 9   PURCHASES_INSTALLMENTS_FREQUENCY  8950 non-null   float64\n",
      " 10  CASH_ADVANCE_FREQUENCY            8950 non-null   float64\n",
      " 11  CASH_ADVANCE_TRX                  8950 non-null   int64  \n",
      " 12  PURCHASES_TRX                     8950 non-null   int64  \n",
      " 13  CREDIT_LIMIT                      8949 non-null   float64\n",
      " 14  PAYMENTS                          8950 non-null   float64\n",
      " 15  MINIMUM_PAYMENTS                  8637 non-null   float64\n",
      " 16  PRC_FULL_PAYMENT                  8950 non-null   float64\n",
      " 17  TENURE                            8950 non-null   int64  \n",
      "dtypes: float64(14), int64(3), object(1)\n",
      "memory usage: 1.2+ MB\n"
     ]
    }
   ],
   "source": [
    "dataset.info()"
   ]
  },
  {
   "cell_type": "code",
   "execution_count": 5,
   "metadata": {},
   "outputs": [
    {
     "data": {
      "text/plain": [
       "(8950, 18)"
      ]
     },
     "execution_count": 5,
     "metadata": {},
     "output_type": "execute_result"
    }
   ],
   "source": [
    "dataset.shape"
   ]
  },
  {
   "cell_type": "code",
   "execution_count": 6,
   "metadata": {},
   "outputs": [
    {
     "data": {
      "text/plain": [
       "CUST_ID                               0\n",
       "BALANCE                               0\n",
       "BALANCE_FREQUENCY                     0\n",
       "PURCHASES                             0\n",
       "ONEOFF_PURCHASES                      0\n",
       "INSTALLMENTS_PURCHASES                0\n",
       "CASH_ADVANCE                          0\n",
       "PURCHASES_FREQUENCY                   0\n",
       "ONEOFF_PURCHASES_FREQUENCY            0\n",
       "PURCHASES_INSTALLMENTS_FREQUENCY      0\n",
       "CASH_ADVANCE_FREQUENCY                0\n",
       "CASH_ADVANCE_TRX                      0\n",
       "PURCHASES_TRX                         0\n",
       "CREDIT_LIMIT                          1\n",
       "PAYMENTS                              0\n",
       "MINIMUM_PAYMENTS                    313\n",
       "PRC_FULL_PAYMENT                      0\n",
       "TENURE                                0\n",
       "dtype: int64"
      ]
     },
     "execution_count": 6,
     "metadata": {},
     "output_type": "execute_result"
    }
   ],
   "source": [
    "dataset.isnull().sum()"
   ]
  },
  {
   "cell_type": "markdown",
   "metadata": {},
   "source": [
    "### Exploratory Data Analysis\n",
    "#### Are customers with missing minimum payments showing a PRC_FULL_PAYMENT of 1?"
   ]
  },
  {
   "cell_type": "code",
   "execution_count": 7,
   "metadata": {},
   "outputs": [],
   "source": [
    "missing_min_payments = dataset[dataset['MINIMUM_PAYMENTS'].isna()]"
   ]
  },
  {
   "cell_type": "code",
   "execution_count": 8,
   "metadata": {},
   "outputs": [],
   "source": [
    "full_payment_count = missing_min_payments[missing_min_payments['PRC_FULL_PAYMENT'] == 1].shape[0]\n",
    "total_missing_min_payments = missing_min_payments.shape[0]\n",
    "percentage_full_payment = (full_payment_count / total_missing_min_payments) * 100"
   ]
  },
  {
   "cell_type": "code",
   "execution_count": 9,
   "metadata": {},
   "outputs": [
    {
     "name": "stdout",
     "output_type": "stream",
     "text": [
      "Number of customers with missing minimum payments: 313\n",
      "Number of these customers with PRC_FULL_PAYMENT = 1: 0\n",
      "Percentage of these customers with PRC_FULL_PAYMENT = 1: 0.00%\n"
     ]
    }
   ],
   "source": [
    "print(f\"Number of customers with missing minimum payments: {total_missing_min_payments}\")\n",
    "print(f\"Number of these customers with PRC_FULL_PAYMENT = 1: {full_payment_count}\")\n",
    "print(f\"Percentage of these customers with PRC_FULL_PAYMENT = 1: {percentage_full_payment:.2f}%\")"
   ]
  }
 ],
 "metadata": {
  "kernelspec": {
   "display_name": "Python 3",
   "language": "python",
   "name": "python3"
  },
  "language_info": {
   "codemirror_mode": {
    "name": "ipython",
    "version": 3
   },
   "file_extension": ".py",
   "mimetype": "text/x-python",
   "name": "python",
   "nbconvert_exporter": "python",
   "pygments_lexer": "ipython3",
   "version": "3.12.2"
  }
 },
 "nbformat": 4,
 "nbformat_minor": 2
}
