{
 "cells": [
  {
   "cell_type": "markdown",
   "metadata": {},
   "source": [
    "## Main Goal\n",
    "Clustering credit cards based on their buying habits, credit limits, and many other financial factors!  \n",
    "**Credit Cards Clustering** or **Credit Cards Segmentation**\n",
    "\n",
    "### Data Understanding\n",
    "The Sample Dataset summarizes the usage behavior of about 9000 active credit card holders during the last 6 months. The file is at a customer level with 18 behavioral variables.  \n",
    "The dataset has the following features:  \n",
    "1. **CUST_ID**: Identification of Credit Card holder (Categorical)\n",
    "2. **BALANCE**: Balance amount left in their account to make purchases \n",
    "3. **BALANCE_FREQUENCY**: How frequently the Balance is updated, score between 0 and 1 (1 = frequently updated, 0 = not frequently updated)\n",
    "4. **PURCHASES**: Amount of purchases made from account\n",
    "5. **ONEOFF_PURCHASES**: Maximum purchase amount done in one-go\n",
    "6. **INSTALLMENTS_PURCHASES**: Amount of purchase done in installment\n",
    "7. **CASH_ADVANCE**: Cash in advance given by the user\n",
    "8. **PURCHASES_FREQUENCY**: How frequently the Purchases are being made, score between 0 and 1 (1 = frequently purchased, 0 = not frequently purchased)\n",
    "9. **ONEOFFPURCHASESFREQUENCY**: How frequently Purchases are happening in one-go (1 = frequently purchased, 0 = not frequently purchased)\n",
    "10. **PURCHASESINSTALLMENTSFREQUENCY**: How frequently purchases in installments are being done (1 = frequently done, 0 = not frequently done)\n",
    "11. **CASHADVANCEFREQUENCY**: How frequently the cash in advance being paid\n",
    "12. **CASHADVANCETRX**: Number of Transactions made with \"Cash in Advanced\"\n",
    "13. **PURCHASES_TRX**: Numbe of purchase transactions made\n",
    "14. **CREDIT_LIMIT**: Limit of Credit Card for user\n",
    "15. **PAYMENTS**: Amount of Payment done by user\n",
    "16. **MINIMUM_PAYMENTS**: Minimum amount of payments made by user\n",
    "17. **PRCFULLPAYMENT**: Percent of full payment paid by user\n",
    "18. **TENURE**: Tenure of credit card service for user\n",
    "\n",
    "The dataset has the 8950 observations & 18 features!  \n",
    "The dataset can be accessed on: [https://www.kaggle.com/datasets/arjunbhasin2013/ccdata/data]"
   ]
  },
  {
   "cell_type": "markdown",
   "metadata": {},
   "source": []
  }
 ],
 "metadata": {
  "language_info": {
   "name": "python"
  }
 },
 "nbformat": 4,
 "nbformat_minor": 2
}
