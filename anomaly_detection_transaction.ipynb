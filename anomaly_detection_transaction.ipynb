{
 "cells": [
  {
   "cell_type": "markdown",
   "metadata": {},
   "source": [
    "## Main Goal\n",
    "The main goal of this project is identifying unusual or unexpected patterns within transactions or related activities.  \n",
    "**Anomaly detection**, sometimes called outlier detection, is a process of finding patterns or instances in a dataset that deviate significantly from the expected or “normal behavior.”\n",
    "\n",
    "### Data Understanding\n",
    "The dataset contains information about various financial transactions, each represented by several features:\n",
    "\n",
    "1. **Transaction_ID**: Unique identifier for each transaction.\n",
    "2. **Transaction_Amount**: The monetary value of the transaction.\n",
    "3. **Transaction_Volume**: The quantity or number of items/actions involved in the transaction.\n",
    "4. **Average_Transaction_Amount**: The historical average transaction amount for the account.\n",
    "5. **Frequency_of_Transactions**: How often transactions are typically performed by the account.\n",
    "6. **Time_Since_Last_Transaction**: Time elapsed since the last transaction.\n",
    "7. **Day_of_Week**: The day of the week when the transaction occurred.\n",
    "8. **Time_of_Day**: The time of day when the transaction occurred.\n",
    "9. **Age**: Age of the account holder.\n",
    "10. **Gender**: Gender of the account holder.\n",
    "11. **Income**: Income of the account holder.\n",
    "12. **Account_Type**: Type of account (e.g., personal, business)."
   ]
  },
  {
   "cell_type": "code",
   "execution_count": 9,
   "metadata": {},
   "outputs": [],
   "source": [
    "import pandas as pd\n",
    "import matplotlib.pyplot as plt\n",
    "import seaborn as sns"
   ]
  },
  {
   "cell_type": "code",
   "execution_count": 3,
   "metadata": {},
   "outputs": [],
   "source": [
    "dataset = pd.read_csv(\"datasets/transaction_anomalies_dataset.csv\")"
   ]
  },
  {
   "cell_type": "code",
   "execution_count": 5,
   "metadata": {},
   "outputs": [
    {
     "data": {
      "text/html": [
       "<div>\n",
       "<style scoped>\n",
       "    .dataframe tbody tr th:only-of-type {\n",
       "        vertical-align: middle;\n",
       "    }\n",
       "\n",
       "    .dataframe tbody tr th {\n",
       "        vertical-align: top;\n",
       "    }\n",
       "\n",
       "    .dataframe thead th {\n",
       "        text-align: right;\n",
       "    }\n",
       "</style>\n",
       "<table border=\"1\" class=\"dataframe\">\n",
       "  <thead>\n",
       "    <tr style=\"text-align: right;\">\n",
       "      <th></th>\n",
       "      <th>Transaction_ID</th>\n",
       "      <th>Transaction_Amount</th>\n",
       "      <th>Transaction_Volume</th>\n",
       "      <th>Average_Transaction_Amount</th>\n",
       "      <th>Frequency_of_Transactions</th>\n",
       "      <th>Time_Since_Last_Transaction</th>\n",
       "      <th>Day_of_Week</th>\n",
       "      <th>Time_of_Day</th>\n",
       "      <th>Age</th>\n",
       "      <th>Gender</th>\n",
       "      <th>Income</th>\n",
       "      <th>Account_Type</th>\n",
       "    </tr>\n",
       "  </thead>\n",
       "  <tbody>\n",
       "    <tr>\n",
       "      <th>0</th>\n",
       "      <td>TX0</td>\n",
       "      <td>1024.835708</td>\n",
       "      <td>3</td>\n",
       "      <td>997.234714</td>\n",
       "      <td>12</td>\n",
       "      <td>29</td>\n",
       "      <td>Friday</td>\n",
       "      <td>06:00</td>\n",
       "      <td>36</td>\n",
       "      <td>Male</td>\n",
       "      <td>1436074</td>\n",
       "      <td>Savings</td>\n",
       "    </tr>\n",
       "    <tr>\n",
       "      <th>1</th>\n",
       "      <td>TX1</td>\n",
       "      <td>1013.952065</td>\n",
       "      <td>4</td>\n",
       "      <td>1020.210306</td>\n",
       "      <td>7</td>\n",
       "      <td>22</td>\n",
       "      <td>Friday</td>\n",
       "      <td>01:00</td>\n",
       "      <td>41</td>\n",
       "      <td>Female</td>\n",
       "      <td>627069</td>\n",
       "      <td>Savings</td>\n",
       "    </tr>\n",
       "  </tbody>\n",
       "</table>\n",
       "</div>"
      ],
      "text/plain": [
       "  Transaction_ID  Transaction_Amount  Transaction_Volume  \\\n",
       "0            TX0         1024.835708                   3   \n",
       "1            TX1         1013.952065                   4   \n",
       "\n",
       "   Average_Transaction_Amount  Frequency_of_Transactions  \\\n",
       "0                  997.234714                         12   \n",
       "1                 1020.210306                          7   \n",
       "\n",
       "   Time_Since_Last_Transaction Day_of_Week Time_of_Day  Age  Gender   Income  \\\n",
       "0                           29      Friday       06:00   36    Male  1436074   \n",
       "1                           22      Friday       01:00   41  Female   627069   \n",
       "\n",
       "  Account_Type  \n",
       "0      Savings  \n",
       "1      Savings  "
      ]
     },
     "execution_count": 5,
     "metadata": {},
     "output_type": "execute_result"
    }
   ],
   "source": [
    "dataset.head(2)"
   ]
  },
  {
   "cell_type": "code",
   "execution_count": 6,
   "metadata": {},
   "outputs": [
    {
     "name": "stdout",
     "output_type": "stream",
     "text": [
      "<class 'pandas.core.frame.DataFrame'>\n",
      "RangeIndex: 1000 entries, 0 to 999\n",
      "Data columns (total 12 columns):\n",
      " #   Column                       Non-Null Count  Dtype  \n",
      "---  ------                       --------------  -----  \n",
      " 0   Transaction_ID               1000 non-null   object \n",
      " 1   Transaction_Amount           1000 non-null   float64\n",
      " 2   Transaction_Volume           1000 non-null   int64  \n",
      " 3   Average_Transaction_Amount   1000 non-null   float64\n",
      " 4   Frequency_of_Transactions    1000 non-null   int64  \n",
      " 5   Time_Since_Last_Transaction  1000 non-null   int64  \n",
      " 6   Day_of_Week                  1000 non-null   object \n",
      " 7   Time_of_Day                  1000 non-null   object \n",
      " 8   Age                          1000 non-null   int64  \n",
      " 9   Gender                       1000 non-null   object \n",
      " 10  Income                       1000 non-null   int64  \n",
      " 11  Account_Type                 1000 non-null   object \n",
      "dtypes: float64(2), int64(5), object(5)\n",
      "memory usage: 93.9+ KB\n"
     ]
    }
   ],
   "source": [
    "dataset.info()"
   ]
  },
  {
   "cell_type": "code",
   "execution_count": null,
   "metadata": {},
   "outputs": [
    {
     "data": {
      "text/plain": [
       "Transaction_ID                 0\n",
       "Transaction_Amount             0\n",
       "Transaction_Volume             0\n",
       "Average_Transaction_Amount     0\n",
       "Frequency_of_Transactions      0\n",
       "Time_Since_Last_Transaction    0\n",
       "Day_of_Week                    0\n",
       "Time_of_Day                    0\n",
       "Age                            0\n",
       "Gender                         0\n",
       "Income                         0\n",
       "Account_Type                   0\n",
       "dtype: int64"
      ]
     },
     "execution_count": 8,
     "metadata": {},
     "output_type": "execute_result"
    }
   ],
   "source": [
    "dataset.isnull().sum()"
   ]
  },
  {
   "cell_type": "markdown",
   "metadata": {},
   "source": [
    "### Exploratory Data Analysis\n",
    "#### What outliers exist in the distributions of Transaction_Amount and Transaction_Volume?"
   ]
  },
  {
   "cell_type": "code",
   "execution_count": 13,
   "metadata": {},
   "outputs": [
    {
     "data": {
      "image/png": "[encoded data removed]",
      "text/plain": [
       "<Figure size 1000x300 with 2 Axes>"
      ]
     },
     "metadata": {},
     "output_type": "display_data"
    }
   ],
   "source": [
    "# Create a figure and axis\n",
    "fig, axes = plt.subplots(1, 2, figsize=(10, 3))\n",
    "# Box plot for Transaction_Amount\n",
    "sns.boxplot(data=dataset, x='Transaction_Amount', ax=axes[0])\n",
    "axes[0].set_title('Box Plot of Transaction Amount')\n",
    "\n",
    "# Box plot for Transaction_Volume\n",
    "sns.boxplot(data=dataset, x='Transaction_Volume', ax=axes[1])\n",
    "axes[1].set_title('Box Plot of Transaction Volume')\n",
    "\n",
    "# Display the plots\n",
    "plt.tight_layout()\n",
    "plt.show()"
   ]
  },
  {
   "cell_type": "markdown",
   "metadata": {},
   "source": [
    "> Transaction Volume boxplot shows that this feature doesn't have any outliers! However the boxplot of Transaction Amount shows accounts with transaction amount equal to or above 2600 considered to be outliers!  \n",
    "\n",
    "#### Where does Transaction_Amount significantly deviate from the Average_Transaction_Amount for an account?"
   ]
  },
  {
   "cell_type": "code",
   "execution_count": 14,
   "metadata": {},
   "outputs": [],
   "source": [
    "# Calculate the difference\n",
    "dataset['Transaction_Deviation'] = dataset['Transaction_Amount'] - dataset['Average_Transaction_Amount']"
   ]
  },
  {
   "cell_type": "code",
   "execution_count": 15,
   "metadata": {},
   "outputs": [],
   "source": [
    "# Define a threshold (e.g., 20% of the Average_Transaction_Amount)\n",
    "threshold_percentage = 0.2\n",
    "dataset['Significant_Deviation'] = dataset['Transaction_Deviation'].abs() > (threshold_percentage * dataset['Average_Transaction_Amount'])"
   ]
  },
  {
   "cell_type": "code",
   "execution_count": 19,
   "metadata": {},
   "outputs": [
    {
     "data": {
      "text/html": [
       "<div>\n",
       "<style scoped>\n",
       "    .dataframe tbody tr th:only-of-type {\n",
       "        vertical-align: middle;\n",
       "    }\n",
       "\n",
       "    .dataframe tbody tr th {\n",
       "        vertical-align: top;\n",
       "    }\n",
       "\n",
       "    .dataframe thead th {\n",
       "        text-align: right;\n",
       "    }\n",
       "</style>\n",
       "<table border=\"1\" class=\"dataframe\">\n",
       "  <thead>\n",
       "    <tr style=\"text-align: right;\">\n",
       "      <th></th>\n",
       "      <th>Transaction_ID</th>\n",
       "      <th>Transaction_Amount</th>\n",
       "      <th>Transaction_Volume</th>\n",
       "      <th>Average_Transaction_Amount</th>\n",
       "      <th>Frequency_of_Transactions</th>\n",
       "      <th>Time_Since_Last_Transaction</th>\n",
       "      <th>Day_of_Week</th>\n",
       "      <th>Time_of_Day</th>\n",
       "      <th>Age</th>\n",
       "      <th>Gender</th>\n",
       "      <th>Income</th>\n",
       "      <th>Account_Type</th>\n",
       "      <th>Transaction_Deviation</th>\n",
       "      <th>Significant_Deviation</th>\n",
       "    </tr>\n",
       "  </thead>\n",
       "  <tbody>\n",
       "    <tr>\n",
       "      <th>59</th>\n",
       "      <td>TX59</td>\n",
       "      <td>2769.890232</td>\n",
       "      <td>3</td>\n",
       "      <td>1007.261392</td>\n",
       "      <td>17</td>\n",
       "      <td>23</td>\n",
       "      <td>Monday</td>\n",
       "      <td>02:00</td>\n",
       "      <td>58</td>\n",
       "      <td>Male</td>\n",
       "      <td>1198320</td>\n",
       "      <td>Current</td>\n",
       "      <td>1762.628840</td>\n",
       "      <td>True</td>\n",
       "    </tr>\n",
       "    <tr>\n",
       "      <th>147</th>\n",
       "      <td>TX147</td>\n",
       "      <td>2802.097817</td>\n",
       "      <td>2</td>\n",
       "      <td>995.475096</td>\n",
       "      <td>12</td>\n",
       "      <td>19</td>\n",
       "      <td>Sunday</td>\n",
       "      <td>20:00</td>\n",
       "      <td>34</td>\n",
       "      <td>Female</td>\n",
       "      <td>694966</td>\n",
       "      <td>Savings</td>\n",
       "      <td>1806.622721</td>\n",
       "      <td>True</td>\n",
       "    </tr>\n",
       "  </tbody>\n",
       "</table>\n",
       "</div>"
      ],
      "text/plain": [
       "    Transaction_ID  Transaction_Amount  Transaction_Volume  \\\n",
       "59            TX59         2769.890232                   3   \n",
       "147          TX147         2802.097817                   2   \n",
       "\n",
       "     Average_Transaction_Amount  Frequency_of_Transactions  \\\n",
       "59                  1007.261392                         17   \n",
       "147                  995.475096                         12   \n",
       "\n",
       "     Time_Since_Last_Transaction Day_of_Week Time_of_Day  Age  Gender  \\\n",
       "59                            23      Monday       02:00   58    Male   \n",
       "147                           19      Sunday       20:00   34  Female   \n",
       "\n",
       "      Income Account_Type  Transaction_Deviation  Significant_Deviation  \n",
       "59   1198320      Current            1762.628840                   True  \n",
       "147   694966      Savings            1806.622721                   True  "
      ]
     },
     "execution_count": 19,
     "metadata": {},
     "output_type": "execute_result"
    }
   ],
   "source": [
    "# Filter the dataset for significant deviations\n",
    "significant_deviations = dataset[dataset['Significant_Deviation']]\n",
    "\n",
    "# Display the rows with significant deviations\n",
    "significant_deviations.head(2)"
   ]
  },
  {
   "cell_type": "code",
   "execution_count": null,
   "metadata": {},
   "outputs": [],
   "source": []
  }
 ],
 "metadata": {
  "kernelspec": {
   "display_name": "Python 3",
   "language": "python",
   "name": "python3"
  },
  "language_info": {
   "codemirror_mode": {
    "name": "ipython",
    "version": 3
   },
   "file_extension": ".py",
   "mimetype": "text/x-python",
   "name": "python",
   "nbconvert_exporter": "python",
   "pygments_lexer": "ipython3",
   "version": "3.12.2"
  }
 },
 "nbformat": 4,
 "nbformat_minor": 2
}
