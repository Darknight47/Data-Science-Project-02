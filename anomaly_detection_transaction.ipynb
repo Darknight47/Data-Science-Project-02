{
 "cells": [
  {
   "cell_type": "markdown",
   "metadata": {},
   "source": [
    "## Main Goal\n",
    "The main goal of this project is identifying unusual or unexpected patterns within transactions or related activities.  \n",
    "**Anomaly detection**, sometimes called outlier detection, is a process of finding patterns or instances in a dataset that deviate significantly from the expected or “normal behavior.”\n",
    "\n",
    "### Data Understanding\n",
    "The dataset contains information about various financial transactions, each represented by several features:\n",
    "\n",
    "1. **Transaction_ID**: Unique identifier for each transaction.\n",
    "2. **Transaction_Amount**: The monetary value of the transaction.\n",
    "3. **Transaction_Volume**: The quantity or number of items/actions involved in the transaction.\n",
    "4. **Average_Transaction_Amount**: The historical average transaction amount for the account.\n",
    "5. **Frequency_of_Transactions**: How often transactions are typically performed by the account.\n",
    "6. **Time_Since_Last_Transaction**: Time elapsed since the last transaction.\n",
    "7. **Day_of_Week**: The day of the week when the transaction occurred.\n",
    "8. **Time_of_Day**: The time of day when the transaction occurred.\n",
    "9. **Age**: Age of the account holder.\n",
    "10. **Gender**: Gender of the account holder.\n",
    "11. **Income**: Income of the account holder.\n",
    "12. **Account_Type**: Type of account (e.g., personal, business)."
   ]
  },
  {
   "cell_type": "code",
   "execution_count": 1,
   "metadata": {},
   "outputs": [],
   "source": [
    "import pandas as pd\n",
    "import matplotlib.pyplot as plt\n",
    "import seaborn as sns"
   ]
  },
  {
   "cell_type": "code",
   "execution_count": 2,
   "metadata": {},
   "outputs": [],
   "source": [
    "dataset = pd.read_csv(\"datasets/transaction_anomalies_dataset.csv\")"
   ]
  },
  {
   "cell_type": "code",
   "execution_count": 3,
   "metadata": {},
   "outputs": [
    {
     "data": {
      "text/html": [
       "<div>\n",
       "<style scoped>\n",
       "    .dataframe tbody tr th:only-of-type {\n",
       "        vertical-align: middle;\n",
       "    }\n",
       "\n",
       "    .dataframe tbody tr th {\n",
       "        vertical-align: top;\n",
       "    }\n",
       "\n",
       "    .dataframe thead th {\n",
       "        text-align: right;\n",
       "    }\n",
       "</style>\n",
       "<table border=\"1\" class=\"dataframe\">\n",
       "  <thead>\n",
       "    <tr style=\"text-align: right;\">\n",
       "      <th></th>\n",
       "      <th>Transaction_ID</th>\n",
       "      <th>Transaction_Amount</th>\n",
       "      <th>Transaction_Volume</th>\n",
       "      <th>Average_Transaction_Amount</th>\n",
       "      <th>Frequency_of_Transactions</th>\n",
       "      <th>Time_Since_Last_Transaction</th>\n",
       "      <th>Day_of_Week</th>\n",
       "      <th>Time_of_Day</th>\n",
       "      <th>Age</th>\n",
       "      <th>Gender</th>\n",
       "      <th>Income</th>\n",
       "      <th>Account_Type</th>\n",
       "    </tr>\n",
       "  </thead>\n",
       "  <tbody>\n",
       "    <tr>\n",
       "      <th>0</th>\n",
       "      <td>TX0</td>\n",
       "      <td>1024.835708</td>\n",
       "      <td>3</td>\n",
       "      <td>997.234714</td>\n",
       "      <td>12</td>\n",
       "      <td>29</td>\n",
       "      <td>Friday</td>\n",
       "      <td>06:00</td>\n",
       "      <td>36</td>\n",
       "      <td>Male</td>\n",
       "      <td>1436074</td>\n",
       "      <td>Savings</td>\n",
       "    </tr>\n",
       "    <tr>\n",
       "      <th>1</th>\n",
       "      <td>TX1</td>\n",
       "      <td>1013.952065</td>\n",
       "      <td>4</td>\n",
       "      <td>1020.210306</td>\n",
       "      <td>7</td>\n",
       "      <td>22</td>\n",
       "      <td>Friday</td>\n",
       "      <td>01:00</td>\n",
       "      <td>41</td>\n",
       "      <td>Female</td>\n",
       "      <td>627069</td>\n",
       "      <td>Savings</td>\n",
       "    </tr>\n",
       "  </tbody>\n",
       "</table>\n",
       "</div>"
      ],
      "text/plain": [
       "  Transaction_ID  Transaction_Amount  Transaction_Volume  \\\n",
       "0            TX0         1024.835708                   3   \n",
       "1            TX1         1013.952065                   4   \n",
       "\n",
       "   Average_Transaction_Amount  Frequency_of_Transactions  \\\n",
       "0                  997.234714                         12   \n",
       "1                 1020.210306                          7   \n",
       "\n",
       "   Time_Since_Last_Transaction Day_of_Week Time_of_Day  Age  Gender   Income  \\\n",
       "0                           29      Friday       06:00   36    Male  1436074   \n",
       "1                           22      Friday       01:00   41  Female   627069   \n",
       "\n",
       "  Account_Type  \n",
       "0      Savings  \n",
       "1      Savings  "
      ]
     },
     "execution_count": 3,
     "metadata": {},
     "output_type": "execute_result"
    }
   ],
   "source": [
    "dataset.head(2)"
   ]
  },
  {
   "cell_type": "code",
   "execution_count": 4,
   "metadata": {},
   "outputs": [
    {
     "name": "stdout",
     "output_type": "stream",
     "text": [
      "<class 'pandas.core.frame.DataFrame'>\n",
      "RangeIndex: 1000 entries, 0 to 999\n",
      "Data columns (total 12 columns):\n",
      " #   Column                       Non-Null Count  Dtype  \n",
      "---  ------                       --------------  -----  \n",
      " 0   Transaction_ID               1000 non-null   object \n",
      " 1   Transaction_Amount           1000 non-null   float64\n",
      " 2   Transaction_Volume           1000 non-null   int64  \n",
      " 3   Average_Transaction_Amount   1000 non-null   float64\n",
      " 4   Frequency_of_Transactions    1000 non-null   int64  \n",
      " 5   Time_Since_Last_Transaction  1000 non-null   int64  \n",
      " 6   Day_of_Week                  1000 non-null   object \n",
      " 7   Time_of_Day                  1000 non-null   object \n",
      " 8   Age                          1000 non-null   int64  \n",
      " 9   Gender                       1000 non-null   object \n",
      " 10  Income                       1000 non-null   int64  \n",
      " 11  Account_Type                 1000 non-null   object \n",
      "dtypes: float64(2), int64(5), object(5)\n",
      "memory usage: 93.9+ KB\n"
     ]
    }
   ],
   "source": [
    "dataset.info()"
   ]
  },
  {
   "cell_type": "code",
   "execution_count": 5,
   "metadata": {},
   "outputs": [
    {
     "data": {
      "text/plain": [
       "Transaction_ID                 0\n",
       "Transaction_Amount             0\n",
       "Transaction_Volume             0\n",
       "Average_Transaction_Amount     0\n",
       "Frequency_of_Transactions      0\n",
       "Time_Since_Last_Transaction    0\n",
       "Day_of_Week                    0\n",
       "Time_of_Day                    0\n",
       "Age                            0\n",
       "Gender                         0\n",
       "Income                         0\n",
       "Account_Type                   0\n",
       "dtype: int64"
      ]
     },
     "execution_count": 5,
     "metadata": {},
     "output_type": "execute_result"
    }
   ],
   "source": [
    "dataset.isnull().sum()"
   ]
  },
  {
   "cell_type": "markdown",
   "metadata": {},
   "source": [
    "### Exploratory Data Analysis\n",
    "#### What outliers exist in the distributions of Transaction_Amount and Transaction_Volume?"
   ]
  },
  {
   "cell_type": "code",
   "execution_count": 6,
   "metadata": {},
   "outputs": [
    {
     "data": {
      "image/png": "[encoded data removed]",
      "text/plain": [
       "<Figure size 1000x300 with 2 Axes>"
      ]
     },
     "metadata": {},
     "output_type": "display_data"
    }
   ],
   "source": [
    "# Create a figure and axis\n",
    "fig, axes = plt.subplots(1, 2, figsize=(10, 3))\n",
    "# Box plot for Transaction_Amount\n",
    "sns.boxplot(data=dataset, x='Transaction_Amount', ax=axes[0])\n",
    "axes[0].set_title('Box Plot of Transaction Amount')\n",
    "\n",
    "# Box plot for Transaction_Volume\n",
    "sns.boxplot(data=dataset, x='Transaction_Volume', ax=axes[1])\n",
    "axes[1].set_title('Box Plot of Transaction Volume')\n",
    "\n",
    "# Display the plots\n",
    "plt.tight_layout()\n",
    "plt.show()"
   ]
  },
  {
   "cell_type": "markdown",
   "metadata": {},
   "source": [
    "> Transaction Volume boxplot shows that this feature doesn't have any outliers! However the boxplot of Transaction Amount shows accounts with transaction amount equal to or above 2600 considered to be outliers!  \n",
    "\n",
    "#### Where does Transaction_Amount significantly deviate from the Average_Transaction_Amount for an account?"
   ]
  },
  {
   "cell_type": "code",
   "execution_count": 7,
   "metadata": {},
   "outputs": [],
   "source": [
    "# Calculate the difference\n",
    "dataset['Transaction_Deviation'] = dataset['Transaction_Amount'] - dataset['Average_Transaction_Amount']"
   ]
  },
  {
   "cell_type": "code",
   "execution_count": 8,
   "metadata": {},
   "outputs": [],
   "source": [
    "# Define a threshold (e.g., 20% of the Average_Transaction_Amount)\n",
    "threshold_percentage = 0.2\n",
    "dataset['Significant_Deviation'] = dataset['Transaction_Deviation'].abs() > (threshold_percentage * dataset['Average_Transaction_Amount'])"
   ]
  },
  {
   "cell_type": "code",
   "execution_count": 9,
   "metadata": {},
   "outputs": [
    {
     "data": {
      "text/html": [
       "<div>\n",
       "<style scoped>\n",
       "    .dataframe tbody tr th:only-of-type {\n",
       "        vertical-align: middle;\n",
       "    }\n",
       "\n",
       "    .dataframe tbody tr th {\n",
       "        vertical-align: top;\n",
       "    }\n",
       "\n",
       "    .dataframe thead th {\n",
       "        text-align: right;\n",
       "    }\n",
       "</style>\n",
       "<table border=\"1\" class=\"dataframe\">\n",
       "  <thead>\n",
       "    <tr style=\"text-align: right;\">\n",
       "      <th></th>\n",
       "      <th>Transaction_ID</th>\n",
       "      <th>Transaction_Amount</th>\n",
       "      <th>Transaction_Volume</th>\n",
       "      <th>Average_Transaction_Amount</th>\n",
       "      <th>Frequency_of_Transactions</th>\n",
       "      <th>Time_Since_Last_Transaction</th>\n",
       "      <th>Day_of_Week</th>\n",
       "      <th>Time_of_Day</th>\n",
       "      <th>Age</th>\n",
       "      <th>Gender</th>\n",
       "      <th>Income</th>\n",
       "      <th>Account_Type</th>\n",
       "      <th>Transaction_Deviation</th>\n",
       "      <th>Significant_Deviation</th>\n",
       "    </tr>\n",
       "  </thead>\n",
       "  <tbody>\n",
       "    <tr>\n",
       "      <th>59</th>\n",
       "      <td>TX59</td>\n",
       "      <td>2769.890232</td>\n",
       "      <td>3</td>\n",
       "      <td>1007.261392</td>\n",
       "      <td>17</td>\n",
       "      <td>23</td>\n",
       "      <td>Monday</td>\n",
       "      <td>02:00</td>\n",
       "      <td>58</td>\n",
       "      <td>Male</td>\n",
       "      <td>1198320</td>\n",
       "      <td>Current</td>\n",
       "      <td>1762.628840</td>\n",
       "      <td>True</td>\n",
       "    </tr>\n",
       "    <tr>\n",
       "      <th>147</th>\n",
       "      <td>TX147</td>\n",
       "      <td>2802.097817</td>\n",
       "      <td>2</td>\n",
       "      <td>995.475096</td>\n",
       "      <td>12</td>\n",
       "      <td>19</td>\n",
       "      <td>Sunday</td>\n",
       "      <td>20:00</td>\n",
       "      <td>34</td>\n",
       "      <td>Female</td>\n",
       "      <td>694966</td>\n",
       "      <td>Savings</td>\n",
       "      <td>1806.622721</td>\n",
       "      <td>True</td>\n",
       "    </tr>\n",
       "  </tbody>\n",
       "</table>\n",
       "</div>"
      ],
      "text/plain": [
       "    Transaction_ID  Transaction_Amount  Transaction_Volume  \\\n",
       "59            TX59         2769.890232                   3   \n",
       "147          TX147         2802.097817                   2   \n",
       "\n",
       "     Average_Transaction_Amount  Frequency_of_Transactions  \\\n",
       "59                  1007.261392                         17   \n",
       "147                  995.475096                         12   \n",
       "\n",
       "     Time_Since_Last_Transaction Day_of_Week Time_of_Day  Age  Gender  \\\n",
       "59                            23      Monday       02:00   58    Male   \n",
       "147                           19      Sunday       20:00   34  Female   \n",
       "\n",
       "      Income Account_Type  Transaction_Deviation  Significant_Deviation  \n",
       "59   1198320      Current            1762.628840                   True  \n",
       "147   694966      Savings            1806.622721                   True  "
      ]
     },
     "execution_count": 9,
     "metadata": {},
     "output_type": "execute_result"
    }
   ],
   "source": [
    "# Filter the dataset for significant deviations\n",
    "significant_deviations = dataset[dataset['Significant_Deviation']]\n",
    "\n",
    "# Display the rows with significant deviations\n",
    "# significant_deviations.shape[1] 14 observations\n",
    "significant_deviations.head(2)"
   ]
  },
  {
   "cell_type": "markdown",
   "metadata": {},
   "source": [
    "> There are 14 observations that have significant deviation!\n",
    "\n",
    "#### How does Frequency_of_Transactions vary across Account_Type, and do any accounts exhibit unusual frequencies?"
   ]
  },
  {
   "cell_type": "code",
   "execution_count": 10,
   "metadata": {},
   "outputs": [
    {
     "data": {
      "text/html": [
       "<div>\n",
       "<style scoped>\n",
       "    .dataframe tbody tr th:only-of-type {\n",
       "        vertical-align: middle;\n",
       "    }\n",
       "\n",
       "    .dataframe tbody tr th {\n",
       "        vertical-align: top;\n",
       "    }\n",
       "\n",
       "    .dataframe thead th {\n",
       "        text-align: right;\n",
       "    }\n",
       "</style>\n",
       "<table border=\"1\" class=\"dataframe\">\n",
       "  <thead>\n",
       "    <tr style=\"text-align: right;\">\n",
       "      <th></th>\n",
       "      <th>count</th>\n",
       "      <th>mean</th>\n",
       "      <th>std</th>\n",
       "      <th>min</th>\n",
       "      <th>25%</th>\n",
       "      <th>50%</th>\n",
       "      <th>75%</th>\n",
       "      <th>max</th>\n",
       "    </tr>\n",
       "    <tr>\n",
       "      <th>Account_Type</th>\n",
       "      <th></th>\n",
       "      <th></th>\n",
       "      <th></th>\n",
       "      <th></th>\n",
       "      <th></th>\n",
       "      <th></th>\n",
       "      <th></th>\n",
       "      <th></th>\n",
       "    </tr>\n",
       "  </thead>\n",
       "  <tbody>\n",
       "    <tr>\n",
       "      <th>Current</th>\n",
       "      <td>516.0</td>\n",
       "      <td>11.775194</td>\n",
       "      <td>4.254049</td>\n",
       "      <td>5.0</td>\n",
       "      <td>8.0</td>\n",
       "      <td>12.0</td>\n",
       "      <td>15.0</td>\n",
       "      <td>19.0</td>\n",
       "    </tr>\n",
       "    <tr>\n",
       "      <th>Savings</th>\n",
       "      <td>484.0</td>\n",
       "      <td>12.400826</td>\n",
       "      <td>4.216265</td>\n",
       "      <td>5.0</td>\n",
       "      <td>9.0</td>\n",
       "      <td>12.0</td>\n",
       "      <td>16.0</td>\n",
       "      <td>19.0</td>\n",
       "    </tr>\n",
       "  </tbody>\n",
       "</table>\n",
       "</div>"
      ],
      "text/plain": [
       "              count       mean       std  min  25%   50%   75%   max\n",
       "Account_Type                                                        \n",
       "Current       516.0  11.775194  4.254049  5.0  8.0  12.0  15.0  19.0\n",
       "Savings       484.0  12.400826  4.216265  5.0  9.0  12.0  16.0  19.0"
      ]
     },
     "execution_count": 10,
     "metadata": {},
     "output_type": "execute_result"
    }
   ],
   "source": [
    "# Group by Account_Type and calculate summary statistics\n",
    "summary_stats = dataset.groupby('Account_Type')['Frequency_of_Transactions'].describe()\n",
    "summary_stats"
   ]
  },
  {
   "cell_type": "code",
   "execution_count": 11,
   "metadata": {},
   "outputs": [
    {
     "data": {
      "image/png": "[encoded data removed]",
      "text/plain": [
       "<Figure size 1000x600 with 1 Axes>"
      ]
     },
     "metadata": {},
     "output_type": "display_data"
    }
   ],
   "source": [
    "# Visualization using box plot\n",
    "plt.figure(figsize=(10, 6))\n",
    "sns.boxplot(data=dataset, x='Account_Type', y='Frequency_of_Transactions')\n",
    "plt.title('Frequency of Transactions by Account Type')\n",
    "plt.xlabel('Account Type')\n",
    "plt.ylabel('Frequency of Transactions')\n",
    "plt.show()"
   ]
  },
  {
   "cell_type": "markdown",
   "metadata": {},
   "source": [
    "> Based on the close means and almost identical standard deviations, we can infer that the frequency of transactions is quite similar for both Current and Savings account types.  \n",
    "This suggests that there isn't a significant difference in transaction behavior between the two account types, indicating consistency in how often transactions are performed.  \n",
    "\n",
    "#### Do patterns in Time_Since_Last_Transaction reveal sudden large transactions after periods of inactivity?"
   ]
  },
  {
   "cell_type": "code",
   "execution_count": 12,
   "metadata": {},
   "outputs": [],
   "source": [
    "dataset_cpy = dataset.copy()"
   ]
  },
  {
   "cell_type": "code",
   "execution_count": 13,
   "metadata": {},
   "outputs": [],
   "source": [
    "# Sort dataset by account and transaction time. Making sure that transactions for each account type are ordered chronologically, \n",
    "# This way, we can accurately calculate the difference between consecutive transactions for each account.\n",
    "dataset_cpy = dataset_cpy.sort_values(by=['Account_Type', 'Time_Since_Last_Transaction'])\n",
    "\n",
    "# Calculate the difference in Transaction_Amount from the previous transaction\n",
    "dataset_cpy['Transaction_Diff'] = dataset_cpy.groupby('Account_Type')['Transaction_Amount'].diff()\n",
    "# By grouping the transactions by Account_Type, we ensure that differences are calculated within each account type, not across different accounts. \n",
    "# This avoids comparing transactions from different accounts, ensuring the analysis remains accurate and relevant to each individual account type."
   ]
  },
  {
   "cell_type": "code",
   "execution_count": 14,
   "metadata": {},
   "outputs": [],
   "source": [
    "# Define a threshold for large transactions (e.g., 2 times the average transaction amount)\n",
    "average_transaction_amount = dataset_cpy['Transaction_Amount'].mean()\n",
    "large_transaction_threshold = 2 * average_transaction_amount"
   ]
  },
  {
   "cell_type": "code",
   "execution_count": 15,
   "metadata": {},
   "outputs": [],
   "source": [
    "# Flag large transactions\n",
    "dataset_cpy['Large_Transaction'] = dataset_cpy['Transaction_Amount'] > large_transaction_threshold"
   ]
  },
  {
   "cell_type": "code",
   "execution_count": 16,
   "metadata": {},
   "outputs": [
    {
     "data": {
      "image/png": "[encoded data removed]",
      "text/plain": [
       "<Figure size 1000x500 with 1 Axes>"
      ]
     },
     "metadata": {},
     "output_type": "display_data"
    }
   ],
   "source": [
    "# Scatter plot to observe the relationship between Time_Since_Last_Transaction and Transaction_Amount\n",
    "plt.figure(figsize=(10, 5))\n",
    "sns.scatterplot(data=dataset_cpy, x='Time_Since_Last_Transaction', y='Transaction_Amount', hue='Large_Transaction')\n",
    "plt.title('Transaction Amount vs. Time Since Last Transaction')\n",
    "plt.xlabel('Time Since Last Transaction')\n",
    "plt.ylabel('Transaction Amount')\n",
    "plt.show()"
   ]
  },
  {
   "cell_type": "markdown",
   "metadata": {},
   "source": [
    "> There are 20 transactions identified with significant deviations, represented by orange circles around a Transaction_Amount of approximately 3000.   \n",
    "These 20 transactions are indicative of a pattern where certain accounts exhibit large transactions following long periods of no activity. This could be a flag for further investigation, as it may point to anomalous behavior or specific account activities that warrant closer scrutiny.\n",
    "\n",
    "#### Are there unusual spikes in Transaction_Amount based on Time_of_Day or Day_of_Week?"
   ]
  },
  {
   "cell_type": "code",
   "execution_count": 21,
   "metadata": {},
   "outputs": [],
   "source": [
    "# Calculate summary statistics for Transaction_Amount based on Time_of_Day and Day_of_Week\n",
    "time_stats = dataset.groupby('Time_of_Day')['Transaction_Amount'].describe()\n",
    "day_stats = dataset.groupby('Day_of_Week')['Transaction_Amount'].describe()"
   ]
  },
  {
   "cell_type": "code",
   "execution_count": 22,
   "metadata": {},
   "outputs": [
    {
     "data": {
      "text/html": [
       "<div>\n",
       "<style scoped>\n",
       "    .dataframe tbody tr th:only-of-type {\n",
       "        vertical-align: middle;\n",
       "    }\n",
       "\n",
       "    .dataframe tbody tr th {\n",
       "        vertical-align: top;\n",
       "    }\n",
       "\n",
       "    .dataframe thead th {\n",
       "        text-align: right;\n",
       "    }\n",
       "</style>\n",
       "<table border=\"1\" class=\"dataframe\">\n",
       "  <thead>\n",
       "    <tr style=\"text-align: right;\">\n",
       "      <th></th>\n",
       "      <th>count</th>\n",
       "      <th>mean</th>\n",
       "      <th>std</th>\n",
       "      <th>min</th>\n",
       "      <th>25%</th>\n",
       "      <th>50%</th>\n",
       "      <th>75%</th>\n",
       "      <th>max</th>\n",
       "    </tr>\n",
       "    <tr>\n",
       "      <th>Time_of_Day</th>\n",
       "      <th></th>\n",
       "      <th></th>\n",
       "      <th></th>\n",
       "      <th></th>\n",
       "      <th></th>\n",
       "      <th></th>\n",
       "      <th></th>\n",
       "      <th></th>\n",
       "    </tr>\n",
       "  </thead>\n",
       "  <tbody>\n",
       "    <tr>\n",
       "      <th>00:00</th>\n",
       "      <td>36.0</td>\n",
       "      <td>1054.180100</td>\n",
       "      <td>352.565091</td>\n",
       "      <td>908.415888</td>\n",
       "      <td>971.139163</td>\n",
       "      <td>997.205361</td>\n",
       "      <td>1026.967168</td>\n",
       "      <td>3091.310338</td>\n",
       "    </tr>\n",
       "    <tr>\n",
       "      <th>01:00</th>\n",
       "      <td>40.0</td>\n",
       "      <td>1007.167239</td>\n",
       "      <td>37.813933</td>\n",
       "      <td>935.342923</td>\n",
       "      <td>979.105660</td>\n",
       "      <td>1006.292417</td>\n",
       "      <td>1034.224871</td>\n",
       "      <td>1090.584603</td>\n",
       "    </tr>\n",
       "    <tr>\n",
       "      <th>02:00</th>\n",
       "      <td>44.0</td>\n",
       "      <td>1040.683808</td>\n",
       "      <td>270.919497</td>\n",
       "      <td>922.328610</td>\n",
       "      <td>964.938934</td>\n",
       "      <td>1001.581012</td>\n",
       "      <td>1048.185703</td>\n",
       "      <td>2769.890232</td>\n",
       "    </tr>\n",
       "    <tr>\n",
       "      <th>03:00</th>\n",
       "      <td>47.0</td>\n",
       "      <td>1024.505359</td>\n",
       "      <td>261.722577</td>\n",
       "      <td>869.789307</td>\n",
       "      <td>957.106813</td>\n",
       "      <td>989.700514</td>\n",
       "      <td>1015.495863</td>\n",
       "      <td>2752.637650</td>\n",
       "    </tr>\n",
       "    <tr>\n",
       "      <th>04:00</th>\n",
       "      <td>47.0</td>\n",
       "      <td>1029.633205</td>\n",
       "      <td>314.202845</td>\n",
       "      <td>897.778849</td>\n",
       "      <td>951.621877</td>\n",
       "      <td>987.079964</td>\n",
       "      <td>1013.471925</td>\n",
       "      <td>3108.424034</td>\n",
       "    </tr>\n",
       "  </tbody>\n",
       "</table>\n",
       "</div>"
      ],
      "text/plain": [
       "             count         mean         std         min         25%  \\\n",
       "Time_of_Day                                                           \n",
       "00:00         36.0  1054.180100  352.565091  908.415888  971.139163   \n",
       "01:00         40.0  1007.167239   37.813933  935.342923  979.105660   \n",
       "02:00         44.0  1040.683808  270.919497  922.328610  964.938934   \n",
       "03:00         47.0  1024.505359  261.722577  869.789307  957.106813   \n",
       "04:00         47.0  1029.633205  314.202845  897.778849  951.621877   \n",
       "\n",
       "                     50%          75%          max  \n",
       "Time_of_Day                                         \n",
       "00:00         997.205361  1026.967168  3091.310338  \n",
       "01:00        1006.292417  1034.224871  1090.584603  \n",
       "02:00        1001.581012  1048.185703  2769.890232  \n",
       "03:00         989.700514  1015.495863  2752.637650  \n",
       "04:00         987.079964  1013.471925  3108.424034  "
      ]
     },
     "execution_count": 22,
     "metadata": {},
     "output_type": "execute_result"
    }
   ],
   "source": [
    "time_stats.head()"
   ]
  },
  {
   "cell_type": "code",
   "execution_count": 23,
   "metadata": {},
   "outputs": [
    {
     "data": {
      "text/html": [
       "<div>\n",
       "<style scoped>\n",
       "    .dataframe tbody tr th:only-of-type {\n",
       "        vertical-align: middle;\n",
       "    }\n",
       "\n",
       "    .dataframe tbody tr th {\n",
       "        vertical-align: top;\n",
       "    }\n",
       "\n",
       "    .dataframe thead th {\n",
       "        text-align: right;\n",
       "    }\n",
       "</style>\n",
       "<table border=\"1\" class=\"dataframe\">\n",
       "  <thead>\n",
       "    <tr style=\"text-align: right;\">\n",
       "      <th></th>\n",
       "      <th>count</th>\n",
       "      <th>mean</th>\n",
       "      <th>std</th>\n",
       "      <th>min</th>\n",
       "      <th>25%</th>\n",
       "      <th>50%</th>\n",
       "      <th>75%</th>\n",
       "      <th>max</th>\n",
       "    </tr>\n",
       "    <tr>\n",
       "      <th>Day_of_Week</th>\n",
       "      <th></th>\n",
       "      <th></th>\n",
       "      <th></th>\n",
       "      <th></th>\n",
       "      <th></th>\n",
       "      <th></th>\n",
       "      <th></th>\n",
       "      <th></th>\n",
       "    </tr>\n",
       "  </thead>\n",
       "  <tbody>\n",
       "    <tr>\n",
       "      <th>Friday</th>\n",
       "      <td>143.0</td>\n",
       "      <td>1000.577528</td>\n",
       "      <td>52.888368</td>\n",
       "      <td>876.417775</td>\n",
       "      <td>957.967379</td>\n",
       "      <td>1002.677032</td>\n",
       "      <td>1038.356210</td>\n",
       "      <td>1119.451798</td>\n",
       "    </tr>\n",
       "    <tr>\n",
       "      <th>Monday</th>\n",
       "      <td>132.0</td>\n",
       "      <td>1054.917298</td>\n",
       "      <td>347.938338</td>\n",
       "      <td>868.810588</td>\n",
       "      <td>965.187092</td>\n",
       "      <td>997.895165</td>\n",
       "      <td>1028.133678</td>\n",
       "      <td>3166.250653</td>\n",
       "    </tr>\n",
       "    <tr>\n",
       "      <th>Saturday</th>\n",
       "      <td>127.0</td>\n",
       "      <td>1058.819426</td>\n",
       "      <td>335.790028</td>\n",
       "      <td>849.024392</td>\n",
       "      <td>966.522053</td>\n",
       "      <td>1003.392776</td>\n",
       "      <td>1036.097924</td>\n",
       "      <td>3094.646173</td>\n",
       "    </tr>\n",
       "    <tr>\n",
       "      <th>Sunday</th>\n",
       "      <td>145.0</td>\n",
       "      <td>1070.115473</td>\n",
       "      <td>374.959044</td>\n",
       "      <td>869.789307</td>\n",
       "      <td>968.498751</td>\n",
       "      <td>1005.779900</td>\n",
       "      <td>1042.922556</td>\n",
       "      <td>3218.959781</td>\n",
       "    </tr>\n",
       "    <tr>\n",
       "      <th>Thursday</th>\n",
       "      <td>148.0</td>\n",
       "      <td>1056.614627</td>\n",
       "      <td>337.411251</td>\n",
       "      <td>890.019464</td>\n",
       "      <td>970.992310</td>\n",
       "      <td>1007.195432</td>\n",
       "      <td>1028.795720</td>\n",
       "      <td>3227.459108</td>\n",
       "    </tr>\n",
       "  </tbody>\n",
       "</table>\n",
       "</div>"
      ],
      "text/plain": [
       "             count         mean         std         min         25%  \\\n",
       "Day_of_Week                                                           \n",
       "Friday       143.0  1000.577528   52.888368  876.417775  957.967379   \n",
       "Monday       132.0  1054.917298  347.938338  868.810588  965.187092   \n",
       "Saturday     127.0  1058.819426  335.790028  849.024392  966.522053   \n",
       "Sunday       145.0  1070.115473  374.959044  869.789307  968.498751   \n",
       "Thursday     148.0  1056.614627  337.411251  890.019464  970.992310   \n",
       "\n",
       "                     50%          75%          max  \n",
       "Day_of_Week                                         \n",
       "Friday       1002.677032  1038.356210  1119.451798  \n",
       "Monday        997.895165  1028.133678  3166.250653  \n",
       "Saturday     1003.392776  1036.097924  3094.646173  \n",
       "Sunday       1005.779900  1042.922556  3218.959781  \n",
       "Thursday     1007.195432  1028.795720  3227.459108  "
      ]
     },
     "execution_count": 23,
     "metadata": {},
     "output_type": "execute_result"
    }
   ],
   "source": [
    "day_stats.head()"
   ]
  },
  {
   "cell_type": "code",
   "execution_count": 24,
   "metadata": {},
   "outputs": [],
   "source": [
    "overall_mean = dataset['Transaction_Amount'].mean()\n",
    "\n",
    "# Define a threshold for what constitutes a significant spike (e.g., 1.5 times the overall mean)\n",
    "spike_threshold = 1.5 * overall_mean"
   ]
  },
  {
   "cell_type": "code",
   "execution_count": 28,
   "metadata": {},
   "outputs": [
    {
     "name": "stdout",
     "output_type": "stream",
     "text": [
      "1557.183766125308\n"
     ]
    }
   ],
   "source": [
    "print(spike_threshold)"
   ]
  },
  {
   "cell_type": "code",
   "execution_count": 25,
   "metadata": {},
   "outputs": [],
   "source": [
    "# Flag times and days with significant spikes\n",
    "unusual_times = dataset[dataset['Transaction_Amount'] > spike_threshold]\n",
    "unusual_days = dataset[dataset['Transaction_Amount'] > spike_threshold]"
   ]
  },
  {
   "cell_type": "code",
   "execution_count": null,
   "metadata": {},
   "outputs": [
    {
     "data": {
      "text/html": [
       "<div>\n",
       "<style scoped>\n",
       "    .dataframe tbody tr th:only-of-type {\n",
       "        vertical-align: middle;\n",
       "    }\n",
       "\n",
       "    .dataframe tbody tr th {\n",
       "        vertical-align: top;\n",
       "    }\n",
       "\n",
       "    .dataframe thead th {\n",
       "        text-align: right;\n",
       "    }\n",
       "</style>\n",
       "<table border=\"1\" class=\"dataframe\">\n",
       "  <thead>\n",
       "    <tr style=\"text-align: right;\">\n",
       "      <th></th>\n",
       "      <th>Transaction_ID</th>\n",
       "      <th>Transaction_Amount</th>\n",
       "      <th>Transaction_Volume</th>\n",
       "      <th>Average_Transaction_Amount</th>\n",
       "      <th>Frequency_of_Transactions</th>\n",
       "      <th>Time_Since_Last_Transaction</th>\n",
       "      <th>Day_of_Week</th>\n",
       "      <th>Time_of_Day</th>\n",
       "      <th>Age</th>\n",
       "      <th>Gender</th>\n",
       "      <th>Income</th>\n",
       "      <th>Account_Type</th>\n",
       "      <th>Transaction_Deviation</th>\n",
       "      <th>Significant_Deviation</th>\n",
       "    </tr>\n",
       "  </thead>\n",
       "  <tbody>\n",
       "    <tr>\n",
       "      <th>59</th>\n",
       "      <td>TX59</td>\n",
       "      <td>2769.890232</td>\n",
       "      <td>3</td>\n",
       "      <td>1007.261392</td>\n",
       "      <td>17</td>\n",
       "      <td>23</td>\n",
       "      <td>Monday</td>\n",
       "      <td>02:00</td>\n",
       "      <td>58</td>\n",
       "      <td>Male</td>\n",
       "      <td>1198320</td>\n",
       "      <td>Current</td>\n",
       "      <td>1762.628840</td>\n",
       "      <td>True</td>\n",
       "    </tr>\n",
       "    <tr>\n",
       "      <th>147</th>\n",
       "      <td>TX147</td>\n",
       "      <td>2802.097817</td>\n",
       "      <td>2</td>\n",
       "      <td>995.475096</td>\n",
       "      <td>12</td>\n",
       "      <td>19</td>\n",
       "      <td>Sunday</td>\n",
       "      <td>20:00</td>\n",
       "      <td>34</td>\n",
       "      <td>Female</td>\n",
       "      <td>694966</td>\n",
       "      <td>Savings</td>\n",
       "      <td>1806.622721</td>\n",
       "      <td>True</td>\n",
       "    </tr>\n",
       "    <tr>\n",
       "      <th>188</th>\n",
       "      <td>TX188</td>\n",
       "      <td>3094.817415</td>\n",
       "      <td>3</td>\n",
       "      <td>980.424667</td>\n",
       "      <td>6</td>\n",
       "      <td>10</td>\n",
       "      <td>Sunday</td>\n",
       "      <td>11:00</td>\n",
       "      <td>57</td>\n",
       "      <td>Female</td>\n",
       "      <td>1158058</td>\n",
       "      <td>Current</td>\n",
       "      <td>2114.392748</td>\n",
       "      <td>True</td>\n",
       "    </tr>\n",
       "    <tr>\n",
       "      <th>230</th>\n",
       "      <td>TX230</td>\n",
       "      <td>2752.637650</td>\n",
       "      <td>4</td>\n",
       "      <td>1020.914703</td>\n",
       "      <td>11</td>\n",
       "      <td>13</td>\n",
       "      <td>Saturday</td>\n",
       "      <td>03:00</td>\n",
       "      <td>57</td>\n",
       "      <td>Male</td>\n",
       "      <td>1460932</td>\n",
       "      <td>Savings</td>\n",
       "      <td>1731.722947</td>\n",
       "      <td>True</td>\n",
       "    </tr>\n",
       "    <tr>\n",
       "      <th>246</th>\n",
       "      <td>TX246</td>\n",
       "      <td>3008.497489</td>\n",
       "      <td>4</td>\n",
       "      <td>1010.593855</td>\n",
       "      <td>16</td>\n",
       "      <td>13</td>\n",
       "      <td>Sunday</td>\n",
       "      <td>13:00</td>\n",
       "      <td>37</td>\n",
       "      <td>Male</td>\n",
       "      <td>551537</td>\n",
       "      <td>Current</td>\n",
       "      <td>1997.903634</td>\n",
       "      <td>True</td>\n",
       "    </tr>\n",
       "  </tbody>\n",
       "</table>\n",
       "</div>"
      ],
      "text/plain": [
       "    Transaction_ID  Transaction_Amount  Transaction_Volume  \\\n",
       "59            TX59         2769.890232                   3   \n",
       "147          TX147         2802.097817                   2   \n",
       "188          TX188         3094.817415                   3   \n",
       "230          TX230         2752.637650                   4   \n",
       "246          TX246         3008.497489                   4   \n",
       "\n",
       "     Average_Transaction_Amount  Frequency_of_Transactions  \\\n",
       "59                  1007.261392                         17   \n",
       "147                  995.475096                         12   \n",
       "188                  980.424667                          6   \n",
       "230                 1020.914703                         11   \n",
       "246                 1010.593855                         16   \n",
       "\n",
       "     Time_Since_Last_Transaction Day_of_Week Time_of_Day  Age  Gender  \\\n",
       "59                            23      Monday       02:00   58    Male   \n",
       "147                           19      Sunday       20:00   34  Female   \n",
       "188                           10      Sunday       11:00   57  Female   \n",
       "230                           13    Saturday       03:00   57    Male   \n",
       "246                           13      Sunday       13:00   37    Male   \n",
       "\n",
       "      Income Account_Type  Transaction_Deviation  Significant_Deviation  \n",
       "59   1198320      Current            1762.628840                   True  \n",
       "147   694966      Savings            1806.622721                   True  \n",
       "188  1158058      Current            2114.392748                   True  \n",
       "230  1460932      Savings            1731.722947                   True  \n",
       "246   551537      Current            1997.903634                   True  "
      ]
     },
     "execution_count": 35,
     "metadata": {},
     "output_type": "execute_result"
    }
   ],
   "source": [
    "# Display the rows with unusual spikes\n",
    "unusual_times.head()\n",
    "# The same as unusual_days\n",
    "# unusual_days.()"
   ]
  },
  {
   "cell_type": "markdown",
   "metadata": {},
   "source": []
  }
 ],
 "metadata": {
  "kernelspec": {
   "display_name": "Python 3",
   "language": "python",
   "name": "python3"
  },
  "language_info": {
   "codemirror_mode": {
    "name": "ipython",
    "version": 3
   },
   "file_extension": ".py",
   "mimetype": "text/x-python",
   "name": "python",
   "nbconvert_exporter": "python",
   "pygments_lexer": "ipython3",
   "version": "3.12.2"
  }
 },
 "nbformat": 4,
 "nbformat_minor": 2
}
