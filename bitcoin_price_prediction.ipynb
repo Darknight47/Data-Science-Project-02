{
 "cells": [
  {
   "cell_type": "markdown",
   "metadata": {},
   "source": [
    "## Main Goal\n",
    "The main goal is to use time series models to predict future prices of cryptocurrencies!\n",
    "\n",
    "### Data Understanding\n",
    "The dataset has one csv file for each currency. Price history is available on a daily basis from April 28, 2013.  \n",
    "This dataset has the historical price information of some of the top crypto currencies by market capitalization.\n",
    "\n",
    "1. **Date** : date of observation\n",
    "2. **Open** : Opening price on the given day\n",
    "3. **High** : Highest price on the given day\n",
    "4. **Low** : Lowest price on the given day\n",
    "5. **Close** : Closing price on the given day\n",
    "6. **Volume** : Volume of transactions on the given day\n",
    "7. **Market Cap** : Market capitalization in USD\n",
    "\n",
    "The dataset is downloaded from: [https://www.kaggle.com/datasets/sudalairajkumar/cryptocurrencypricehistory?resource=download]"
   ]
  },
  {
   "cell_type": "markdown",
   "metadata": {},
   "source": []
  }
 ],
 "metadata": {
  "language_info": {
   "name": "python"
  }
 },
 "nbformat": 4,
 "nbformat_minor": 2
}
