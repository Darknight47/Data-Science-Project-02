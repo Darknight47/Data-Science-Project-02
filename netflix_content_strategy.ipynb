{
 "cells": [
  {
   "cell_type": "markdown",
   "metadata": {},
   "source": [
    "## Main Task\n",
    "**Netflix Content Strategy Analysis** we need data based on content titles, type (show or movie), genre, language, and release details (date, day of the week, season) to understand timing and content performance!  \n",
    "\n",
    "**Content Strategy Analysis** means analyzing how content is created, released, distributed, and consumed to achieve specific goals, such as maximizing audience engagement, viewership, brand reach, or revenue!\n",
    "\n",
    "### Data Understanding\n",
    "The dataset consists of Netflix content released globally in 2023, containing information on the title, release date, language, content type (show or movie), availability status, and viewership hours."
   ]
  },
  {
   "cell_type": "code",
   "execution_count": null,
   "metadata": {},
   "outputs": [],
   "source": [
    "import pandas as pd\n",
    "import matplotlib.pyplot as plt\n",
    "import scipy.stats as stats"
   ]
  },
  {
   "cell_type": "code",
   "execution_count": 3,
   "metadata": {},
   "outputs": [],
   "source": [
    "dataset = pd.read_csv('datasets/netflix_content_2023.csv')"
   ]
  },
  {
   "cell_type": "code",
   "execution_count": 4,
   "metadata": {},
   "outputs": [
    {
     "data": {
      "text/html": [
       "<div>\n",
       "<style scoped>\n",
       "    .dataframe tbody tr th:only-of-type {\n",
       "        vertical-align: middle;\n",
       "    }\n",
       "\n",
       "    .dataframe tbody tr th {\n",
       "        vertical-align: top;\n",
       "    }\n",
       "\n",
       "    .dataframe thead th {\n",
       "        text-align: right;\n",
       "    }\n",
       "</style>\n",
       "<table border=\"1\" class=\"dataframe\">\n",
       "  <thead>\n",
       "    <tr style=\"text-align: right;\">\n",
       "      <th></th>\n",
       "      <th>Title</th>\n",
       "      <th>Available Globally?</th>\n",
       "      <th>Release Date</th>\n",
       "      <th>Hours Viewed</th>\n",
       "      <th>Language Indicator</th>\n",
       "      <th>Content Type</th>\n",
       "    </tr>\n",
       "  </thead>\n",
       "  <tbody>\n",
       "    <tr>\n",
       "      <th>0</th>\n",
       "      <td>The Night Agent: Season 1</td>\n",
       "      <td>Yes</td>\n",
       "      <td>2023-03-23</td>\n",
       "      <td>81,21,00,000</td>\n",
       "      <td>English</td>\n",
       "      <td>Show</td>\n",
       "    </tr>\n",
       "    <tr>\n",
       "      <th>1</th>\n",
       "      <td>Ginny &amp; Georgia: Season 2</td>\n",
       "      <td>Yes</td>\n",
       "      <td>2023-01-05</td>\n",
       "      <td>66,51,00,000</td>\n",
       "      <td>English</td>\n",
       "      <td>Show</td>\n",
       "    </tr>\n",
       "    <tr>\n",
       "      <th>2</th>\n",
       "      <td>The Glory: Season 1 // 더 글로리: 시즌 1</td>\n",
       "      <td>Yes</td>\n",
       "      <td>2022-12-30</td>\n",
       "      <td>62,28,00,000</td>\n",
       "      <td>Korean</td>\n",
       "      <td>Show</td>\n",
       "    </tr>\n",
       "    <tr>\n",
       "      <th>3</th>\n",
       "      <td>Wednesday: Season 1</td>\n",
       "      <td>Yes</td>\n",
       "      <td>2022-11-23</td>\n",
       "      <td>50,77,00,000</td>\n",
       "      <td>English</td>\n",
       "      <td>Show</td>\n",
       "    </tr>\n",
       "    <tr>\n",
       "      <th>4</th>\n",
       "      <td>Queen Charlotte: A Bridgerton Story</td>\n",
       "      <td>Yes</td>\n",
       "      <td>2023-05-04</td>\n",
       "      <td>50,30,00,000</td>\n",
       "      <td>English</td>\n",
       "      <td>Movie</td>\n",
       "    </tr>\n",
       "  </tbody>\n",
       "</table>\n",
       "</div>"
      ],
      "text/plain": [
       "                                 Title Available Globally? Release Date  \\\n",
       "0            The Night Agent: Season 1                 Yes   2023-03-23   \n",
       "1            Ginny & Georgia: Season 2                 Yes   2023-01-05   \n",
       "2   The Glory: Season 1 // 더 글로리: 시즌 1                 Yes   2022-12-30   \n",
       "3                  Wednesday: Season 1                 Yes   2022-11-23   \n",
       "4  Queen Charlotte: A Bridgerton Story                 Yes   2023-05-04   \n",
       "\n",
       "   Hours Viewed Language Indicator Content Type  \n",
       "0  81,21,00,000            English         Show  \n",
       "1  66,51,00,000            English         Show  \n",
       "2  62,28,00,000             Korean         Show  \n",
       "3  50,77,00,000            English         Show  \n",
       "4  50,30,00,000            English        Movie  "
      ]
     },
     "execution_count": 4,
     "metadata": {},
     "output_type": "execute_result"
    }
   ],
   "source": [
    "dataset.head()"
   ]
  },
  {
   "cell_type": "code",
   "execution_count": 5,
   "metadata": {},
   "outputs": [
    {
     "data": {
      "text/plain": [
       "Index(['Title', 'Available Globally?', 'Release Date', 'Hours Viewed',\n",
       "       'Language Indicator', 'Content Type'],\n",
       "      dtype='object')"
      ]
     },
     "execution_count": 5,
     "metadata": {},
     "output_type": "execute_result"
    }
   ],
   "source": [
    "dataset.columns"
   ]
  },
  {
   "cell_type": "code",
   "execution_count": 6,
   "metadata": {},
   "outputs": [
    {
     "name": "stdout",
     "output_type": "stream",
     "text": [
      "<class 'pandas.core.frame.DataFrame'>\n",
      "RangeIndex: 24812 entries, 0 to 24811\n",
      "Data columns (total 6 columns):\n",
      " #   Column               Non-Null Count  Dtype \n",
      "---  ------               --------------  ----- \n",
      " 0   Title                24812 non-null  object\n",
      " 1   Available Globally?  24812 non-null  object\n",
      " 2   Release Date         8166 non-null   object\n",
      " 3   Hours Viewed         24812 non-null  object\n",
      " 4   Language Indicator   24812 non-null  object\n",
      " 5   Content Type         24812 non-null  object\n",
      "dtypes: object(6)\n",
      "memory usage: 1.1+ MB\n"
     ]
    }
   ],
   "source": [
    "dataset.info()"
   ]
  },
  {
   "cell_type": "code",
   "execution_count": 7,
   "metadata": {},
   "outputs": [
    {
     "data": {
      "text/plain": [
       "Title                      0\n",
       "Available Globally?        0\n",
       "Release Date           16646\n",
       "Hours Viewed               0\n",
       "Language Indicator         0\n",
       "Content Type               0\n",
       "dtype: int64"
      ]
     },
     "execution_count": 7,
     "metadata": {},
     "output_type": "execute_result"
    }
   ],
   "source": [
    "dataset.isnull().sum()"
   ]
  },
  {
   "cell_type": "markdown",
   "metadata": {},
   "source": [
    "### Maximize Viewer Engagement\n",
    "#### Which titles have the highest and lowest 'Hours Viewed'?"
   ]
  },
  {
   "cell_type": "code",
   "execution_count": 8,
   "metadata": {},
   "outputs": [],
   "source": [
    "# Preprocessing the 'Hours Viewed' column\n",
    "dataset['Hours Viewed'] = dataset['Hours Viewed'].replace(',', '', regex=True).astype(float)"
   ]
  },
  {
   "cell_type": "code",
   "execution_count": 9,
   "metadata": {},
   "outputs": [
    {
     "data": {
      "text/html": [
       "<div>\n",
       "<style scoped>\n",
       "    .dataframe tbody tr th:only-of-type {\n",
       "        vertical-align: middle;\n",
       "    }\n",
       "\n",
       "    .dataframe tbody tr th {\n",
       "        vertical-align: top;\n",
       "    }\n",
       "\n",
       "    .dataframe thead th {\n",
       "        text-align: right;\n",
       "    }\n",
       "</style>\n",
       "<table border=\"1\" class=\"dataframe\">\n",
       "  <thead>\n",
       "    <tr style=\"text-align: right;\">\n",
       "      <th></th>\n",
       "      <th>Title</th>\n",
       "      <th>Available Globally?</th>\n",
       "      <th>Release Date</th>\n",
       "      <th>Hours Viewed</th>\n",
       "      <th>Language Indicator</th>\n",
       "      <th>Content Type</th>\n",
       "    </tr>\n",
       "  </thead>\n",
       "  <tbody>\n",
       "    <tr>\n",
       "      <th>0</th>\n",
       "      <td>The Night Agent: Season 1</td>\n",
       "      <td>Yes</td>\n",
       "      <td>2023-03-23</td>\n",
       "      <td>812100000.0</td>\n",
       "      <td>English</td>\n",
       "      <td>Show</td>\n",
       "    </tr>\n",
       "    <tr>\n",
       "      <th>1</th>\n",
       "      <td>Ginny &amp; Georgia: Season 2</td>\n",
       "      <td>Yes</td>\n",
       "      <td>2023-01-05</td>\n",
       "      <td>665100000.0</td>\n",
       "      <td>English</td>\n",
       "      <td>Show</td>\n",
       "    </tr>\n",
       "    <tr>\n",
       "      <th>2</th>\n",
       "      <td>The Glory: Season 1 // 더 글로리: 시즌 1</td>\n",
       "      <td>Yes</td>\n",
       "      <td>2022-12-30</td>\n",
       "      <td>622800000.0</td>\n",
       "      <td>Korean</td>\n",
       "      <td>Show</td>\n",
       "    </tr>\n",
       "    <tr>\n",
       "      <th>3</th>\n",
       "      <td>Wednesday: Season 1</td>\n",
       "      <td>Yes</td>\n",
       "      <td>2022-11-23</td>\n",
       "      <td>507700000.0</td>\n",
       "      <td>English</td>\n",
       "      <td>Show</td>\n",
       "    </tr>\n",
       "    <tr>\n",
       "      <th>4</th>\n",
       "      <td>Queen Charlotte: A Bridgerton Story</td>\n",
       "      <td>Yes</td>\n",
       "      <td>2023-05-04</td>\n",
       "      <td>503000000.0</td>\n",
       "      <td>English</td>\n",
       "      <td>Movie</td>\n",
       "    </tr>\n",
       "  </tbody>\n",
       "</table>\n",
       "</div>"
      ],
      "text/plain": [
       "                                 Title Available Globally? Release Date  \\\n",
       "0            The Night Agent: Season 1                 Yes   2023-03-23   \n",
       "1            Ginny & Georgia: Season 2                 Yes   2023-01-05   \n",
       "2   The Glory: Season 1 // 더 글로리: 시즌 1                 Yes   2022-12-30   \n",
       "3                  Wednesday: Season 1                 Yes   2022-11-23   \n",
       "4  Queen Charlotte: A Bridgerton Story                 Yes   2023-05-04   \n",
       "\n",
       "   Hours Viewed Language Indicator Content Type  \n",
       "0   812100000.0            English         Show  \n",
       "1   665100000.0            English         Show  \n",
       "2   622800000.0             Korean         Show  \n",
       "3   507700000.0            English         Show  \n",
       "4   503000000.0            English        Movie  "
      ]
     },
     "execution_count": 9,
     "metadata": {},
     "output_type": "execute_result"
    }
   ],
   "source": [
    "dataset.head()"
   ]
  },
  {
   "cell_type": "code",
   "execution_count": 10,
   "metadata": {},
   "outputs": [],
   "source": [
    "# Sort the dataset by 'Hours Viewed' in ascending order\n",
    "sorted_dataset = dataset.sort_values(by='Hours Viewed')\n",
    "\n",
    "# Select the top 3 least viewed and top 3 most viewed titles\n",
    "least_viewed = sorted_dataset.head(3)\n",
    "most_viewed = sorted_dataset.tail(3)"
   ]
  },
  {
   "cell_type": "code",
   "execution_count": 11,
   "metadata": {},
   "outputs": [
    {
     "name": "stdout",
     "output_type": "stream",
     "text": [
      "Most Viewed Titles: \n"
     ]
    },
    {
     "data": {
      "text/html": [
       "<div>\n",
       "<style scoped>\n",
       "    .dataframe tbody tr th:only-of-type {\n",
       "        vertical-align: middle;\n",
       "    }\n",
       "\n",
       "    .dataframe tbody tr th {\n",
       "        vertical-align: top;\n",
       "    }\n",
       "\n",
       "    .dataframe thead th {\n",
       "        text-align: right;\n",
       "    }\n",
       "</style>\n",
       "<table border=\"1\" class=\"dataframe\">\n",
       "  <thead>\n",
       "    <tr style=\"text-align: right;\">\n",
       "      <th></th>\n",
       "      <th>Title</th>\n",
       "      <th>Available Globally?</th>\n",
       "      <th>Release Date</th>\n",
       "      <th>Hours Viewed</th>\n",
       "      <th>Language Indicator</th>\n",
       "      <th>Content Type</th>\n",
       "    </tr>\n",
       "  </thead>\n",
       "  <tbody>\n",
       "    <tr>\n",
       "      <th>18227</th>\n",
       "      <td>King the Land: Limited Series // 킹더랜드: 리미티드 시리즈</td>\n",
       "      <td>Yes</td>\n",
       "      <td>2023-06-17</td>\n",
       "      <td>630200000.0</td>\n",
       "      <td>Korean</td>\n",
       "      <td>Movie</td>\n",
       "    </tr>\n",
       "    <tr>\n",
       "      <th>1</th>\n",
       "      <td>Ginny &amp; Georgia: Season 2</td>\n",
       "      <td>Yes</td>\n",
       "      <td>2023-01-05</td>\n",
       "      <td>665100000.0</td>\n",
       "      <td>English</td>\n",
       "      <td>Show</td>\n",
       "    </tr>\n",
       "    <tr>\n",
       "      <th>0</th>\n",
       "      <td>The Night Agent: Season 1</td>\n",
       "      <td>Yes</td>\n",
       "      <td>2023-03-23</td>\n",
       "      <td>812100000.0</td>\n",
       "      <td>English</td>\n",
       "      <td>Show</td>\n",
       "    </tr>\n",
       "  </tbody>\n",
       "</table>\n",
       "</div>"
      ],
      "text/plain": [
       "                                                 Title Available Globally?  \\\n",
       "18227  King the Land: Limited Series // 킹더랜드: 리미티드 시리즈                 Yes   \n",
       "1                            Ginny & Georgia: Season 2                 Yes   \n",
       "0                            The Night Agent: Season 1                 Yes   \n",
       "\n",
       "      Release Date  Hours Viewed Language Indicator Content Type  \n",
       "18227   2023-06-17   630200000.0             Korean        Movie  \n",
       "1       2023-01-05   665100000.0            English         Show  \n",
       "0       2023-03-23   812100000.0            English         Show  "
      ]
     },
     "execution_count": 11,
     "metadata": {},
     "output_type": "execute_result"
    }
   ],
   "source": [
    "print(\"Most Viewed Titles: \")\n",
    "most_viewed.head()"
   ]
  },
  {
   "cell_type": "code",
   "execution_count": 12,
   "metadata": {},
   "outputs": [
    {
     "name": "stdout",
     "output_type": "stream",
     "text": [
      "Least Viewed Titles: \n"
     ]
    },
    {
     "data": {
      "text/html": [
       "<div>\n",
       "<style scoped>\n",
       "    .dataframe tbody tr th:only-of-type {\n",
       "        vertical-align: middle;\n",
       "    }\n",
       "\n",
       "    .dataframe tbody tr th {\n",
       "        vertical-align: top;\n",
       "    }\n",
       "\n",
       "    .dataframe thead th {\n",
       "        text-align: right;\n",
       "    }\n",
       "</style>\n",
       "<table border=\"1\" class=\"dataframe\">\n",
       "  <thead>\n",
       "    <tr style=\"text-align: right;\">\n",
       "      <th></th>\n",
       "      <th>Title</th>\n",
       "      <th>Available Globally?</th>\n",
       "      <th>Release Date</th>\n",
       "      <th>Hours Viewed</th>\n",
       "      <th>Language Indicator</th>\n",
       "      <th>Content Type</th>\n",
       "    </tr>\n",
       "  </thead>\n",
       "  <tbody>\n",
       "    <tr>\n",
       "      <th>24811</th>\n",
       "      <td>Zach Galifianakis: Live at the Purple Onion</td>\n",
       "      <td>No</td>\n",
       "      <td>NaN</td>\n",
       "      <td>100000.0</td>\n",
       "      <td>English</td>\n",
       "      <td>Movie</td>\n",
       "    </tr>\n",
       "    <tr>\n",
       "      <th>15898</th>\n",
       "      <td>Jay and Silent Bob Strike Back</td>\n",
       "      <td>No</td>\n",
       "      <td>NaN</td>\n",
       "      <td>100000.0</td>\n",
       "      <td>English</td>\n",
       "      <td>Movie</td>\n",
       "    </tr>\n",
       "    <tr>\n",
       "      <th>15897</th>\n",
       "      <td>Jay and Silent Bob Reboot</td>\n",
       "      <td>No</td>\n",
       "      <td>NaN</td>\n",
       "      <td>100000.0</td>\n",
       "      <td>English</td>\n",
       "      <td>Movie</td>\n",
       "    </tr>\n",
       "  </tbody>\n",
       "</table>\n",
       "</div>"
      ],
      "text/plain": [
       "                                             Title Available Globally?  \\\n",
       "24811  Zach Galifianakis: Live at the Purple Onion                  No   \n",
       "15898               Jay and Silent Bob Strike Back                  No   \n",
       "15897                    Jay and Silent Bob Reboot                  No   \n",
       "\n",
       "      Release Date  Hours Viewed Language Indicator Content Type  \n",
       "24811          NaN      100000.0            English        Movie  \n",
       "15898          NaN      100000.0            English        Movie  \n",
       "15897          NaN      100000.0            English        Movie  "
      ]
     },
     "execution_count": 12,
     "metadata": {},
     "output_type": "execute_result"
    }
   ],
   "source": [
    "print(\"Least Viewed Titles: \")\n",
    "least_viewed.head()"
   ]
  },
  {
   "cell_type": "markdown",
   "metadata": {},
   "source": [
    "#### How does 'Content Type' (e.g., movie, series) correlate with 'Hours Viewed'?"
   ]
  },
  {
   "cell_type": "code",
   "execution_count": 13,
   "metadata": {},
   "outputs": [],
   "source": [
    "# Group by 'Content Type' and calculate the mean 'Hours Viewed'\n",
    "content_type_grouped = dataset.groupby('Content Type')['Hours Viewed'].mean().reset_index()\n",
    "\n",
    "# Sort the values for better visualization\n",
    "content_type_grouped = content_type_grouped.sort_values(by='Hours Viewed', ascending=False)"
   ]
  },
  {
   "cell_type": "code",
   "execution_count": 14,
   "metadata": {},
   "outputs": [
    {
     "data": {
      "image/png": "[encoded data removed]",
      "text/plain": [
       "<Figure size 1000x600 with 1 Axes>"
      ]
     },
     "metadata": {},
     "output_type": "display_data"
    }
   ],
   "source": [
    "# Plotting the bar chart\n",
    "plt.figure(figsize=(10, 6))\n",
    "plt.bar(content_type_grouped['Content Type'], content_type_grouped['Hours Viewed'], color='skyblue')\n",
    "plt.xlabel('Content Type')\n",
    "plt.ylabel('Mean Hours Viewed')\n",
    "plt.title('Mean Hours Viewed by Content Type')\n",
    "plt.show()"
   ]
  },
  {
   "cell_type": "markdown",
   "metadata": {},
   "source": [
    "> The visualization indicates that shows dominate the total viewership hours on Netflix in 2023 compared to movies.  \n",
    "This suggests that Netflix’s content strategy leans heavily toward shows, as they tend to attract more watch hours overall!  \n",
    "\n",
    "#### What are the trends in 'Hours Viewed' across different 'Release Dates'?"
   ]
  },
  {
   "cell_type": "code",
   "execution_count": 17,
   "metadata": {},
   "outputs": [],
   "source": [
    "# Convert 'Release Date' from string to datetime format\n",
    "dataset['Release Date'] = pd.to_datetime(dataset['Release Date'])\n",
    "# Extract year from 'Release Date'\n",
    "dataset['Release Year'] = dataset['Release Date'].dt.year"
   ]
  },
  {
   "cell_type": "code",
   "execution_count": 19,
   "metadata": {},
   "outputs": [],
   "source": [
    "# Group by 'Release Year' and calculate the mean 'Hours Viewed'\n",
    "yearly_trends = dataset.groupby('Release Year')['Hours Viewed'].mean().reset_index()"
   ]
  },
  {
   "cell_type": "code",
   "execution_count": 20,
   "metadata": {},
   "outputs": [
    {
     "data": {
      "image/png": "[encoded data removed]",
      "text/plain": [
       "<Figure size 1200x600 with 1 Axes>"
      ]
     },
     "metadata": {},
     "output_type": "display_data"
    }
   ],
   "source": [
    "# Plotting the trend\n",
    "plt.figure(figsize=(12, 6))\n",
    "plt.plot(yearly_trends['Release Year'], yearly_trends['Hours Viewed'], marker='o', linestyle='-', color='blue')\n",
    "plt.xlabel('Release Year')\n",
    "plt.ylabel('Mean Hours Viewed')\n",
    "plt.title('Mean Hours Viewed by Release Year')\n",
    "plt.grid(True)\n",
    "plt.show()"
   ]
  },
  {
   "cell_type": "markdown",
   "metadata": {},
   "source": [
    "> There is an early surge from 2010 to 2011, which likely indicates the release of highly engaging content that captivated audiences. This is followed by a significant drop in 2012, possibly due to less engaging content or external factors impacting viewership. From 2013 to 2022, we observe a period of recovery and stabilization, suggesting the establishment of a steady audience and consistent quality content. Finally, 2023 stands out with a remarkable spike, which could be attributed to a breakout hit, changes in distribution strategies, or broader trends like increased screen time!  \n",
    "\n",
    "#### Does the 'Language Indicator' affect the 'Hours Viewed' significantly?"
   ]
  },
  {
   "cell_type": "code",
   "execution_count": 21,
   "metadata": {},
   "outputs": [],
   "source": [
    "# Group by 'Language Indicator' and calculate the mean 'Hours Viewed'\n",
    "language_grouped = dataset.groupby('Language Indicator')['Hours Viewed'].mean().reset_index()\n",
    "# Sort the values for better visualization\n",
    "language_grouped = language_grouped.sort_values(by='Hours Viewed', ascending=False)"
   ]
  },
  {
   "cell_type": "code",
   "execution_count": 22,
   "metadata": {},
   "outputs": [
    {
     "data": {
      "image/png": "[encoded data removed]",
      "text/plain": [
       "<Figure size 1200x600 with 1 Axes>"
      ]
     },
     "metadata": {},
     "output_type": "display_data"
    }
   ],
   "source": [
    "# Plotting the bar chart\n",
    "plt.figure(figsize=(12, 6))\n",
    "plt.bar(language_grouped['Language Indicator'], language_grouped['Hours Viewed'], color='skyblue')\n",
    "plt.xlabel('Language Indicator')\n",
    "plt.ylabel('Mean Hours Viewed')\n",
    "plt.title('Mean Hours Viewed by Language Indicator')\n",
    "plt.xticks(rotation=45)\n",
    "plt.show()"
   ]
  },
  {
   "cell_type": "markdown",
   "metadata": {},
   "source": [
    "> The analysis shows a clear preference for Korean content, with the highest average 'Hours Viewed'. English content follows closely. This trend highlights the significant engagement levels for Korean and English content compared to other languages. Non-English, Japanese, and Russian content have similar viewership, indicating moderate engagement, while Hindi content has slightly lower engagement.\n",
    "\n",
    "##### Performing ANOVA test\n",
    "**ANOVA (Analysis of Variance)**: ANOVA is a statistical test used to compare the means of three or more groups to see if there are significant differences among them. It helps to determine if the observed differences in sample data are due to actual differences in the population or just due to random chance!   \n",
    "We used ANOVA to determine if the 'Language Indicator' significantly affects 'Hours Viewed' by comparing the average 'Hours Viewed' across different language groups!  \n",
    "**F-statistic**: The F-statistic is a value calculated during ANOVA that compares the variation between group means to the variation within the groups. A higher F-statistic value suggests that the group means are significantly different from each other!  \n",
    "\n",
    "Hypotheses:  \n",
    "\n",
    "**Null Hypothesis (H0)**: There is no significant difference in the mean 'Hours Viewed' among different language groups. In other words, the language of the content does not affect viewership.  \n",
    "**Alternative Hypothesis (H1)**: There is a significant difference in the mean 'Hours Viewed' among different language groups. In other words, the language of the content does affect viewership.  \n"
   ]
  },
  {
   "cell_type": "code",
   "execution_count": null,
   "metadata": {},
   "outputs": [
    {
     "name": "stdout",
     "output_type": "stream",
     "text": [
      "ANOVA F-statistic: 43.96747954216327\n",
      "ANOVA p-value: 2.578724948282694e-45\n"
     ]
    }
   ],
   "source": [
    "# Perform ANOVA test\n",
    "anova_result = stats.f_oneway(*[dataset[dataset['Language Indicator'] == lang]['Hours Viewed'] for lang in dataset['Language Indicator'].unique()])\n",
    "\n",
    "print('ANOVA F-statistic:', anova_result.statistic)\n",
    "print('ANOVA p-value:', anova_result.pvalue)"
   ]
  },
  {
   "cell_type": "markdown",
   "metadata": {},
   "source": [
    "> With an F-statistic of 43.97 and a p-value of approximately 2.58*10^{-45}, the p-value is significantly less than 0.05. This indicates that there are statistically significant differences in 'Hours Viewed' across different 'Language Indicator' groups.  \n",
    "In other words, the language of the content does have a significant effect on viewership"
   ]
  },
  {
   "cell_type": "markdown",
   "metadata": {},
   "source": []
  }
 ],
 "metadata": {
  "kernelspec": {
   "display_name": "Python 3",
   "language": "python",
   "name": "python3"
  },
  "language_info": {
   "codemirror_mode": {
    "name": "ipython",
    "version": 3
   },
   "file_extension": ".py",
   "mimetype": "text/x-python",
   "name": "python",
   "nbconvert_exporter": "python",
   "pygments_lexer": "ipython3",
   "version": "3.12.2"
  }
 },
 "nbformat": 4,
 "nbformat_minor": 2
}
