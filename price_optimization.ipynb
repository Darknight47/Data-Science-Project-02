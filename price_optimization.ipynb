{
 "cells": [
  {
   "cell_type": "markdown",
   "metadata": {},
   "source": [
    "## Main Goal\n",
    "The goal is to develop a dynamic pricing model that optimizes the prices of items to maximize revenue while remaining competitive in the market.  \n",
    "\n",
    "**This involves:**\n",
    "\n",
    "1. Analyzing the current pricing strategy and its impact on sales and revenue.\n",
    "2. Comparing our pricing strategy with that of the competition to identify gaps and opportunities.\n",
    "3. Developing a dynamic pricing model that adjusts prices based on factors such as competitor pricing, demand elasticity, and market trends.\n",
    "4. Implementing and simulating the dynamic pricing model to compare its performance against the existing pricing strategy.\n",
    "\n",
    "### Data Understanding\n",
    "The given dataset contains pricing information for various items sold at a retail store and their corresponding prices at competing stores. The dataset includes the following columns:\n",
    "\n",
    "1. **Fiscal_Week_Id**: The fiscal week identifier.\n",
    "2. **Store_Id**: The store identifier.\n",
    "3. **Item_Id**: The item identifier.\n",
    "4. **Price**: The price of the item at our store.\n",
    "5. **Item_Quantity**: The quantity of the item sold.\n",
    "6. **Sales_Amount_No_Discount**: Sales amount without discount.\n",
    "7. **Sales_Amount**: Sales amount after discounts.\n",
    "8. **Competition_Price**: The price of the item at a competing store.\n",
    "\n",
    "Key here is to unravel how our pricing strategies have influenced sales and revenue historically, and how competitor prices impact our performance. Considering factors like discounts and temporal aspects (thanks to the Fiscal_Week_Id) will help in identifying patterns and trends essential for optimizing prices. The ultimate goal is to find that sweet spot where price adjustments maximize revenue without sacrificing competitiveness."
   ]
  },
  {
   "cell_type": "code",
   "execution_count": 1,
   "metadata": {},
   "outputs": [],
   "source": [
    "import pandas as pd\n",
    "import matplotlib.pyplot as plt\n",
    "import seaborn as sns"
   ]
  },
  {
   "cell_type": "code",
   "execution_count": 2,
   "metadata": {},
   "outputs": [],
   "source": [
    "dataset = pd.read_csv(\"datasets/Competition_Data.csv\")"
   ]
  },
  {
   "cell_type": "code",
   "execution_count": 3,
   "metadata": {},
   "outputs": [
    {
     "data": {
      "text/html": [
       "<div>\n",
       "<style scoped>\n",
       "    .dataframe tbody tr th:only-of-type {\n",
       "        vertical-align: middle;\n",
       "    }\n",
       "\n",
       "    .dataframe tbody tr th {\n",
       "        vertical-align: top;\n",
       "    }\n",
       "\n",
       "    .dataframe thead th {\n",
       "        text-align: right;\n",
       "    }\n",
       "</style>\n",
       "<table border=\"1\" class=\"dataframe\">\n",
       "  <thead>\n",
       "    <tr style=\"text-align: right;\">\n",
       "      <th></th>\n",
       "      <th>Index</th>\n",
       "      <th>Fiscal_Week_ID</th>\n",
       "      <th>Store_ID</th>\n",
       "      <th>Item_ID</th>\n",
       "      <th>Price</th>\n",
       "      <th>Item_Quantity</th>\n",
       "      <th>Sales_Amount_No_Discount</th>\n",
       "      <th>Sales_Amount</th>\n",
       "      <th>Competition_Price</th>\n",
       "    </tr>\n",
       "  </thead>\n",
       "  <tbody>\n",
       "    <tr>\n",
       "      <th>0</th>\n",
       "      <td>0</td>\n",
       "      <td>2019-11</td>\n",
       "      <td>store_459</td>\n",
       "      <td>item_526</td>\n",
       "      <td>134.49</td>\n",
       "      <td>435</td>\n",
       "      <td>4716.74</td>\n",
       "      <td>11272.59</td>\n",
       "      <td>206.44</td>\n",
       "    </tr>\n",
       "    <tr>\n",
       "      <th>1</th>\n",
       "      <td>1</td>\n",
       "      <td>2019-11</td>\n",
       "      <td>store_459</td>\n",
       "      <td>item_526</td>\n",
       "      <td>134.49</td>\n",
       "      <td>435</td>\n",
       "      <td>4716.74</td>\n",
       "      <td>11272.59</td>\n",
       "      <td>158.01</td>\n",
       "    </tr>\n",
       "    <tr>\n",
       "      <th>2</th>\n",
       "      <td>2</td>\n",
       "      <td>2019-11</td>\n",
       "      <td>store_459</td>\n",
       "      <td>item_526</td>\n",
       "      <td>134.49</td>\n",
       "      <td>435</td>\n",
       "      <td>4716.74</td>\n",
       "      <td>11272.59</td>\n",
       "      <td>278.03</td>\n",
       "    </tr>\n",
       "    <tr>\n",
       "      <th>3</th>\n",
       "      <td>3</td>\n",
       "      <td>2019-11</td>\n",
       "      <td>store_459</td>\n",
       "      <td>item_526</td>\n",
       "      <td>134.49</td>\n",
       "      <td>435</td>\n",
       "      <td>4716.74</td>\n",
       "      <td>11272.59</td>\n",
       "      <td>222.66</td>\n",
       "    </tr>\n",
       "    <tr>\n",
       "      <th>4</th>\n",
       "      <td>4</td>\n",
       "      <td>2019-11</td>\n",
       "      <td>store_459</td>\n",
       "      <td>item_526</td>\n",
       "      <td>134.49</td>\n",
       "      <td>435</td>\n",
       "      <td>4716.74</td>\n",
       "      <td>11272.59</td>\n",
       "      <td>195.32</td>\n",
       "    </tr>\n",
       "  </tbody>\n",
       "</table>\n",
       "</div>"
      ],
      "text/plain": [
       "   Index Fiscal_Week_ID   Store_ID   Item_ID   Price  Item_Quantity  \\\n",
       "0      0        2019-11  store_459  item_526  134.49            435   \n",
       "1      1        2019-11  store_459  item_526  134.49            435   \n",
       "2      2        2019-11  store_459  item_526  134.49            435   \n",
       "3      3        2019-11  store_459  item_526  134.49            435   \n",
       "4      4        2019-11  store_459  item_526  134.49            435   \n",
       "\n",
       "   Sales_Amount_No_Discount  Sales_Amount  Competition_Price  \n",
       "0                   4716.74      11272.59             206.44  \n",
       "1                   4716.74      11272.59             158.01  \n",
       "2                   4716.74      11272.59             278.03  \n",
       "3                   4716.74      11272.59             222.66  \n",
       "4                   4716.74      11272.59             195.32  "
      ]
     },
     "execution_count": 3,
     "metadata": {},
     "output_type": "execute_result"
    }
   ],
   "source": [
    "dataset.head()"
   ]
  },
  {
   "cell_type": "code",
   "execution_count": 4,
   "metadata": {},
   "outputs": [
    {
     "name": "stdout",
     "output_type": "stream",
     "text": [
      "<class 'pandas.core.frame.DataFrame'>\n",
      "RangeIndex: 100000 entries, 0 to 99999\n",
      "Data columns (total 9 columns):\n",
      " #   Column                    Non-Null Count   Dtype  \n",
      "---  ------                    --------------   -----  \n",
      " 0   Index                     100000 non-null  int64  \n",
      " 1   Fiscal_Week_ID            100000 non-null  object \n",
      " 2   Store_ID                  100000 non-null  object \n",
      " 3   Item_ID                   100000 non-null  object \n",
      " 4   Price                     100000 non-null  float64\n",
      " 5   Item_Quantity             100000 non-null  int64  \n",
      " 6   Sales_Amount_No_Discount  100000 non-null  float64\n",
      " 7   Sales_Amount              100000 non-null  float64\n",
      " 8   Competition_Price         100000 non-null  float64\n",
      "dtypes: float64(4), int64(2), object(3)\n",
      "memory usage: 6.9+ MB\n"
     ]
    }
   ],
   "source": [
    "dataset.info()"
   ]
  },
  {
   "cell_type": "code",
   "execution_count": 5,
   "metadata": {},
   "outputs": [
    {
     "data": {
      "text/plain": [
       "(100000, 9)"
      ]
     },
     "execution_count": 5,
     "metadata": {},
     "output_type": "execute_result"
    }
   ],
   "source": [
    "dataset.shape"
   ]
  },
  {
   "cell_type": "code",
   "execution_count": 6,
   "metadata": {},
   "outputs": [
    {
     "data": {
      "text/plain": [
       "Index                       0\n",
       "Fiscal_Week_ID              0\n",
       "Store_ID                    0\n",
       "Item_ID                     0\n",
       "Price                       0\n",
       "Item_Quantity               0\n",
       "Sales_Amount_No_Discount    0\n",
       "Sales_Amount                0\n",
       "Competition_Price           0\n",
       "dtype: int64"
      ]
     },
     "execution_count": 6,
     "metadata": {},
     "output_type": "execute_result"
    }
   ],
   "source": [
    "dataset.isnull().sum()"
   ]
  },
  {
   "cell_type": "code",
   "execution_count": 7,
   "metadata": {},
   "outputs": [
    {
     "data": {
      "text/plain": [
       "Index                       0\n",
       "Fiscal_Week_ID              0\n",
       "Store_ID                    0\n",
       "Item_ID                     0\n",
       "Price                       0\n",
       "Item_Quantity               0\n",
       "Sales_Amount_No_Discount    0\n",
       "Sales_Amount                0\n",
       "Competition_Price           0\n",
       "dtype: int64"
      ]
     },
     "execution_count": 7,
     "metadata": {},
     "output_type": "execute_result"
    }
   ],
   "source": [
    "dataset.isna().sum()"
   ]
  },
  {
   "cell_type": "markdown",
   "metadata": {},
   "source": [
    "### Basic EDA \n",
    "#### How does our item pricing correlate with the quantity sold?"
   ]
  },
  {
   "cell_type": "code",
   "execution_count": 8,
   "metadata": {},
   "outputs": [
    {
     "name": "stdout",
     "output_type": "stream",
     "text": [
      "Overall Correlation between Price and Quantity Sold: -0.17640332559077712\n"
     ]
    }
   ],
   "source": [
    "# Calculate the overall correlation\n",
    "correlation = dataset['Price'].corr(dataset['Item_Quantity'])\n",
    "print(f'Overall Correlation between Price and Quantity Sold: {correlation}')"
   ]
  },
  {
   "cell_type": "markdown",
   "metadata": {},
   "source": [
    "#### What is the relationship between our prices and competitor prices, and how does this difference affect our sales volumes?"
   ]
  },
  {
   "cell_type": "code",
   "execution_count": 9,
   "metadata": {},
   "outputs": [
    {
     "name": "stdout",
     "output_type": "stream",
     "text": [
      "Our Price Stats:\n",
      " count    100000.000000\n",
      "mean        167.017783\n",
      "std          69.503418\n",
      "min          47.700000\n",
      "25%         105.410000\n",
      "50%         159.420000\n",
      "75%         221.900000\n",
      "max         310.660000\n",
      "Name: Price, dtype: float64\n",
      "\n",
      "Competitor Price Stats:\n",
      " count    100000.000000\n",
      "mean        174.280887\n",
      "std          71.545584\n",
      "min          47.950000\n",
      "25%         118.627500\n",
      "50%         162.510000\n",
      "75%         237.335000\n",
      "max         313.640000\n",
      "Name: Competition_Price, dtype: float64\n"
     ]
    }
   ],
   "source": [
    "# Mean, Median, and Standard Deviation for our prices\n",
    "our_price_stats = dataset['Price'].describe()\n",
    "\n",
    "# Mean, Median, and Standard Deviation for competitor prices\n",
    "competitor_price_stats = dataset['Competition_Price'].describe()\n",
    "\n",
    "print(\"Our Price Stats:\\n\", our_price_stats)\n",
    "print(\"\\nCompetitor Price Stats:\\n\", competitor_price_stats)"
   ]
  },
  {
   "cell_type": "markdown",
   "metadata": {},
   "source": [
    "Our prices have a mean of 167.02, slightly lower than the competitor mean of 174.28. The standard deviation for our prices is 69.50, indicating a slightly narrower range of prices compared to the competitor standard deviation of 71.55!  \n",
    "The median price (50th percentile) is also lower for our prices at 159.42, compared to the competitor's median of 162.51!  \n",
    "Lastly, our maximum price is 310.66, slightly below the competitor maximum price of 313.64!  \n",
    "> This comparison shows that, on average, our prices tend to be slightly lower than those of our competitors, and there is less variability in our pricing as reflected by the standard deviation!"
   ]
  },
  {
   "cell_type": "code",
   "execution_count": 10,
   "metadata": {},
   "outputs": [
    {
     "data": {
      "image/png": "[encoded data removed]",
      "text/plain": [
       "<Figure size 1000x800 with 1 Axes>"
      ]
     },
     "metadata": {},
     "output_type": "display_data"
    }
   ],
   "source": [
    "# Plotting the Price and The Competitor Price Trends Over Time\n",
    "plt.figure(figsize=(10, 8))\n",
    "sns.lineplot(data=dataset, x='Fiscal_Week_ID', y='Price', label='Our Price')\n",
    "sns.lineplot(data=dataset, x='Fiscal_Week_ID', y='Competition_Price', label='Competitor Price')\n",
    "plt.title('Price Trends Over Time')\n",
    "plt.xlabel('Fiscal Week')\n",
    "plt.ylabel('Price')\n",
    "plt.legend()\n",
    "plt.grid(True)\n",
    "plt.show()"
   ]
  },
  {
   "cell_type": "markdown",
   "metadata": {},
   "source": [
    "> The competition maintains higher average prices consistently above 170, with a slight upward trend over the observed weeks. In contrast, our store’s prices start around 166, increase slightly, then dip before rising again. It indicates that the competition follows a more stable pricing strategy, while our store experiences more fluctuations in pricing. The stability in the competition’s pricing could be contributing to their higher and more consistent sales performance.\n",
    "\n",
    "#### Are there identifiable trends or patterns in sales quantities over different fiscal weeks, indicating seasonality or temporal effects?"
   ]
  },
  {
   "cell_type": "code",
   "execution_count": 11,
   "metadata": {},
   "outputs": [
    {
     "name": "stdout",
     "output_type": "stream",
     "text": [
      "  Fiscal_Week_ID  Item_Quantity\n",
      "0        2019-11        7839663\n",
      "1        2019-12        8254376\n",
      "2        2019-13        7943760\n",
      "3        2019-14        7836817\n",
      "4        2019-15        8086516\n"
     ]
    }
   ],
   "source": [
    "# Group by Fiscal_Week_Id and sum Item_Quantity\n",
    "weekly_sales = dataset.groupby('Fiscal_Week_ID')['Item_Quantity'].sum().reset_index()\n",
    "\n",
    "# Display the result\n",
    "print(weekly_sales)"
   ]
  },
  {
   "cell_type": "code",
   "execution_count": 12,
   "metadata": {},
   "outputs": [
    {
     "data": {
      "image/png": "[encoded data removed]",
      "text/plain": [
       "<Figure size 1000x600 with 1 Axes>"
      ]
     },
     "metadata": {},
     "output_type": "display_data"
    }
   ],
   "source": [
    "plt.figure(figsize=(10, 6))\n",
    "sns.lineplot(data=weekly_sales, x='Fiscal_Week_ID', y='Item_Quantity', marker='o')\n",
    "plt.title('Total Item Quantity Sold Over Fiscal Weeks')\n",
    "plt.xlabel('Fiscal Week')\n",
    "plt.ylabel('Total Quantity Sold')\n",
    "plt.grid(True)\n",
    "plt.show()"
   ]
  },
  {
   "cell_type": "markdown",
   "metadata": {},
   "source": [
    "> It decreases after the first week and continues goes down through the third week and then increases after the fourth week!  \n",
    "\n",
    "#### How changes in prices affect the change in quantity sold?\n",
    "Ed = % change in quantity demanded / % change in price  \n",
    "(Elasticity of demand) = How much the quantity sold changes in percentage terms / How much the price changes in percentage terms"
   ]
  },
  {
   "cell_type": "code",
   "execution_count": 13,
   "metadata": {},
   "outputs": [],
   "source": [
    "dataset['price_change'] = dataset['Price'].pct_change()\n",
    "# This line calculates the fractional change in the Price column for each row compared to the previous row.\n",
    "dataset['qty_change'] = dataset['Item_Quantity'].pct_change()\n",
    "# This line calculates the fractional change in the Item_Quantity column for each row compared to the previous row.\n",
    "# Computes the fractional change from the immediately previous row by default. This is useful in comparing the fraction of change in a time series of elements."
   ]
  },
  {
   "cell_type": "code",
   "execution_count": 14,
   "metadata": {},
   "outputs": [
    {
     "data": {
      "text/html": [
       "<div>\n",
       "<style scoped>\n",
       "    .dataframe tbody tr th:only-of-type {\n",
       "        vertical-align: middle;\n",
       "    }\n",
       "\n",
       "    .dataframe tbody tr th {\n",
       "        vertical-align: top;\n",
       "    }\n",
       "\n",
       "    .dataframe thead th {\n",
       "        text-align: right;\n",
       "    }\n",
       "</style>\n",
       "<table border=\"1\" class=\"dataframe\">\n",
       "  <thead>\n",
       "    <tr style=\"text-align: right;\">\n",
       "      <th></th>\n",
       "      <th>Index</th>\n",
       "      <th>Fiscal_Week_ID</th>\n",
       "      <th>Store_ID</th>\n",
       "      <th>Item_ID</th>\n",
       "      <th>Price</th>\n",
       "      <th>Item_Quantity</th>\n",
       "      <th>Sales_Amount_No_Discount</th>\n",
       "      <th>Sales_Amount</th>\n",
       "      <th>Competition_Price</th>\n",
       "      <th>price_change</th>\n",
       "      <th>qty_change</th>\n",
       "    </tr>\n",
       "  </thead>\n",
       "  <tbody>\n",
       "    <tr>\n",
       "      <th>0</th>\n",
       "      <td>0</td>\n",
       "      <td>2019-11</td>\n",
       "      <td>store_459</td>\n",
       "      <td>item_526</td>\n",
       "      <td>134.49</td>\n",
       "      <td>435</td>\n",
       "      <td>4716.74</td>\n",
       "      <td>11272.59</td>\n",
       "      <td>206.44</td>\n",
       "      <td>NaN</td>\n",
       "      <td>NaN</td>\n",
       "    </tr>\n",
       "    <tr>\n",
       "      <th>1</th>\n",
       "      <td>1</td>\n",
       "      <td>2019-11</td>\n",
       "      <td>store_459</td>\n",
       "      <td>item_526</td>\n",
       "      <td>134.49</td>\n",
       "      <td>435</td>\n",
       "      <td>4716.74</td>\n",
       "      <td>11272.59</td>\n",
       "      <td>158.01</td>\n",
       "      <td>0.0</td>\n",
       "      <td>0.0</td>\n",
       "    </tr>\n",
       "    <tr>\n",
       "      <th>2</th>\n",
       "      <td>2</td>\n",
       "      <td>2019-11</td>\n",
       "      <td>store_459</td>\n",
       "      <td>item_526</td>\n",
       "      <td>134.49</td>\n",
       "      <td>435</td>\n",
       "      <td>4716.74</td>\n",
       "      <td>11272.59</td>\n",
       "      <td>278.03</td>\n",
       "      <td>0.0</td>\n",
       "      <td>0.0</td>\n",
       "    </tr>\n",
       "    <tr>\n",
       "      <th>3</th>\n",
       "      <td>3</td>\n",
       "      <td>2019-11</td>\n",
       "      <td>store_459</td>\n",
       "      <td>item_526</td>\n",
       "      <td>134.49</td>\n",
       "      <td>435</td>\n",
       "      <td>4716.74</td>\n",
       "      <td>11272.59</td>\n",
       "      <td>222.66</td>\n",
       "      <td>0.0</td>\n",
       "      <td>0.0</td>\n",
       "    </tr>\n",
       "    <tr>\n",
       "      <th>4</th>\n",
       "      <td>4</td>\n",
       "      <td>2019-11</td>\n",
       "      <td>store_459</td>\n",
       "      <td>item_526</td>\n",
       "      <td>134.49</td>\n",
       "      <td>435</td>\n",
       "      <td>4716.74</td>\n",
       "      <td>11272.59</td>\n",
       "      <td>195.32</td>\n",
       "      <td>0.0</td>\n",
       "      <td>0.0</td>\n",
       "    </tr>\n",
       "  </tbody>\n",
       "</table>\n",
       "</div>"
      ],
      "text/plain": [
       "   Index Fiscal_Week_ID   Store_ID   Item_ID   Price  Item_Quantity  \\\n",
       "0      0        2019-11  store_459  item_526  134.49            435   \n",
       "1      1        2019-11  store_459  item_526  134.49            435   \n",
       "2      2        2019-11  store_459  item_526  134.49            435   \n",
       "3      3        2019-11  store_459  item_526  134.49            435   \n",
       "4      4        2019-11  store_459  item_526  134.49            435   \n",
       "\n",
       "   Sales_Amount_No_Discount  Sales_Amount  Competition_Price  price_change  \\\n",
       "0                   4716.74      11272.59             206.44           NaN   \n",
       "1                   4716.74      11272.59             158.01           0.0   \n",
       "2                   4716.74      11272.59             278.03           0.0   \n",
       "3                   4716.74      11272.59             222.66           0.0   \n",
       "4                   4716.74      11272.59             195.32           0.0   \n",
       "\n",
       "   qty_change  \n",
       "0         NaN  \n",
       "1         0.0  \n",
       "2         0.0  \n",
       "3         0.0  \n",
       "4         0.0  "
      ]
     },
     "execution_count": 14,
     "metadata": {},
     "output_type": "execute_result"
    }
   ],
   "source": [
    "dataset.head()"
   ]
  },
  {
   "cell_type": "code",
   "execution_count": 15,
   "metadata": {},
   "outputs": [],
   "source": [
    "# Calculate elasticity using the formula Ed = % change in quantity demanded / % change in price\n",
    "# This line calculates the price elasticity of demand for each row by dividing the fractional change in quantity sold by the fractional change in price.\n",
    "dataset['elasticity'] = dataset['qty_change'] / dataset['price_change']\n",
    "\n",
    "# Replace infinite values with NaN (e.g., when price_change is zero, pct_change can result in inf)\n",
    "dataset.replace([float('inf'), -float('inf')], float('nan'), inplace=True)\n",
    "\n",
    "# Drop rows where elasticity is NaN\n",
    "dataset.dropna(subset=['elasticity'], inplace=True)"
   ]
  },
  {
   "cell_type": "code",
   "execution_count": 16,
   "metadata": {},
   "outputs": [
    {
     "data": {
      "text/html": [
       "<div>\n",
       "<style scoped>\n",
       "    .dataframe tbody tr th:only-of-type {\n",
       "        vertical-align: middle;\n",
       "    }\n",
       "\n",
       "    .dataframe tbody tr th {\n",
       "        vertical-align: top;\n",
       "    }\n",
       "\n",
       "    .dataframe thead th {\n",
       "        text-align: right;\n",
       "    }\n",
       "</style>\n",
       "<table border=\"1\" class=\"dataframe\">\n",
       "  <thead>\n",
       "    <tr style=\"text-align: right;\">\n",
       "      <th></th>\n",
       "      <th>Index</th>\n",
       "      <th>Fiscal_Week_ID</th>\n",
       "      <th>Store_ID</th>\n",
       "      <th>Item_ID</th>\n",
       "      <th>Price</th>\n",
       "      <th>Item_Quantity</th>\n",
       "      <th>Sales_Amount_No_Discount</th>\n",
       "      <th>Sales_Amount</th>\n",
       "      <th>Competition_Price</th>\n",
       "      <th>price_change</th>\n",
       "      <th>qty_change</th>\n",
       "      <th>elasticity</th>\n",
       "    </tr>\n",
       "  </thead>\n",
       "  <tbody>\n",
       "    <tr>\n",
       "      <th>10</th>\n",
       "      <td>10</td>\n",
       "      <td>2019-11</td>\n",
       "      <td>store_709</td>\n",
       "      <td>item_526</td>\n",
       "      <td>136.79</td>\n",
       "      <td>459</td>\n",
       "      <td>4890.43</td>\n",
       "      <td>11545.08</td>\n",
       "      <td>206.44</td>\n",
       "      <td>0.017102</td>\n",
       "      <td>0.055172</td>\n",
       "      <td>3.226147</td>\n",
       "    </tr>\n",
       "    <tr>\n",
       "      <th>20</th>\n",
       "      <td>20</td>\n",
       "      <td>2019-11</td>\n",
       "      <td>store_442</td>\n",
       "      <td>item_526</td>\n",
       "      <td>138.67</td>\n",
       "      <td>458</td>\n",
       "      <td>4933.46</td>\n",
       "      <td>11517.46</td>\n",
       "      <td>206.44</td>\n",
       "      <td>0.013744</td>\n",
       "      <td>-0.002179</td>\n",
       "      <td>-0.158520</td>\n",
       "    </tr>\n",
       "    <tr>\n",
       "      <th>30</th>\n",
       "      <td>30</td>\n",
       "      <td>2019-11</td>\n",
       "      <td>store_136</td>\n",
       "      <td>item_526</td>\n",
       "      <td>128.93</td>\n",
       "      <td>459</td>\n",
       "      <td>4962.56</td>\n",
       "      <td>11216.19</td>\n",
       "      <td>206.44</td>\n",
       "      <td>-0.070239</td>\n",
       "      <td>0.002183</td>\n",
       "      <td>-0.031086</td>\n",
       "    </tr>\n",
       "    <tr>\n",
       "      <th>40</th>\n",
       "      <td>40</td>\n",
       "      <td>2019-11</td>\n",
       "      <td>store_601</td>\n",
       "      <td>item_526</td>\n",
       "      <td>134.45</td>\n",
       "      <td>436</td>\n",
       "      <td>4704.89</td>\n",
       "      <td>10980.31</td>\n",
       "      <td>206.44</td>\n",
       "      <td>0.042814</td>\n",
       "      <td>-0.050109</td>\n",
       "      <td>-1.170389</td>\n",
       "    </tr>\n",
       "    <tr>\n",
       "      <th>50</th>\n",
       "      <td>50</td>\n",
       "      <td>2019-11</td>\n",
       "      <td>store_458</td>\n",
       "      <td>item_526</td>\n",
       "      <td>134.13</td>\n",
       "      <td>435</td>\n",
       "      <td>4558.87</td>\n",
       "      <td>11168.10</td>\n",
       "      <td>206.44</td>\n",
       "      <td>-0.002380</td>\n",
       "      <td>-0.002294</td>\n",
       "      <td>0.963661</td>\n",
       "    </tr>\n",
       "  </tbody>\n",
       "</table>\n",
       "</div>"
      ],
      "text/plain": [
       "    Index Fiscal_Week_ID   Store_ID   Item_ID   Price  Item_Quantity  \\\n",
       "10     10        2019-11  store_709  item_526  136.79            459   \n",
       "20     20        2019-11  store_442  item_526  138.67            458   \n",
       "30     30        2019-11  store_136  item_526  128.93            459   \n",
       "40     40        2019-11  store_601  item_526  134.45            436   \n",
       "50     50        2019-11  store_458  item_526  134.13            435   \n",
       "\n",
       "    Sales_Amount_No_Discount  Sales_Amount  Competition_Price  price_change  \\\n",
       "10                   4890.43      11545.08             206.44      0.017102   \n",
       "20                   4933.46      11517.46             206.44      0.013744   \n",
       "30                   4962.56      11216.19             206.44     -0.070239   \n",
       "40                   4704.89      10980.31             206.44      0.042814   \n",
       "50                   4558.87      11168.10             206.44     -0.002380   \n",
       "\n",
       "    qty_change  elasticity  \n",
       "10    0.055172    3.226147  \n",
       "20   -0.002179   -0.158520  \n",
       "30    0.002183   -0.031086  \n",
       "40   -0.050109   -1.170389  \n",
       "50   -0.002294    0.963661  "
      ]
     },
     "execution_count": 16,
     "metadata": {},
     "output_type": "execute_result"
    }
   ],
   "source": [
    "dataset.head()"
   ]
  },
  {
   "cell_type": "code",
   "execution_count": 17,
   "metadata": {},
   "outputs": [
    {
     "data": {
      "image/png": "[encoded data removed]",
      "text/plain": [
       "<Figure size 1000x600 with 1 Axes>"
      ]
     },
     "metadata": {},
     "output_type": "display_data"
    }
   ],
   "source": [
    "plt.figure(figsize=(10, 6))\n",
    "plt.plot(dataset['Fiscal_Week_ID'], dataset['elasticity'], marker='o', linestyle='-', color='purple')\n",
    "plt.axhline(0, color='grey', linewidth=0.8)\n",
    "plt.xlabel('Fiscal Week')\n",
    "plt.ylabel('Price Elasticity of Demand')\n",
    "plt.title('Price Elasticity of Demand Over Time')\n",
    "plt.grid(True)\n",
    "plt.show()"
   ]
  },
  {
   "cell_type": "markdown",
   "metadata": {},
   "source": [
    "> It highlights significant variability in elasticity across different weeks, with values ranging from highly negative to highly positive.  \n",
    "High positive elasticity suggests that in some weeks, demand increased significantly with price increases, while high negative elasticity in other weeks indicates a sharp drop in demand with price hikes.  \n",
    "The broad spread of elasticity values implies an inconsistent response to price changes, which suggests that factors other than price, such as promotions, seasonality, or market conditions, might be influencing demand.\n",
    "\n",
    "#### Compare the total sales amounts between our store and the competitions\n",
    ">(For the competitions we assume they have sold as many products as our store!)"
   ]
  },
  {
   "cell_type": "code",
   "execution_count": 18,
   "metadata": {},
   "outputs": [],
   "source": [
    "total_sales_our_store = dataset['Sales_Amount'].sum()\n",
    "total_sales_competitor = (dataset['Competition_Price'] * dataset['Item_Quantity']).sum()"
   ]
  },
  {
   "cell_type": "code",
   "execution_count": 19,
   "metadata": {},
   "outputs": [],
   "source": [
    "total_quantity_our_store = dataset['Item_Quantity'].sum()\n",
    "total_quantity_competitor = total_quantity_our_store # Assuming the competitor sells the same quantity as us"
   ]
  },
  {
   "cell_type": "code",
   "execution_count": 20,
   "metadata": {},
   "outputs": [
    {
     "data": {
      "text/html": [
       "<div>\n",
       "<style scoped>\n",
       "    .dataframe tbody tr th:only-of-type {\n",
       "        vertical-align: middle;\n",
       "    }\n",
       "\n",
       "    .dataframe tbody tr th {\n",
       "        vertical-align: top;\n",
       "    }\n",
       "\n",
       "    .dataframe thead th {\n",
       "        text-align: right;\n",
       "    }\n",
       "</style>\n",
       "<table border=\"1\" class=\"dataframe\">\n",
       "  <thead>\n",
       "    <tr style=\"text-align: right;\">\n",
       "      <th></th>\n",
       "      <th>Metric</th>\n",
       "      <th>Our Store</th>\n",
       "      <th>Competition</th>\n",
       "    </tr>\n",
       "  </thead>\n",
       "  <tbody>\n",
       "    <tr>\n",
       "      <th>0</th>\n",
       "      <td>Total Sales Amount</td>\n",
       "      <td>1.141005e+08</td>\n",
       "      <td>6.962097e+08</td>\n",
       "    </tr>\n",
       "    <tr>\n",
       "      <th>1</th>\n",
       "      <td>Total Quantity Sold</td>\n",
       "      <td>3.984776e+06</td>\n",
       "      <td>3.984776e+06</td>\n",
       "    </tr>\n",
       "  </tbody>\n",
       "</table>\n",
       "</div>"
      ],
      "text/plain": [
       "                Metric     Our Store   Competition\n",
       "0   Total Sales Amount  1.141005e+08  6.962097e+08\n",
       "1  Total Quantity Sold  3.984776e+06  3.984776e+06"
      ]
     },
     "execution_count": 20,
     "metadata": {},
     "output_type": "execute_result"
    }
   ],
   "source": [
    "summary = pd.DataFrame({\n",
    "    'Metric': ['Total Sales Amount', 'Total Quantity Sold'],\n",
    "    'Our Store': [total_sales_our_store, total_quantity_our_store],\n",
    "    'Competition': [total_sales_competitor, total_quantity_competitor]\n",
    "})\n",
    "summary"
   ]
  },
  {
   "cell_type": "markdown",
   "metadata": {},
   "source": [
    "> Our store’s total sales amount is 114,100,500, whereas the competition’s total sales amount is 696,209,700 (assuming equal quantity sold).  \n",
    "The competition has a significantly higher total sales amount compared to our store. It indicates that their pricing strategy is more effective in generating revenue.\n",
    "\n",
    "#### How the sales amounts vary across different price brackets?\n",
    "(to identify if there are specific price ranges where the competition outperforms our store)"
   ]
  },
  {
   "cell_type": "markdown",
   "metadata": {},
   "source": [
    "#### "
   ]
  },
  {
   "cell_type": "code",
   "execution_count": 21,
   "metadata": {},
   "outputs": [],
   "source": [
    "# define price brackets\n",
    "bins = [0, 50, 100, 150, 200, 250, 300, 350, 400, 450, 500]\n",
    "labels = ['0-50', '51-100', '101-150', '151-200', '201-250', '251-300', '301-350', '351-400', '401-450', '451-500']\n",
    "\n",
    "# create price brackets for both your store and competition\n",
    "dataset['price_bracket'] = pd.cut(dataset['Price'], bins=bins, labels=labels, right=False)\n",
    "dataset['competition_price_bracket'] = pd.cut(dataset['Competition_Price'], bins=bins, labels=labels, right=False)"
   ]
  },
  {
   "cell_type": "code",
   "execution_count": 22,
   "metadata": {},
   "outputs": [
    {
     "data": {
      "text/html": [
       "<div>\n",
       "<style scoped>\n",
       "    .dataframe tbody tr th:only-of-type {\n",
       "        vertical-align: middle;\n",
       "    }\n",
       "\n",
       "    .dataframe tbody tr th {\n",
       "        vertical-align: top;\n",
       "    }\n",
       "\n",
       "    .dataframe thead th {\n",
       "        text-align: right;\n",
       "    }\n",
       "</style>\n",
       "<table border=\"1\" class=\"dataframe\">\n",
       "  <thead>\n",
       "    <tr style=\"text-align: right;\">\n",
       "      <th></th>\n",
       "      <th>Index</th>\n",
       "      <th>Fiscal_Week_ID</th>\n",
       "      <th>Store_ID</th>\n",
       "      <th>Item_ID</th>\n",
       "      <th>Price</th>\n",
       "      <th>Item_Quantity</th>\n",
       "      <th>Sales_Amount_No_Discount</th>\n",
       "      <th>Sales_Amount</th>\n",
       "      <th>Competition_Price</th>\n",
       "      <th>price_change</th>\n",
       "      <th>qty_change</th>\n",
       "      <th>elasticity</th>\n",
       "      <th>price_bracket</th>\n",
       "      <th>competition_price_bracket</th>\n",
       "    </tr>\n",
       "  </thead>\n",
       "  <tbody>\n",
       "    <tr>\n",
       "      <th>10</th>\n",
       "      <td>10</td>\n",
       "      <td>2019-11</td>\n",
       "      <td>store_709</td>\n",
       "      <td>item_526</td>\n",
       "      <td>136.79</td>\n",
       "      <td>459</td>\n",
       "      <td>4890.43</td>\n",
       "      <td>11545.08</td>\n",
       "      <td>206.44</td>\n",
       "      <td>0.017102</td>\n",
       "      <td>0.055172</td>\n",
       "      <td>3.226147</td>\n",
       "      <td>101-150</td>\n",
       "      <td>201-250</td>\n",
       "    </tr>\n",
       "    <tr>\n",
       "      <th>20</th>\n",
       "      <td>20</td>\n",
       "      <td>2019-11</td>\n",
       "      <td>store_442</td>\n",
       "      <td>item_526</td>\n",
       "      <td>138.67</td>\n",
       "      <td>458</td>\n",
       "      <td>4933.46</td>\n",
       "      <td>11517.46</td>\n",
       "      <td>206.44</td>\n",
       "      <td>0.013744</td>\n",
       "      <td>-0.002179</td>\n",
       "      <td>-0.158520</td>\n",
       "      <td>101-150</td>\n",
       "      <td>201-250</td>\n",
       "    </tr>\n",
       "    <tr>\n",
       "      <th>30</th>\n",
       "      <td>30</td>\n",
       "      <td>2019-11</td>\n",
       "      <td>store_136</td>\n",
       "      <td>item_526</td>\n",
       "      <td>128.93</td>\n",
       "      <td>459</td>\n",
       "      <td>4962.56</td>\n",
       "      <td>11216.19</td>\n",
       "      <td>206.44</td>\n",
       "      <td>-0.070239</td>\n",
       "      <td>0.002183</td>\n",
       "      <td>-0.031086</td>\n",
       "      <td>101-150</td>\n",
       "      <td>201-250</td>\n",
       "    </tr>\n",
       "    <tr>\n",
       "      <th>40</th>\n",
       "      <td>40</td>\n",
       "      <td>2019-11</td>\n",
       "      <td>store_601</td>\n",
       "      <td>item_526</td>\n",
       "      <td>134.45</td>\n",
       "      <td>436</td>\n",
       "      <td>4704.89</td>\n",
       "      <td>10980.31</td>\n",
       "      <td>206.44</td>\n",
       "      <td>0.042814</td>\n",
       "      <td>-0.050109</td>\n",
       "      <td>-1.170389</td>\n",
       "      <td>101-150</td>\n",
       "      <td>201-250</td>\n",
       "    </tr>\n",
       "    <tr>\n",
       "      <th>50</th>\n",
       "      <td>50</td>\n",
       "      <td>2019-11</td>\n",
       "      <td>store_458</td>\n",
       "      <td>item_526</td>\n",
       "      <td>134.13</td>\n",
       "      <td>435</td>\n",
       "      <td>4558.87</td>\n",
       "      <td>11168.10</td>\n",
       "      <td>206.44</td>\n",
       "      <td>-0.002380</td>\n",
       "      <td>-0.002294</td>\n",
       "      <td>0.963661</td>\n",
       "      <td>101-150</td>\n",
       "      <td>201-250</td>\n",
       "    </tr>\n",
       "  </tbody>\n",
       "</table>\n",
       "</div>"
      ],
      "text/plain": [
       "    Index Fiscal_Week_ID   Store_ID   Item_ID   Price  Item_Quantity  \\\n",
       "10     10        2019-11  store_709  item_526  136.79            459   \n",
       "20     20        2019-11  store_442  item_526  138.67            458   \n",
       "30     30        2019-11  store_136  item_526  128.93            459   \n",
       "40     40        2019-11  store_601  item_526  134.45            436   \n",
       "50     50        2019-11  store_458  item_526  134.13            435   \n",
       "\n",
       "    Sales_Amount_No_Discount  Sales_Amount  Competition_Price  price_change  \\\n",
       "10                   4890.43      11545.08             206.44      0.017102   \n",
       "20                   4933.46      11517.46             206.44      0.013744   \n",
       "30                   4962.56      11216.19             206.44     -0.070239   \n",
       "40                   4704.89      10980.31             206.44      0.042814   \n",
       "50                   4558.87      11168.10             206.44     -0.002380   \n",
       "\n",
       "    qty_change  elasticity price_bracket competition_price_bracket  \n",
       "10    0.055172    3.226147       101-150                   201-250  \n",
       "20   -0.002179   -0.158520       101-150                   201-250  \n",
       "30    0.002183   -0.031086       101-150                   201-250  \n",
       "40   -0.050109   -1.170389       101-150                   201-250  \n",
       "50   -0.002294    0.963661       101-150                   201-250  "
      ]
     },
     "execution_count": 22,
     "metadata": {},
     "output_type": "execute_result"
    }
   ],
   "source": [
    "dataset.head()"
   ]
  },
  {
   "cell_type": "code",
   "execution_count": 23,
   "metadata": {},
   "outputs": [],
   "source": [
    "# calculate sales amount by price bracket for your store\n",
    "sales_by_bracket_your_store = dataset.groupby('price_bracket', observed=False)['Sales_Amount'].sum().reset_index()\n",
    "sales_by_bracket_your_store.columns = ['Price Bracket', 'Your Store Sales Amount']"
   ]
  },
  {
   "cell_type": "code",
   "execution_count": 24,
   "metadata": {},
   "outputs": [],
   "source": [
    "# calculate sales amount by price bracket for competition\n",
    "dataset['competition_sales_amt'] = dataset['Competition_Price'] * dataset['Item_Quantity']\n",
    "sales_by_bracket_competition = dataset.groupby('competition_price_bracket', observed=False)['competition_sales_amt'].sum().reset_index()\n",
    "sales_by_bracket_competition.columns = ['Price Bracket', 'Competition Sales Amount']"
   ]
  },
  {
   "cell_type": "code",
   "execution_count": 25,
   "metadata": {},
   "outputs": [
    {
     "data": {
      "text/html": [
       "<div>\n",
       "<style scoped>\n",
       "    .dataframe tbody tr th:only-of-type {\n",
       "        vertical-align: middle;\n",
       "    }\n",
       "\n",
       "    .dataframe tbody tr th {\n",
       "        vertical-align: top;\n",
       "    }\n",
       "\n",
       "    .dataframe thead th {\n",
       "        text-align: right;\n",
       "    }\n",
       "</style>\n",
       "<table border=\"1\" class=\"dataframe\">\n",
       "  <thead>\n",
       "    <tr style=\"text-align: right;\">\n",
       "      <th></th>\n",
       "      <th>Price Bracket</th>\n",
       "      <th>Your Store Sales Amount</th>\n",
       "      <th>Competition Sales Amount</th>\n",
       "    </tr>\n",
       "  </thead>\n",
       "  <tbody>\n",
       "    <tr>\n",
       "      <th>0</th>\n",
       "      <td>0-50</td>\n",
       "      <td>346800.63</td>\n",
       "      <td>9.305357e+05</td>\n",
       "    </tr>\n",
       "    <tr>\n",
       "      <th>1</th>\n",
       "      <td>51-100</td>\n",
       "      <td>24636244.30</td>\n",
       "      <td>4.889277e+07</td>\n",
       "    </tr>\n",
       "    <tr>\n",
       "      <th>2</th>\n",
       "      <td>101-150</td>\n",
       "      <td>29645669.06</td>\n",
       "      <td>1.278404e+08</td>\n",
       "    </tr>\n",
       "    <tr>\n",
       "      <th>3</th>\n",
       "      <td>151-200</td>\n",
       "      <td>20658418.18</td>\n",
       "      <td>1.092184e+08</td>\n",
       "    </tr>\n",
       "    <tr>\n",
       "      <th>4</th>\n",
       "      <td>201-250</td>\n",
       "      <td>20742288.10</td>\n",
       "      <td>1.909748e+08</td>\n",
       "    </tr>\n",
       "    <tr>\n",
       "      <th>5</th>\n",
       "      <td>251-300</td>\n",
       "      <td>16778087.66</td>\n",
       "      <td>2.047670e+08</td>\n",
       "    </tr>\n",
       "    <tr>\n",
       "      <th>6</th>\n",
       "      <td>301-350</td>\n",
       "      <td>1292959.36</td>\n",
       "      <td>1.358583e+07</td>\n",
       "    </tr>\n",
       "    <tr>\n",
       "      <th>7</th>\n",
       "      <td>351-400</td>\n",
       "      <td>0.00</td>\n",
       "      <td>0.000000e+00</td>\n",
       "    </tr>\n",
       "    <tr>\n",
       "      <th>8</th>\n",
       "      <td>401-450</td>\n",
       "      <td>0.00</td>\n",
       "      <td>0.000000e+00</td>\n",
       "    </tr>\n",
       "    <tr>\n",
       "      <th>9</th>\n",
       "      <td>451-500</td>\n",
       "      <td>0.00</td>\n",
       "      <td>0.000000e+00</td>\n",
       "    </tr>\n",
       "  </tbody>\n",
       "</table>\n",
       "</div>"
      ],
      "text/plain": [
       "  Price Bracket  Your Store Sales Amount  Competition Sales Amount\n",
       "0          0-50                346800.63              9.305357e+05\n",
       "1        51-100              24636244.30              4.889277e+07\n",
       "2       101-150              29645669.06              1.278404e+08\n",
       "3       151-200              20658418.18              1.092184e+08\n",
       "4       201-250              20742288.10              1.909748e+08\n",
       "5       251-300              16778087.66              2.047670e+08\n",
       "6       301-350               1292959.36              1.358583e+07\n",
       "7       351-400                     0.00              0.000000e+00\n",
       "8       401-450                     0.00              0.000000e+00\n",
       "9       451-500                     0.00              0.000000e+00"
      ]
     },
     "execution_count": 25,
     "metadata": {},
     "output_type": "execute_result"
    }
   ],
   "source": [
    "sales_by_bracket = pd.merge(sales_by_bracket_your_store, sales_by_bracket_competition, on='Price Bracket')\n",
    "\n",
    "sales_by_bracket"
   ]
  },
  {
   "cell_type": "markdown",
   "metadata": {},
   "source": [
    "> The competition has significantly higher sales in bracket 0, bracket 1, bracket 2, ....!"
   ]
  },
  {
   "cell_type": "markdown",
   "metadata": {},
   "source": [
    "### Price Optimization with dynamic pricing\n",
    "1. We will enhance our dataset to include segments and calculate price elasticity for each segment.\n",
    "2. We’ll create segments based on purchasing behaviour and calculate price elasticity for each segment.\n",
    "3. We’ll define dynamic pricing rules based on competitor pricing, demand, and elasticity.\n",
    "4. We’ll simulate the dynamic pricing model and compare it with the existing pricing strategy.\n",
    "\n",
    "##### Segment customers based on purchasing behaviour"
   ]
  },
  {
   "cell_type": "code",
   "execution_count": 26,
   "metadata": {},
   "outputs": [],
   "source": [
    "item_summary = dataset.groupby('Item_ID').agg({\n",
    "    'Price': 'mean',\n",
    "    'Item_Quantity': 'sum',\n",
    "}).reset_index()"
   ]
  },
  {
   "cell_type": "code",
   "execution_count": 29,
   "metadata": {},
   "outputs": [],
   "source": [
    "# merge the item summary back to the main dataset\n",
    "dataset = pd.merge(dataset, item_summary, on='Item_ID', suffixes=('', '_avg'))"
   ]
  },
  {
   "cell_type": "code",
   "execution_count": 31,
   "metadata": {},
   "outputs": [
    {
     "data": {
      "text/html": [
       "<div>\n",
       "<style scoped>\n",
       "    .dataframe tbody tr th:only-of-type {\n",
       "        vertical-align: middle;\n",
       "    }\n",
       "\n",
       "    .dataframe tbody tr th {\n",
       "        vertical-align: top;\n",
       "    }\n",
       "\n",
       "    .dataframe thead th {\n",
       "        text-align: right;\n",
       "    }\n",
       "</style>\n",
       "<table border=\"1\" class=\"dataframe\">\n",
       "  <thead>\n",
       "    <tr style=\"text-align: right;\">\n",
       "      <th></th>\n",
       "      <th>Index</th>\n",
       "      <th>Fiscal_Week_ID</th>\n",
       "      <th>Store_ID</th>\n",
       "      <th>Item_ID</th>\n",
       "      <th>Price</th>\n",
       "      <th>Item_Quantity</th>\n",
       "      <th>Sales_Amount_No_Discount</th>\n",
       "      <th>Sales_Amount</th>\n",
       "      <th>Competition_Price</th>\n",
       "      <th>price_change</th>\n",
       "      <th>qty_change</th>\n",
       "      <th>elasticity</th>\n",
       "      <th>price_bracket</th>\n",
       "      <th>competition_price_bracket</th>\n",
       "      <th>competition_sales_amt</th>\n",
       "      <th>Price_avg</th>\n",
       "      <th>Item_Quantity_avg</th>\n",
       "    </tr>\n",
       "  </thead>\n",
       "  <tbody>\n",
       "    <tr>\n",
       "      <th>0</th>\n",
       "      <td>10</td>\n",
       "      <td>2019-11</td>\n",
       "      <td>store_709</td>\n",
       "      <td>item_526</td>\n",
       "      <td>136.79</td>\n",
       "      <td>459</td>\n",
       "      <td>4890.43</td>\n",
       "      <td>11545.08</td>\n",
       "      <td>206.44</td>\n",
       "      <td>0.017102</td>\n",
       "      <td>0.055172</td>\n",
       "      <td>3.226147</td>\n",
       "      <td>101-150</td>\n",
       "      <td>201-250</td>\n",
       "      <td>94755.96</td>\n",
       "      <td>132.061224</td>\n",
       "      <td>21792</td>\n",
       "    </tr>\n",
       "    <tr>\n",
       "      <th>1</th>\n",
       "      <td>20</td>\n",
       "      <td>2019-11</td>\n",
       "      <td>store_442</td>\n",
       "      <td>item_526</td>\n",
       "      <td>138.67</td>\n",
       "      <td>458</td>\n",
       "      <td>4933.46</td>\n",
       "      <td>11517.46</td>\n",
       "      <td>206.44</td>\n",
       "      <td>0.013744</td>\n",
       "      <td>-0.002179</td>\n",
       "      <td>-0.158520</td>\n",
       "      <td>101-150</td>\n",
       "      <td>201-250</td>\n",
       "      <td>94549.52</td>\n",
       "      <td>132.061224</td>\n",
       "      <td>21792</td>\n",
       "    </tr>\n",
       "    <tr>\n",
       "      <th>2</th>\n",
       "      <td>30</td>\n",
       "      <td>2019-11</td>\n",
       "      <td>store_136</td>\n",
       "      <td>item_526</td>\n",
       "      <td>128.93</td>\n",
       "      <td>459</td>\n",
       "      <td>4962.56</td>\n",
       "      <td>11216.19</td>\n",
       "      <td>206.44</td>\n",
       "      <td>-0.070239</td>\n",
       "      <td>0.002183</td>\n",
       "      <td>-0.031086</td>\n",
       "      <td>101-150</td>\n",
       "      <td>201-250</td>\n",
       "      <td>94755.96</td>\n",
       "      <td>132.061224</td>\n",
       "      <td>21792</td>\n",
       "    </tr>\n",
       "  </tbody>\n",
       "</table>\n",
       "</div>"
      ],
      "text/plain": [
       "   Index Fiscal_Week_ID   Store_ID   Item_ID   Price  Item_Quantity  \\\n",
       "0     10        2019-11  store_709  item_526  136.79            459   \n",
       "1     20        2019-11  store_442  item_526  138.67            458   \n",
       "2     30        2019-11  store_136  item_526  128.93            459   \n",
       "\n",
       "   Sales_Amount_No_Discount  Sales_Amount  Competition_Price  price_change  \\\n",
       "0                   4890.43      11545.08             206.44      0.017102   \n",
       "1                   4933.46      11517.46             206.44      0.013744   \n",
       "2                   4962.56      11216.19             206.44     -0.070239   \n",
       "\n",
       "   qty_change  elasticity price_bracket competition_price_bracket  \\\n",
       "0    0.055172    3.226147       101-150                   201-250   \n",
       "1   -0.002179   -0.158520       101-150                   201-250   \n",
       "2    0.002183   -0.031086       101-150                   201-250   \n",
       "\n",
       "   competition_sales_amt   Price_avg  Item_Quantity_avg  \n",
       "0               94755.96  132.061224              21792  \n",
       "1               94549.52  132.061224              21792  \n",
       "2               94755.96  132.061224              21792  "
      ]
     },
     "execution_count": 31,
     "metadata": {},
     "output_type": "execute_result"
    }
   ],
   "source": [
    "dataset.head(3)"
   ]
  },
  {
   "cell_type": "code",
   "execution_count": 32,
   "metadata": {},
   "outputs": [],
   "source": [
    "# define segments based on average price\n",
    "dataset['segment'] = pd.cut(dataset['Price_avg'], bins=[0, 50, 150, 300], labels=['Low', 'Medium', 'High'])"
   ]
  },
  {
   "cell_type": "code",
   "execution_count": 33,
   "metadata": {},
   "outputs": [
    {
     "data": {
      "text/html": [
       "<div>\n",
       "<style scoped>\n",
       "    .dataframe tbody tr th:only-of-type {\n",
       "        vertical-align: middle;\n",
       "    }\n",
       "\n",
       "    .dataframe tbody tr th {\n",
       "        vertical-align: top;\n",
       "    }\n",
       "\n",
       "    .dataframe thead th {\n",
       "        text-align: right;\n",
       "    }\n",
       "</style>\n",
       "<table border=\"1\" class=\"dataframe\">\n",
       "  <thead>\n",
       "    <tr style=\"text-align: right;\">\n",
       "      <th></th>\n",
       "      <th>Index</th>\n",
       "      <th>Fiscal_Week_ID</th>\n",
       "      <th>Store_ID</th>\n",
       "      <th>Item_ID</th>\n",
       "      <th>Price</th>\n",
       "      <th>Item_Quantity</th>\n",
       "      <th>Sales_Amount_No_Discount</th>\n",
       "      <th>Sales_Amount</th>\n",
       "      <th>Competition_Price</th>\n",
       "      <th>price_change</th>\n",
       "      <th>qty_change</th>\n",
       "      <th>elasticity</th>\n",
       "      <th>price_bracket</th>\n",
       "      <th>competition_price_bracket</th>\n",
       "      <th>competition_sales_amt</th>\n",
       "      <th>Price_avg</th>\n",
       "      <th>Item_Quantity_avg</th>\n",
       "      <th>segment</th>\n",
       "    </tr>\n",
       "  </thead>\n",
       "  <tbody>\n",
       "    <tr>\n",
       "      <th>0</th>\n",
       "      <td>10</td>\n",
       "      <td>2019-11</td>\n",
       "      <td>store_709</td>\n",
       "      <td>item_526</td>\n",
       "      <td>136.79</td>\n",
       "      <td>459</td>\n",
       "      <td>4890.43</td>\n",
       "      <td>11545.08</td>\n",
       "      <td>206.44</td>\n",
       "      <td>0.017102</td>\n",
       "      <td>0.055172</td>\n",
       "      <td>3.226147</td>\n",
       "      <td>101-150</td>\n",
       "      <td>201-250</td>\n",
       "      <td>94755.96</td>\n",
       "      <td>132.061224</td>\n",
       "      <td>21792</td>\n",
       "      <td>Medium</td>\n",
       "    </tr>\n",
       "    <tr>\n",
       "      <th>1</th>\n",
       "      <td>20</td>\n",
       "      <td>2019-11</td>\n",
       "      <td>store_442</td>\n",
       "      <td>item_526</td>\n",
       "      <td>138.67</td>\n",
       "      <td>458</td>\n",
       "      <td>4933.46</td>\n",
       "      <td>11517.46</td>\n",
       "      <td>206.44</td>\n",
       "      <td>0.013744</td>\n",
       "      <td>-0.002179</td>\n",
       "      <td>-0.158520</td>\n",
       "      <td>101-150</td>\n",
       "      <td>201-250</td>\n",
       "      <td>94549.52</td>\n",
       "      <td>132.061224</td>\n",
       "      <td>21792</td>\n",
       "      <td>Medium</td>\n",
       "    </tr>\n",
       "    <tr>\n",
       "      <th>2</th>\n",
       "      <td>30</td>\n",
       "      <td>2019-11</td>\n",
       "      <td>store_136</td>\n",
       "      <td>item_526</td>\n",
       "      <td>128.93</td>\n",
       "      <td>459</td>\n",
       "      <td>4962.56</td>\n",
       "      <td>11216.19</td>\n",
       "      <td>206.44</td>\n",
       "      <td>-0.070239</td>\n",
       "      <td>0.002183</td>\n",
       "      <td>-0.031086</td>\n",
       "      <td>101-150</td>\n",
       "      <td>201-250</td>\n",
       "      <td>94755.96</td>\n",
       "      <td>132.061224</td>\n",
       "      <td>21792</td>\n",
       "      <td>Medium</td>\n",
       "    </tr>\n",
       "  </tbody>\n",
       "</table>\n",
       "</div>"
      ],
      "text/plain": [
       "   Index Fiscal_Week_ID   Store_ID   Item_ID   Price  Item_Quantity  \\\n",
       "0     10        2019-11  store_709  item_526  136.79            459   \n",
       "1     20        2019-11  store_442  item_526  138.67            458   \n",
       "2     30        2019-11  store_136  item_526  128.93            459   \n",
       "\n",
       "   Sales_Amount_No_Discount  Sales_Amount  Competition_Price  price_change  \\\n",
       "0                   4890.43      11545.08             206.44      0.017102   \n",
       "1                   4933.46      11517.46             206.44      0.013744   \n",
       "2                   4962.56      11216.19             206.44     -0.070239   \n",
       "\n",
       "   qty_change  elasticity price_bracket competition_price_bracket  \\\n",
       "0    0.055172    3.226147       101-150                   201-250   \n",
       "1   -0.002179   -0.158520       101-150                   201-250   \n",
       "2    0.002183   -0.031086       101-150                   201-250   \n",
       "\n",
       "   competition_sales_amt   Price_avg  Item_Quantity_avg segment  \n",
       "0               94755.96  132.061224              21792  Medium  \n",
       "1               94549.52  132.061224              21792  Medium  \n",
       "2               94755.96  132.061224              21792  Medium  "
      ]
     },
     "execution_count": 33,
     "metadata": {},
     "output_type": "execute_result"
    }
   ],
   "source": [
    "dataset.head(3)"
   ]
  },
  {
   "cell_type": "markdown",
   "metadata": {},
   "source": [
    "##### Calculating price elasticity for each segment"
   ]
  },
  {
   "cell_type": "code",
   "execution_count": 36,
   "metadata": {},
   "outputs": [],
   "source": [
    "segments = dataset['segment'].unique()\n",
    "# 'Low' < 'Medium' < 'High'\n",
    "elasticity_data = []"
   ]
  },
  {
   "cell_type": "code",
   "execution_count": null,
   "metadata": {},
   "outputs": [],
   "source": [
    "for segment in segments:\n",
    "    segment_data = dataset[dataset['segment'] == segment]\n",
    "    segment_data['price_change'] = segment_data['Price'].pct_change()\n",
    "    segment_data['qty_change'] = segment_data['Item_Quantity'].pct_change()\n",
    "    segment_data['elasticity'] = segment_data['qty_change'] / segment_data['price_change']\n",
    "    segment_data.replace([float('inf'), -float('inf')], float('nan'), inplace=True)\n",
    "    avg_elasticity = segment_data['elasticity'].mean()\n",
    "    elasticity_data.append({'Segment': segment, 'Average Elasticity': avg_elasticity})\n",
    "\n",
    "elasticity_df = pd.DataFrame(elasticity_data)"
   ]
  },
  {
   "cell_type": "code",
   "execution_count": 39,
   "metadata": {},
   "outputs": [
    {
     "data": {
      "text/html": [
       "<div>\n",
       "<style scoped>\n",
       "    .dataframe tbody tr th:only-of-type {\n",
       "        vertical-align: middle;\n",
       "    }\n",
       "\n",
       "    .dataframe tbody tr th {\n",
       "        vertical-align: top;\n",
       "    }\n",
       "\n",
       "    .dataframe thead th {\n",
       "        text-align: right;\n",
       "    }\n",
       "</style>\n",
       "<table border=\"1\" class=\"dataframe\">\n",
       "  <thead>\n",
       "    <tr style=\"text-align: right;\">\n",
       "      <th></th>\n",
       "      <th>Segment</th>\n",
       "      <th>Average Elasticity</th>\n",
       "    </tr>\n",
       "  </thead>\n",
       "  <tbody>\n",
       "    <tr>\n",
       "      <th>0</th>\n",
       "      <td>Medium</td>\n",
       "      <td>0.154444</td>\n",
       "    </tr>\n",
       "    <tr>\n",
       "      <th>1</th>\n",
       "      <td>High</td>\n",
       "      <td>0.148043</td>\n",
       "    </tr>\n",
       "  </tbody>\n",
       "</table>\n",
       "</div>"
      ],
      "text/plain": [
       "  Segment  Average Elasticity\n",
       "0  Medium            0.154444\n",
       "1    High            0.148043"
      ]
     },
     "execution_count": 39,
     "metadata": {},
     "output_type": "execute_result"
    }
   ],
   "source": [
    "elasticity_df"
   ]
  },
  {
   "cell_type": "markdown",
   "metadata": {},
   "source": [
    "> The “High” segment has an average elasticity of 0.143993, indicating that these customers are more sensitive to price changes.  \n",
    "In contrast, the “Medium” segment has a lower average elasticity of 0.071118, suggesting they are less responsive to price variations.\n",
    "\n",
    "\n",
    "1. we calculated the average price and total quantity sold for each item and merged this summary back into the main dataset. \n",
    "2. We then defined segments based on the average price of each item.\n",
    "3. We calculated the price elasticity of demand for each segment by dividing the fractional change in quantity sold by the fractional change in price.\n",
    "4. We then defined customer segments based on these average prices into three categories: Low, Medium, and High.\n",
    "5. For each segment, we calculated the price elasticity of demand by measuring how the percentage change in price affects the percentage change in quantity sold. \n",
    "6. Finally, we computed the average elasticity for each segment, which provides insights into how sensitive each segment is to price changes.\n",
    "\n",
    "Based on the elasticity, we can define the following dynamic pricing rules:\n",
    "\n",
    "1. **Medium Segment (Inelastic Demand)**: Small changes in price won’t significantly affect demand. We can **slightly increase prices** to maximize revenue without losing much in sales volume.\n",
    "2. **High Segment (Elastic Demand)**: Demand is sensitive to price changes. We should **optimize prices to find the sweet spot** that maximizes revenue without losing sales volume."
   ]
  },
  {
   "cell_type": "code",
   "execution_count": 40,
   "metadata": {},
   "outputs": [],
   "source": [
    "# create a copy of the dataset for simulation\n",
    "dynamic_pricing_data = dataset.copy()"
   ]
  },
  {
   "cell_type": "code",
   "execution_count": 42,
   "metadata": {},
   "outputs": [],
   "source": [
    "# apply dynamic pricing rules\n",
    "dynamic_pricing_data.loc[dynamic_pricing_data['segment'] == 'Medium', 'dynamic_price'] = dynamic_pricing_data['Price'] * 1.1\n",
    "# increasing prices by 5% for the Medium segment!\n",
    "dynamic_pricing_data.loc[dynamic_pricing_data['segment'] == 'High', 'dynamic_price'] = dynamic_pricing_data['Price'] * 0.90\n",
    "# decreasing prices by 10% for the High segment!"
   ]
  },
  {
   "cell_type": "code",
   "execution_count": 43,
   "metadata": {},
   "outputs": [
    {
     "data": {
      "text/html": [
       "<div>\n",
       "<style scoped>\n",
       "    .dataframe tbody tr th:only-of-type {\n",
       "        vertical-align: middle;\n",
       "    }\n",
       "\n",
       "    .dataframe tbody tr th {\n",
       "        vertical-align: top;\n",
       "    }\n",
       "\n",
       "    .dataframe thead th {\n",
       "        text-align: right;\n",
       "    }\n",
       "</style>\n",
       "<table border=\"1\" class=\"dataframe\">\n",
       "  <thead>\n",
       "    <tr style=\"text-align: right;\">\n",
       "      <th></th>\n",
       "      <th>Index</th>\n",
       "      <th>Fiscal_Week_ID</th>\n",
       "      <th>Store_ID</th>\n",
       "      <th>Item_ID</th>\n",
       "      <th>Price</th>\n",
       "      <th>Item_Quantity</th>\n",
       "      <th>Sales_Amount_No_Discount</th>\n",
       "      <th>Sales_Amount</th>\n",
       "      <th>Competition_Price</th>\n",
       "      <th>price_change</th>\n",
       "      <th>qty_change</th>\n",
       "      <th>elasticity</th>\n",
       "      <th>price_bracket</th>\n",
       "      <th>competition_price_bracket</th>\n",
       "      <th>competition_sales_amt</th>\n",
       "      <th>Price_avg</th>\n",
       "      <th>Item_Quantity_avg</th>\n",
       "      <th>segment</th>\n",
       "      <th>dynamic_price</th>\n",
       "    </tr>\n",
       "  </thead>\n",
       "  <tbody>\n",
       "    <tr>\n",
       "      <th>0</th>\n",
       "      <td>10</td>\n",
       "      <td>2019-11</td>\n",
       "      <td>store_709</td>\n",
       "      <td>item_526</td>\n",
       "      <td>136.79</td>\n",
       "      <td>459</td>\n",
       "      <td>4890.43</td>\n",
       "      <td>11545.08</td>\n",
       "      <td>206.44</td>\n",
       "      <td>0.017102</td>\n",
       "      <td>0.055172</td>\n",
       "      <td>3.226147</td>\n",
       "      <td>101-150</td>\n",
       "      <td>201-250</td>\n",
       "      <td>94755.96</td>\n",
       "      <td>132.061224</td>\n",
       "      <td>21792</td>\n",
       "      <td>Medium</td>\n",
       "      <td>150.469</td>\n",
       "    </tr>\n",
       "    <tr>\n",
       "      <th>1</th>\n",
       "      <td>20</td>\n",
       "      <td>2019-11</td>\n",
       "      <td>store_442</td>\n",
       "      <td>item_526</td>\n",
       "      <td>138.67</td>\n",
       "      <td>458</td>\n",
       "      <td>4933.46</td>\n",
       "      <td>11517.46</td>\n",
       "      <td>206.44</td>\n",
       "      <td>0.013744</td>\n",
       "      <td>-0.002179</td>\n",
       "      <td>-0.158520</td>\n",
       "      <td>101-150</td>\n",
       "      <td>201-250</td>\n",
       "      <td>94549.52</td>\n",
       "      <td>132.061224</td>\n",
       "      <td>21792</td>\n",
       "      <td>Medium</td>\n",
       "      <td>152.537</td>\n",
       "    </tr>\n",
       "  </tbody>\n",
       "</table>\n",
       "</div>"
      ],
      "text/plain": [
       "   Index Fiscal_Week_ID   Store_ID   Item_ID   Price  Item_Quantity  \\\n",
       "0     10        2019-11  store_709  item_526  136.79            459   \n",
       "1     20        2019-11  store_442  item_526  138.67            458   \n",
       "\n",
       "   Sales_Amount_No_Discount  Sales_Amount  Competition_Price  price_change  \\\n",
       "0                   4890.43      11545.08             206.44      0.017102   \n",
       "1                   4933.46      11517.46             206.44      0.013744   \n",
       "\n",
       "   qty_change  elasticity price_bracket competition_price_bracket  \\\n",
       "0    0.055172    3.226147       101-150                   201-250   \n",
       "1   -0.002179   -0.158520       101-150                   201-250   \n",
       "\n",
       "   competition_sales_amt   Price_avg  Item_Quantity_avg segment  dynamic_price  \n",
       "0               94755.96  132.061224              21792  Medium        150.469  \n",
       "1               94549.52  132.061224              21792  Medium        152.537  "
      ]
     },
     "execution_count": 43,
     "metadata": {},
     "output_type": "execute_result"
    }
   ],
   "source": [
    "dynamic_pricing_data.head(2)"
   ]
  },
  {
   "cell_type": "code",
   "execution_count": 44,
   "metadata": {},
   "outputs": [],
   "source": [
    "# calculate new sales amounts based on dynamic prices\n",
    "dynamic_pricing_data['dynamic_sales_amt'] = dynamic_pricing_data['dynamic_price'] * dynamic_pricing_data['Item_Quantity']"
   ]
  },
  {
   "cell_type": "code",
   "execution_count": 46,
   "metadata": {},
   "outputs": [],
   "source": [
    "# compare total sales amount between before and after applying dynamic pricing\n",
    "total_sales_before = dataset['Sales_Amount'].sum()\n",
    "total_sales_after = dynamic_pricing_data['dynamic_sales_amt'].sum()"
   ]
  },
  {
   "cell_type": "code",
   "execution_count": 47,
   "metadata": {},
   "outputs": [],
   "source": [
    "# compare total quantity sold between before and after applying dynamic pricing\n",
    "total_quantity_before = dataset['Item_Quantity'].sum()\n",
    "total_quantity_after = dynamic_pricing_data['Item_Quantity'].sum()"
   ]
  },
  {
   "cell_type": "code",
   "execution_count": 48,
   "metadata": {},
   "outputs": [
    {
     "data": {
      "text/html": [
       "<div>\n",
       "<style scoped>\n",
       "    .dataframe tbody tr th:only-of-type {\n",
       "        vertical-align: middle;\n",
       "    }\n",
       "\n",
       "    .dataframe tbody tr th {\n",
       "        vertical-align: top;\n",
       "    }\n",
       "\n",
       "    .dataframe thead th {\n",
       "        text-align: right;\n",
       "    }\n",
       "</style>\n",
       "<table border=\"1\" class=\"dataframe\">\n",
       "  <thead>\n",
       "    <tr style=\"text-align: right;\">\n",
       "      <th></th>\n",
       "      <th>Metric</th>\n",
       "      <th>Existing Pricing</th>\n",
       "      <th>Dynamic Pricing</th>\n",
       "    </tr>\n",
       "  </thead>\n",
       "  <tbody>\n",
       "    <tr>\n",
       "      <th>0</th>\n",
       "      <td>Total Sales Amount</td>\n",
       "      <td>1.141005e+08</td>\n",
       "      <td>1.141005e+08</td>\n",
       "    </tr>\n",
       "    <tr>\n",
       "      <th>1</th>\n",
       "      <td>Total Quantity Sold</td>\n",
       "      <td>3.984776e+06</td>\n",
       "      <td>3.984776e+06</td>\n",
       "    </tr>\n",
       "  </tbody>\n",
       "</table>\n",
       "</div>"
      ],
      "text/plain": [
       "                Metric  Existing Pricing  Dynamic Pricing\n",
       "0   Total Sales Amount      1.141005e+08     1.141005e+08\n",
       "1  Total Quantity Sold      3.984776e+06     3.984776e+06"
      ]
     },
     "execution_count": 48,
     "metadata": {},
     "output_type": "execute_result"
    }
   ],
   "source": [
    "comparison_summary = pd.DataFrame({\n",
    "    'Metric': ['Total Sales Amount', 'Total Quantity Sold'],\n",
    "    'Existing Pricing': [total_sales_before, total_quantity_before],\n",
    "    'Dynamic Pricing': [total_sales_before, total_quantity_after]\n",
    "})\n",
    "\n",
    "comparison_summary"
   ]
  },
  {
   "cell_type": "markdown",
   "metadata": {},
   "source": [
    "> The dynamic pricing strategy results in a significantly higher total sales amount compared to the existing pricing strategy. This indicates that the dynamic pricing approach is more effective in maximizing revenue!\n",
    "\n",
    "##### Price optimization is a strategic approach that uses data collection on sales, costs, competition, and market trends to predict demand changes and analyze price elasticity, which enables businesses to set optimal prices."
   ]
  }
 ],
 "metadata": {
  "kernelspec": {
   "display_name": "Python 3",
   "language": "python",
   "name": "python3"
  },
  "language_info": {
   "codemirror_mode": {
    "name": "ipython",
    "version": 3
   },
   "file_extension": ".py",
   "mimetype": "text/x-python",
   "name": "python",
   "nbconvert_exporter": "python",
   "pygments_lexer": "ipython3",
   "version": "3.12.2"
  }
 },
 "nbformat": 4,
 "nbformat_minor": 2
}
