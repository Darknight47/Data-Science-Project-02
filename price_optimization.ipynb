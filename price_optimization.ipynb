{
 "cells": [
  {
   "cell_type": "markdown",
   "metadata": {},
   "source": [
    "## Main Goal\n",
    "The goal is to develop a dynamic pricing model that optimizes the prices of items to maximize revenue while remaining competitive in the market.  \n",
    "\n",
    "**This involves:**\n",
    "\n",
    "1. Analyzing the current pricing strategy and its impact on sales and revenue.\n",
    "2. Comparing our pricing strategy with that of the competition to identify gaps and opportunities.\n",
    "3. Developing a dynamic pricing model that adjusts prices based on factors such as competitor pricing, demand elasticity, and market trends.\n",
    "4. Implementing and simulating the dynamic pricing model to compare its performance against the existing pricing strategy.\n",
    "\n",
    "### Data Understanding\n",
    "The given dataset contains pricing information for various items sold at a retail store and their corresponding prices at competing stores. The dataset includes the following columns:\n",
    "\n",
    "1. **Fiscal_Week_Id**: The fiscal week identifier.\n",
    "2. **Store_Id**: The store identifier.\n",
    "3. **Item_Id**: The item identifier.\n",
    "4. **Price**: The price of the item at our store.\n",
    "5. **Item_Quantity**: The quantity of the item sold.\n",
    "6. **Sales_Amount_No_Discount**: Sales amount without discount.\n",
    "7. **Sales_Amount**: Sales amount after discounts.\n",
    "8. **Competition_Price**: The price of the item at a competing store.\n",
    "\n",
    "Key here is to unravel how our pricing strategies have influenced sales and revenue historically, and how competitor prices impact our performance. Considering factors like discounts and temporal aspects (thanks to the Fiscal_Week_Id) will help in identifying patterns and trends essential for optimizing prices. The ultimate goal is to find that sweet spot where price adjustments maximize revenue without sacrificing competitiveness."
   ]
  },
  {
   "cell_type": "code",
   "execution_count": 1,
   "metadata": {},
   "outputs": [],
   "source": [
    "import pandas as pd"
   ]
  },
  {
   "cell_type": "code",
   "execution_count": 2,
   "metadata": {},
   "outputs": [],
   "source": [
    "dataset = pd.read_csv(\"datasets/Competition_Data.csv\")"
   ]
  },
  {
   "cell_type": "code",
   "execution_count": 3,
   "metadata": {},
   "outputs": [
    {
     "data": {
      "text/html": [
       "<div>\n",
       "<style scoped>\n",
       "    .dataframe tbody tr th:only-of-type {\n",
       "        vertical-align: middle;\n",
       "    }\n",
       "\n",
       "    .dataframe tbody tr th {\n",
       "        vertical-align: top;\n",
       "    }\n",
       "\n",
       "    .dataframe thead th {\n",
       "        text-align: right;\n",
       "    }\n",
       "</style>\n",
       "<table border=\"1\" class=\"dataframe\">\n",
       "  <thead>\n",
       "    <tr style=\"text-align: right;\">\n",
       "      <th></th>\n",
       "      <th>Index</th>\n",
       "      <th>Fiscal_Week_ID</th>\n",
       "      <th>Store_ID</th>\n",
       "      <th>Item_ID</th>\n",
       "      <th>Price</th>\n",
       "      <th>Item_Quantity</th>\n",
       "      <th>Sales_Amount_No_Discount</th>\n",
       "      <th>Sales_Amount</th>\n",
       "      <th>Competition_Price</th>\n",
       "    </tr>\n",
       "  </thead>\n",
       "  <tbody>\n",
       "    <tr>\n",
       "      <th>0</th>\n",
       "      <td>0</td>\n",
       "      <td>2019-11</td>\n",
       "      <td>store_459</td>\n",
       "      <td>item_526</td>\n",
       "      <td>134.49</td>\n",
       "      <td>435</td>\n",
       "      <td>4716.74</td>\n",
       "      <td>11272.59</td>\n",
       "      <td>206.44</td>\n",
       "    </tr>\n",
       "    <tr>\n",
       "      <th>1</th>\n",
       "      <td>1</td>\n",
       "      <td>2019-11</td>\n",
       "      <td>store_459</td>\n",
       "      <td>item_526</td>\n",
       "      <td>134.49</td>\n",
       "      <td>435</td>\n",
       "      <td>4716.74</td>\n",
       "      <td>11272.59</td>\n",
       "      <td>158.01</td>\n",
       "    </tr>\n",
       "    <tr>\n",
       "      <th>2</th>\n",
       "      <td>2</td>\n",
       "      <td>2019-11</td>\n",
       "      <td>store_459</td>\n",
       "      <td>item_526</td>\n",
       "      <td>134.49</td>\n",
       "      <td>435</td>\n",
       "      <td>4716.74</td>\n",
       "      <td>11272.59</td>\n",
       "      <td>278.03</td>\n",
       "    </tr>\n",
       "    <tr>\n",
       "      <th>3</th>\n",
       "      <td>3</td>\n",
       "      <td>2019-11</td>\n",
       "      <td>store_459</td>\n",
       "      <td>item_526</td>\n",
       "      <td>134.49</td>\n",
       "      <td>435</td>\n",
       "      <td>4716.74</td>\n",
       "      <td>11272.59</td>\n",
       "      <td>222.66</td>\n",
       "    </tr>\n",
       "    <tr>\n",
       "      <th>4</th>\n",
       "      <td>4</td>\n",
       "      <td>2019-11</td>\n",
       "      <td>store_459</td>\n",
       "      <td>item_526</td>\n",
       "      <td>134.49</td>\n",
       "      <td>435</td>\n",
       "      <td>4716.74</td>\n",
       "      <td>11272.59</td>\n",
       "      <td>195.32</td>\n",
       "    </tr>\n",
       "  </tbody>\n",
       "</table>\n",
       "</div>"
      ],
      "text/plain": [
       "   Index Fiscal_Week_ID   Store_ID   Item_ID   Price  Item_Quantity  \\\n",
       "0      0        2019-11  store_459  item_526  134.49            435   \n",
       "1      1        2019-11  store_459  item_526  134.49            435   \n",
       "2      2        2019-11  store_459  item_526  134.49            435   \n",
       "3      3        2019-11  store_459  item_526  134.49            435   \n",
       "4      4        2019-11  store_459  item_526  134.49            435   \n",
       "\n",
       "   Sales_Amount_No_Discount  Sales_Amount  Competition_Price  \n",
       "0                   4716.74      11272.59             206.44  \n",
       "1                   4716.74      11272.59             158.01  \n",
       "2                   4716.74      11272.59             278.03  \n",
       "3                   4716.74      11272.59             222.66  \n",
       "4                   4716.74      11272.59             195.32  "
      ]
     },
     "execution_count": 3,
     "metadata": {},
     "output_type": "execute_result"
    }
   ],
   "source": [
    "dataset.head()"
   ]
  },
  {
   "cell_type": "code",
   "execution_count": 5,
   "metadata": {},
   "outputs": [
    {
     "name": "stdout",
     "output_type": "stream",
     "text": [
      "<class 'pandas.core.frame.DataFrame'>\n",
      "RangeIndex: 100000 entries, 0 to 99999\n",
      "Data columns (total 9 columns):\n",
      " #   Column                    Non-Null Count   Dtype  \n",
      "---  ------                    --------------   -----  \n",
      " 0   Index                     100000 non-null  int64  \n",
      " 1   Fiscal_Week_ID            100000 non-null  object \n",
      " 2   Store_ID                  100000 non-null  object \n",
      " 3   Item_ID                   100000 non-null  object \n",
      " 4   Price                     100000 non-null  float64\n",
      " 5   Item_Quantity             100000 non-null  int64  \n",
      " 6   Sales_Amount_No_Discount  100000 non-null  float64\n",
      " 7   Sales_Amount              100000 non-null  float64\n",
      " 8   Competition_Price         100000 non-null  float64\n",
      "dtypes: float64(4), int64(2), object(3)\n",
      "memory usage: 6.9+ MB\n"
     ]
    }
   ],
   "source": [
    "dataset.info()"
   ]
  },
  {
   "cell_type": "code",
   "execution_count": 6,
   "metadata": {},
   "outputs": [
    {
     "data": {
      "text/plain": [
       "(100000, 9)"
      ]
     },
     "execution_count": 6,
     "metadata": {},
     "output_type": "execute_result"
    }
   ],
   "source": [
    "dataset.shape"
   ]
  },
  {
   "cell_type": "code",
   "execution_count": 7,
   "metadata": {},
   "outputs": [
    {
     "data": {
      "text/plain": [
       "Index                       0\n",
       "Fiscal_Week_ID              0\n",
       "Store_ID                    0\n",
       "Item_ID                     0\n",
       "Price                       0\n",
       "Item_Quantity               0\n",
       "Sales_Amount_No_Discount    0\n",
       "Sales_Amount                0\n",
       "Competition_Price           0\n",
       "dtype: int64"
      ]
     },
     "execution_count": 7,
     "metadata": {},
     "output_type": "execute_result"
    }
   ],
   "source": [
    "dataset.isnull().sum()"
   ]
  },
  {
   "cell_type": "code",
   "execution_count": 8,
   "metadata": {},
   "outputs": [
    {
     "data": {
      "text/plain": [
       "Index                       0\n",
       "Fiscal_Week_ID              0\n",
       "Store_ID                    0\n",
       "Item_ID                     0\n",
       "Price                       0\n",
       "Item_Quantity               0\n",
       "Sales_Amount_No_Discount    0\n",
       "Sales_Amount                0\n",
       "Competition_Price           0\n",
       "dtype: int64"
      ]
     },
     "execution_count": 8,
     "metadata": {},
     "output_type": "execute_result"
    }
   ],
   "source": [
    "dataset.isna().sum()"
   ]
  },
  {
   "cell_type": "code",
   "execution_count": null,
   "metadata": {},
   "outputs": [],
   "source": []
  }
 ],
 "metadata": {
  "kernelspec": {
   "display_name": "Python 3",
   "language": "python",
   "name": "python3"
  },
  "language_info": {
   "codemirror_mode": {
    "name": "ipython",
    "version": 3
   },
   "file_extension": ".py",
   "mimetype": "text/x-python",
   "name": "python",
   "nbconvert_exporter": "python",
   "pygments_lexer": "ipython3",
   "version": "3.12.2"
  }
 },
 "nbformat": 4,
 "nbformat_minor": 2
}
