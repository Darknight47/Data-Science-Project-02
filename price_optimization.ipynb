{
 "cells": [
  {
   "cell_type": "markdown",
   "metadata": {},
   "source": [
    "## Main Goal\n",
    "The goal is to develop a dynamic pricing model that optimizes the prices of items to maximize revenue while remaining competitive in the market.  \n",
    "\n",
    "**This involves:**\n",
    "\n",
    "1. Analyzing the current pricing strategy and its impact on sales and revenue.\n",
    "2. Comparing our pricing strategy with that of the competition to identify gaps and opportunities.\n",
    "3. Developing a dynamic pricing model that adjusts prices based on factors such as competitor pricing, demand elasticity, and market trends.\n",
    "4. Implementing and simulating the dynamic pricing model to compare its performance against the existing pricing strategy.\n",
    "\n",
    "### Data Understanding\n",
    "The given dataset contains pricing information for various items sold at a retail store and their corresponding prices at competing stores. The dataset includes the following columns:\n",
    "\n",
    "1. **Fiscal_Week_Id**: The fiscal week identifier.\n",
    "2. **Store_Id**: The store identifier.\n",
    "3. **Item_Id**: The item identifier.\n",
    "4. **Price**: The price of the item at our store.\n",
    "5. **Item_Quantity**: The quantity of the item sold.\n",
    "6. **Sales_Amount_No_Discount**: Sales amount without discount.\n",
    "7. **Sales_Amount**: Sales amount after discounts.\n",
    "8. **Competition_Price**: The price of the item at a competing store.\n",
    "\n",
    "Key here is to unravel how our pricing strategies have influenced sales and revenue historically, and how competitor prices impact our performance. Considering factors like discounts and temporal aspects (thanks to the Fiscal_Week_Id) will help in identifying patterns and trends essential for optimizing prices. The ultimate goal is to find that sweet spot where price adjustments maximize revenue without sacrificing competitiveness."
   ]
  },
  {
   "cell_type": "code",
   "execution_count": 1,
   "metadata": {},
   "outputs": [],
   "source": [
    "import pandas as pd\n",
    "import matplotlib.pyplot as plt\n",
    "import seaborn as sns"
   ]
  },
  {
   "cell_type": "code",
   "execution_count": 2,
   "metadata": {},
   "outputs": [],
   "source": [
    "dataset = pd.read_csv(\"datasets/Competition_Data.csv\")"
   ]
  },
  {
   "cell_type": "code",
   "execution_count": 3,
   "metadata": {},
   "outputs": [
    {
     "data": {
      "text/html": [
       "<div>\n",
       "<style scoped>\n",
       "    .dataframe tbody tr th:only-of-type {\n",
       "        vertical-align: middle;\n",
       "    }\n",
       "\n",
       "    .dataframe tbody tr th {\n",
       "        vertical-align: top;\n",
       "    }\n",
       "\n",
       "    .dataframe thead th {\n",
       "        text-align: right;\n",
       "    }\n",
       "</style>\n",
       "<table border=\"1\" class=\"dataframe\">\n",
       "  <thead>\n",
       "    <tr style=\"text-align: right;\">\n",
       "      <th></th>\n",
       "      <th>Index</th>\n",
       "      <th>Fiscal_Week_ID</th>\n",
       "      <th>Store_ID</th>\n",
       "      <th>Item_ID</th>\n",
       "      <th>Price</th>\n",
       "      <th>Item_Quantity</th>\n",
       "      <th>Sales_Amount_No_Discount</th>\n",
       "      <th>Sales_Amount</th>\n",
       "      <th>Competition_Price</th>\n",
       "    </tr>\n",
       "  </thead>\n",
       "  <tbody>\n",
       "    <tr>\n",
       "      <th>0</th>\n",
       "      <td>0</td>\n",
       "      <td>2019-11</td>\n",
       "      <td>store_459</td>\n",
       "      <td>item_526</td>\n",
       "      <td>134.49</td>\n",
       "      <td>435</td>\n",
       "      <td>4716.74</td>\n",
       "      <td>11272.59</td>\n",
       "      <td>206.44</td>\n",
       "    </tr>\n",
       "    <tr>\n",
       "      <th>1</th>\n",
       "      <td>1</td>\n",
       "      <td>2019-11</td>\n",
       "      <td>store_459</td>\n",
       "      <td>item_526</td>\n",
       "      <td>134.49</td>\n",
       "      <td>435</td>\n",
       "      <td>4716.74</td>\n",
       "      <td>11272.59</td>\n",
       "      <td>158.01</td>\n",
       "    </tr>\n",
       "    <tr>\n",
       "      <th>2</th>\n",
       "      <td>2</td>\n",
       "      <td>2019-11</td>\n",
       "      <td>store_459</td>\n",
       "      <td>item_526</td>\n",
       "      <td>134.49</td>\n",
       "      <td>435</td>\n",
       "      <td>4716.74</td>\n",
       "      <td>11272.59</td>\n",
       "      <td>278.03</td>\n",
       "    </tr>\n",
       "    <tr>\n",
       "      <th>3</th>\n",
       "      <td>3</td>\n",
       "      <td>2019-11</td>\n",
       "      <td>store_459</td>\n",
       "      <td>item_526</td>\n",
       "      <td>134.49</td>\n",
       "      <td>435</td>\n",
       "      <td>4716.74</td>\n",
       "      <td>11272.59</td>\n",
       "      <td>222.66</td>\n",
       "    </tr>\n",
       "    <tr>\n",
       "      <th>4</th>\n",
       "      <td>4</td>\n",
       "      <td>2019-11</td>\n",
       "      <td>store_459</td>\n",
       "      <td>item_526</td>\n",
       "      <td>134.49</td>\n",
       "      <td>435</td>\n",
       "      <td>4716.74</td>\n",
       "      <td>11272.59</td>\n",
       "      <td>195.32</td>\n",
       "    </tr>\n",
       "  </tbody>\n",
       "</table>\n",
       "</div>"
      ],
      "text/plain": [
       "   Index Fiscal_Week_ID   Store_ID   Item_ID   Price  Item_Quantity  \\\n",
       "0      0        2019-11  store_459  item_526  134.49            435   \n",
       "1      1        2019-11  store_459  item_526  134.49            435   \n",
       "2      2        2019-11  store_459  item_526  134.49            435   \n",
       "3      3        2019-11  store_459  item_526  134.49            435   \n",
       "4      4        2019-11  store_459  item_526  134.49            435   \n",
       "\n",
       "   Sales_Amount_No_Discount  Sales_Amount  Competition_Price  \n",
       "0                   4716.74      11272.59             206.44  \n",
       "1                   4716.74      11272.59             158.01  \n",
       "2                   4716.74      11272.59             278.03  \n",
       "3                   4716.74      11272.59             222.66  \n",
       "4                   4716.74      11272.59             195.32  "
      ]
     },
     "execution_count": 3,
     "metadata": {},
     "output_type": "execute_result"
    }
   ],
   "source": [
    "dataset.head()"
   ]
  },
  {
   "cell_type": "code",
   "execution_count": 5,
   "metadata": {},
   "outputs": [
    {
     "name": "stdout",
     "output_type": "stream",
     "text": [
      "<class 'pandas.core.frame.DataFrame'>\n",
      "RangeIndex: 100000 entries, 0 to 99999\n",
      "Data columns (total 9 columns):\n",
      " #   Column                    Non-Null Count   Dtype  \n",
      "---  ------                    --------------   -----  \n",
      " 0   Index                     100000 non-null  int64  \n",
      " 1   Fiscal_Week_ID            100000 non-null  object \n",
      " 2   Store_ID                  100000 non-null  object \n",
      " 3   Item_ID                   100000 non-null  object \n",
      " 4   Price                     100000 non-null  float64\n",
      " 5   Item_Quantity             100000 non-null  int64  \n",
      " 6   Sales_Amount_No_Discount  100000 non-null  float64\n",
      " 7   Sales_Amount              100000 non-null  float64\n",
      " 8   Competition_Price         100000 non-null  float64\n",
      "dtypes: float64(4), int64(2), object(3)\n",
      "memory usage: 6.9+ MB\n"
     ]
    }
   ],
   "source": [
    "dataset.info()"
   ]
  },
  {
   "cell_type": "code",
   "execution_count": 6,
   "metadata": {},
   "outputs": [
    {
     "data": {
      "text/plain": [
       "(100000, 9)"
      ]
     },
     "execution_count": 6,
     "metadata": {},
     "output_type": "execute_result"
    }
   ],
   "source": [
    "dataset.shape"
   ]
  },
  {
   "cell_type": "code",
   "execution_count": 7,
   "metadata": {},
   "outputs": [
    {
     "data": {
      "text/plain": [
       "Index                       0\n",
       "Fiscal_Week_ID              0\n",
       "Store_ID                    0\n",
       "Item_ID                     0\n",
       "Price                       0\n",
       "Item_Quantity               0\n",
       "Sales_Amount_No_Discount    0\n",
       "Sales_Amount                0\n",
       "Competition_Price           0\n",
       "dtype: int64"
      ]
     },
     "execution_count": 7,
     "metadata": {},
     "output_type": "execute_result"
    }
   ],
   "source": [
    "dataset.isnull().sum()"
   ]
  },
  {
   "cell_type": "code",
   "execution_count": 8,
   "metadata": {},
   "outputs": [
    {
     "data": {
      "text/plain": [
       "Index                       0\n",
       "Fiscal_Week_ID              0\n",
       "Store_ID                    0\n",
       "Item_ID                     0\n",
       "Price                       0\n",
       "Item_Quantity               0\n",
       "Sales_Amount_No_Discount    0\n",
       "Sales_Amount                0\n",
       "Competition_Price           0\n",
       "dtype: int64"
      ]
     },
     "execution_count": 8,
     "metadata": {},
     "output_type": "execute_result"
    }
   ],
   "source": [
    "dataset.isna().sum()"
   ]
  },
  {
   "cell_type": "markdown",
   "metadata": {},
   "source": [
    "### Basic EDA \n",
    "#### How does our item pricing correlate with the quantity sold?"
   ]
  },
  {
   "cell_type": "code",
   "execution_count": 9,
   "metadata": {},
   "outputs": [
    {
     "name": "stdout",
     "output_type": "stream",
     "text": [
      "Overall Correlation between Price and Quantity Sold: -0.17640332559077712\n"
     ]
    }
   ],
   "source": [
    "# Calculate the overall correlation\n",
    "correlation = dataset['Price'].corr(dataset['Item_Quantity'])\n",
    "print(f'Overall Correlation between Price and Quantity Sold: {correlation}')"
   ]
  },
  {
   "cell_type": "markdown",
   "metadata": {},
   "source": [
    "#### What is the relationship between our prices and competitor prices, and how does this difference affect our sales volumes?"
   ]
  },
  {
   "cell_type": "code",
   "execution_count": 10,
   "metadata": {},
   "outputs": [
    {
     "name": "stdout",
     "output_type": "stream",
     "text": [
      "Our Price Stats:\n",
      " count    100000.000000\n",
      "mean        167.017783\n",
      "std          69.503418\n",
      "min          47.700000\n",
      "25%         105.410000\n",
      "50%         159.420000\n",
      "75%         221.900000\n",
      "max         310.660000\n",
      "Name: Price, dtype: float64\n",
      "\n",
      "Competitor Price Stats:\n",
      " count    100000.000000\n",
      "mean        174.280887\n",
      "std          71.545584\n",
      "min          47.950000\n",
      "25%         118.627500\n",
      "50%         162.510000\n",
      "75%         237.335000\n",
      "max         313.640000\n",
      "Name: Competition_Price, dtype: float64\n"
     ]
    }
   ],
   "source": [
    "# Mean, Median, and Standard Deviation for our prices\n",
    "our_price_stats = dataset['Price'].describe()\n",
    "\n",
    "# Mean, Median, and Standard Deviation for competitor prices\n",
    "competitor_price_stats = dataset['Competition_Price'].describe()\n",
    "\n",
    "print(\"Our Price Stats:\\n\", our_price_stats)\n",
    "print(\"\\nCompetitor Price Stats:\\n\", competitor_price_stats)"
   ]
  },
  {
   "cell_type": "markdown",
   "metadata": {},
   "source": [
    "Our prices have a mean of 167.02, slightly lower than the competitor mean of 174.28. The standard deviation for our prices is 69.50, indicating a slightly narrower range of prices compared to the competitor standard deviation of 71.55!  \n",
    "The median price (50th percentile) is also lower for our prices at 159.42, compared to the competitor's median of 162.51!  \n",
    "Lastly, our maximum price is 310.66, slightly below the competitor maximum price of 313.64!  \n",
    "> This comparison shows that, on average, our prices tend to be slightly lower than those of our competitors, and there is less variability in our pricing as reflected by the standard deviation!"
   ]
  },
  {
   "cell_type": "code",
   "execution_count": 11,
   "metadata": {},
   "outputs": [
    {
     "data": {
      "image/png": "[encoded data removed]",
      "text/plain": [
       "<Figure size 1000x800 with 1 Axes>"
      ]
     },
     "metadata": {},
     "output_type": "display_data"
    }
   ],
   "source": [
    "# Plotting the Price and The Competitor Price Trends Over Time\n",
    "plt.figure(figsize=(10, 8))\n",
    "sns.lineplot(data=dataset, x='Fiscal_Week_ID', y='Price', label='Our Price')\n",
    "sns.lineplot(data=dataset, x='Fiscal_Week_ID', y='Competition_Price', label='Competitor Price')\n",
    "plt.title('Price Trends Over Time')\n",
    "plt.xlabel('Fiscal Week')\n",
    "plt.ylabel('Price')\n",
    "plt.legend()\n",
    "plt.grid(True)\n",
    "plt.show()"
   ]
  },
  {
   "cell_type": "markdown",
   "metadata": {},
   "source": [
    "> The competition maintains higher average prices consistently above 170, with a slight upward trend over the observed weeks. In contrast, our store’s prices start around 166, increase slightly, then dip before rising again. It indicates that the competition follows a more stable pricing strategy, while our store experiences more fluctuations in pricing. The stability in the competition’s pricing could be contributing to their higher and more consistent sales performance.\n",
    "\n",
    "#### Are there identifiable trends or patterns in sales quantities over different fiscal weeks, indicating seasonality or temporal effects?"
   ]
  },
  {
   "cell_type": "code",
   "execution_count": 12,
   "metadata": {},
   "outputs": [
    {
     "name": "stdout",
     "output_type": "stream",
     "text": [
      "  Fiscal_Week_ID  Item_Quantity\n",
      "0        2019-11        7839663\n",
      "1        2019-12        8254376\n",
      "2        2019-13        7943760\n",
      "3        2019-14        7836817\n",
      "4        2019-15        8086516\n"
     ]
    }
   ],
   "source": [
    "# Group by Fiscal_Week_Id and sum Item_Quantity\n",
    "weekly_sales = dataset.groupby('Fiscal_Week_ID')['Item_Quantity'].sum().reset_index()\n",
    "\n",
    "# Display the result\n",
    "print(weekly_sales)"
   ]
  },
  {
   "cell_type": "code",
   "execution_count": 13,
   "metadata": {},
   "outputs": [
    {
     "data": {
      "image/png": "[encoded data removed]",
      "text/plain": [
       "<Figure size 1000x600 with 1 Axes>"
      ]
     },
     "metadata": {},
     "output_type": "display_data"
    }
   ],
   "source": [
    "plt.figure(figsize=(10, 6))\n",
    "sns.lineplot(data=weekly_sales, x='Fiscal_Week_ID', y='Item_Quantity', marker='o')\n",
    "plt.title('Total Item Quantity Sold Over Fiscal Weeks')\n",
    "plt.xlabel('Fiscal Week')\n",
    "plt.ylabel('Total Quantity Sold')\n",
    "plt.grid(True)\n",
    "plt.show()"
   ]
  },
  {
   "cell_type": "markdown",
   "metadata": {},
   "source": [
    "> It decreases after the first week and continues goes down through the third week and then increases after the fourth week!  \n",
    "\n",
    "#### How changes in prices affect the change in quantity sold?\n",
    "Ed = % change in quantity demanded / % change in price  \n",
    "(Elasticity of demand) = How much the quantity sold changes in percentage terms / How much the price changes in percentage terms"
   ]
  },
  {
   "cell_type": "code",
   "execution_count": null,
   "metadata": {},
   "outputs": [],
   "source": [
    "dataset['price_change'] = dataset['Price'].pct_change()\n",
    "# This line calculates the fractional change in the Price column for each row compared to the previous row.\n",
    "dataset['qty_change'] = dataset['Item_Quantity'].pct_change()\n",
    "# This line calculates the fractional change in the Item_Quantity column for each row compared to the previous row.\n",
    "# Computes the fractional change from the immediately previous row by default. This is useful in comparing the fraction of change in a time series of elements."
   ]
  },
  {
   "cell_type": "code",
   "execution_count": 16,
   "metadata": {},
   "outputs": [
    {
     "data": {
      "text/html": [
       "<div>\n",
       "<style scoped>\n",
       "    .dataframe tbody tr th:only-of-type {\n",
       "        vertical-align: middle;\n",
       "    }\n",
       "\n",
       "    .dataframe tbody tr th {\n",
       "        vertical-align: top;\n",
       "    }\n",
       "\n",
       "    .dataframe thead th {\n",
       "        text-align: right;\n",
       "    }\n",
       "</style>\n",
       "<table border=\"1\" class=\"dataframe\">\n",
       "  <thead>\n",
       "    <tr style=\"text-align: right;\">\n",
       "      <th></th>\n",
       "      <th>Index</th>\n",
       "      <th>Fiscal_Week_ID</th>\n",
       "      <th>Store_ID</th>\n",
       "      <th>Item_ID</th>\n",
       "      <th>Price</th>\n",
       "      <th>Item_Quantity</th>\n",
       "      <th>Sales_Amount_No_Discount</th>\n",
       "      <th>Sales_Amount</th>\n",
       "      <th>Competition_Price</th>\n",
       "      <th>price_change</th>\n",
       "      <th>qty_change</th>\n",
       "    </tr>\n",
       "  </thead>\n",
       "  <tbody>\n",
       "    <tr>\n",
       "      <th>0</th>\n",
       "      <td>0</td>\n",
       "      <td>2019-11</td>\n",
       "      <td>store_459</td>\n",
       "      <td>item_526</td>\n",
       "      <td>134.49</td>\n",
       "      <td>435</td>\n",
       "      <td>4716.74</td>\n",
       "      <td>11272.59</td>\n",
       "      <td>206.44</td>\n",
       "      <td>NaN</td>\n",
       "      <td>NaN</td>\n",
       "    </tr>\n",
       "    <tr>\n",
       "      <th>1</th>\n",
       "      <td>1</td>\n",
       "      <td>2019-11</td>\n",
       "      <td>store_459</td>\n",
       "      <td>item_526</td>\n",
       "      <td>134.49</td>\n",
       "      <td>435</td>\n",
       "      <td>4716.74</td>\n",
       "      <td>11272.59</td>\n",
       "      <td>158.01</td>\n",
       "      <td>0.0</td>\n",
       "      <td>0.0</td>\n",
       "    </tr>\n",
       "    <tr>\n",
       "      <th>2</th>\n",
       "      <td>2</td>\n",
       "      <td>2019-11</td>\n",
       "      <td>store_459</td>\n",
       "      <td>item_526</td>\n",
       "      <td>134.49</td>\n",
       "      <td>435</td>\n",
       "      <td>4716.74</td>\n",
       "      <td>11272.59</td>\n",
       "      <td>278.03</td>\n",
       "      <td>0.0</td>\n",
       "      <td>0.0</td>\n",
       "    </tr>\n",
       "    <tr>\n",
       "      <th>3</th>\n",
       "      <td>3</td>\n",
       "      <td>2019-11</td>\n",
       "      <td>store_459</td>\n",
       "      <td>item_526</td>\n",
       "      <td>134.49</td>\n",
       "      <td>435</td>\n",
       "      <td>4716.74</td>\n",
       "      <td>11272.59</td>\n",
       "      <td>222.66</td>\n",
       "      <td>0.0</td>\n",
       "      <td>0.0</td>\n",
       "    </tr>\n",
       "    <tr>\n",
       "      <th>4</th>\n",
       "      <td>4</td>\n",
       "      <td>2019-11</td>\n",
       "      <td>store_459</td>\n",
       "      <td>item_526</td>\n",
       "      <td>134.49</td>\n",
       "      <td>435</td>\n",
       "      <td>4716.74</td>\n",
       "      <td>11272.59</td>\n",
       "      <td>195.32</td>\n",
       "      <td>0.0</td>\n",
       "      <td>0.0</td>\n",
       "    </tr>\n",
       "  </tbody>\n",
       "</table>\n",
       "</div>"
      ],
      "text/plain": [
       "   Index Fiscal_Week_ID   Store_ID   Item_ID   Price  Item_Quantity  \\\n",
       "0      0        2019-11  store_459  item_526  134.49            435   \n",
       "1      1        2019-11  store_459  item_526  134.49            435   \n",
       "2      2        2019-11  store_459  item_526  134.49            435   \n",
       "3      3        2019-11  store_459  item_526  134.49            435   \n",
       "4      4        2019-11  store_459  item_526  134.49            435   \n",
       "\n",
       "   Sales_Amount_No_Discount  Sales_Amount  Competition_Price  price_change  \\\n",
       "0                   4716.74      11272.59             206.44           NaN   \n",
       "1                   4716.74      11272.59             158.01           0.0   \n",
       "2                   4716.74      11272.59             278.03           0.0   \n",
       "3                   4716.74      11272.59             222.66           0.0   \n",
       "4                   4716.74      11272.59             195.32           0.0   \n",
       "\n",
       "   qty_change  \n",
       "0         NaN  \n",
       "1         0.0  \n",
       "2         0.0  \n",
       "3         0.0  \n",
       "4         0.0  "
      ]
     },
     "execution_count": 16,
     "metadata": {},
     "output_type": "execute_result"
    }
   ],
   "source": [
    "dataset.head()"
   ]
  },
  {
   "cell_type": "code",
   "execution_count": 17,
   "metadata": {},
   "outputs": [],
   "source": [
    "# Calculate elasticity using the formula Ed = % change in quantity demanded / % change in price\n",
    "# This line calculates the price elasticity of demand for each row by dividing the fractional change in quantity sold by the fractional change in price.\n",
    "dataset['elasticity'] = dataset['qty_change'] / dataset['price_change']\n",
    "\n",
    "# Replace infinite values with NaN (e.g., when price_change is zero, pct_change can result in inf)\n",
    "dataset.replace([float('inf'), -float('inf')], float('nan'), inplace=True)\n",
    "\n",
    "# Drop rows where elasticity is NaN\n",
    "dataset.dropna(subset=['elasticity'], inplace=True)"
   ]
  },
  {
   "cell_type": "code",
   "execution_count": 18,
   "metadata": {},
   "outputs": [
    {
     "data": {
      "text/html": [
       "<div>\n",
       "<style scoped>\n",
       "    .dataframe tbody tr th:only-of-type {\n",
       "        vertical-align: middle;\n",
       "    }\n",
       "\n",
       "    .dataframe tbody tr th {\n",
       "        vertical-align: top;\n",
       "    }\n",
       "\n",
       "    .dataframe thead th {\n",
       "        text-align: right;\n",
       "    }\n",
       "</style>\n",
       "<table border=\"1\" class=\"dataframe\">\n",
       "  <thead>\n",
       "    <tr style=\"text-align: right;\">\n",
       "      <th></th>\n",
       "      <th>Index</th>\n",
       "      <th>Fiscal_Week_ID</th>\n",
       "      <th>Store_ID</th>\n",
       "      <th>Item_ID</th>\n",
       "      <th>Price</th>\n",
       "      <th>Item_Quantity</th>\n",
       "      <th>Sales_Amount_No_Discount</th>\n",
       "      <th>Sales_Amount</th>\n",
       "      <th>Competition_Price</th>\n",
       "      <th>price_change</th>\n",
       "      <th>qty_change</th>\n",
       "      <th>elasticity</th>\n",
       "    </tr>\n",
       "  </thead>\n",
       "  <tbody>\n",
       "    <tr>\n",
       "      <th>10</th>\n",
       "      <td>10</td>\n",
       "      <td>2019-11</td>\n",
       "      <td>store_709</td>\n",
       "      <td>item_526</td>\n",
       "      <td>136.79</td>\n",
       "      <td>459</td>\n",
       "      <td>4890.43</td>\n",
       "      <td>11545.08</td>\n",
       "      <td>206.44</td>\n",
       "      <td>0.017102</td>\n",
       "      <td>0.055172</td>\n",
       "      <td>3.226147</td>\n",
       "    </tr>\n",
       "    <tr>\n",
       "      <th>20</th>\n",
       "      <td>20</td>\n",
       "      <td>2019-11</td>\n",
       "      <td>store_442</td>\n",
       "      <td>item_526</td>\n",
       "      <td>138.67</td>\n",
       "      <td>458</td>\n",
       "      <td>4933.46</td>\n",
       "      <td>11517.46</td>\n",
       "      <td>206.44</td>\n",
       "      <td>0.013744</td>\n",
       "      <td>-0.002179</td>\n",
       "      <td>-0.158520</td>\n",
       "    </tr>\n",
       "    <tr>\n",
       "      <th>30</th>\n",
       "      <td>30</td>\n",
       "      <td>2019-11</td>\n",
       "      <td>store_136</td>\n",
       "      <td>item_526</td>\n",
       "      <td>128.93</td>\n",
       "      <td>459</td>\n",
       "      <td>4962.56</td>\n",
       "      <td>11216.19</td>\n",
       "      <td>206.44</td>\n",
       "      <td>-0.070239</td>\n",
       "      <td>0.002183</td>\n",
       "      <td>-0.031086</td>\n",
       "    </tr>\n",
       "    <tr>\n",
       "      <th>40</th>\n",
       "      <td>40</td>\n",
       "      <td>2019-11</td>\n",
       "      <td>store_601</td>\n",
       "      <td>item_526</td>\n",
       "      <td>134.45</td>\n",
       "      <td>436</td>\n",
       "      <td>4704.89</td>\n",
       "      <td>10980.31</td>\n",
       "      <td>206.44</td>\n",
       "      <td>0.042814</td>\n",
       "      <td>-0.050109</td>\n",
       "      <td>-1.170389</td>\n",
       "    </tr>\n",
       "    <tr>\n",
       "      <th>50</th>\n",
       "      <td>50</td>\n",
       "      <td>2019-11</td>\n",
       "      <td>store_458</td>\n",
       "      <td>item_526</td>\n",
       "      <td>134.13</td>\n",
       "      <td>435</td>\n",
       "      <td>4558.87</td>\n",
       "      <td>11168.10</td>\n",
       "      <td>206.44</td>\n",
       "      <td>-0.002380</td>\n",
       "      <td>-0.002294</td>\n",
       "      <td>0.963661</td>\n",
       "    </tr>\n",
       "  </tbody>\n",
       "</table>\n",
       "</div>"
      ],
      "text/plain": [
       "    Index Fiscal_Week_ID   Store_ID   Item_ID   Price  Item_Quantity  \\\n",
       "10     10        2019-11  store_709  item_526  136.79            459   \n",
       "20     20        2019-11  store_442  item_526  138.67            458   \n",
       "30     30        2019-11  store_136  item_526  128.93            459   \n",
       "40     40        2019-11  store_601  item_526  134.45            436   \n",
       "50     50        2019-11  store_458  item_526  134.13            435   \n",
       "\n",
       "    Sales_Amount_No_Discount  Sales_Amount  Competition_Price  price_change  \\\n",
       "10                   4890.43      11545.08             206.44      0.017102   \n",
       "20                   4933.46      11517.46             206.44      0.013744   \n",
       "30                   4962.56      11216.19             206.44     -0.070239   \n",
       "40                   4704.89      10980.31             206.44      0.042814   \n",
       "50                   4558.87      11168.10             206.44     -0.002380   \n",
       "\n",
       "    qty_change  elasticity  \n",
       "10    0.055172    3.226147  \n",
       "20   -0.002179   -0.158520  \n",
       "30    0.002183   -0.031086  \n",
       "40   -0.050109   -1.170389  \n",
       "50   -0.002294    0.963661  "
      ]
     },
     "execution_count": 18,
     "metadata": {},
     "output_type": "execute_result"
    }
   ],
   "source": [
    "dataset.head()"
   ]
  },
  {
   "cell_type": "code",
   "execution_count": null,
   "metadata": {},
   "outputs": [],
   "source": []
  },
  {
   "cell_type": "markdown",
   "metadata": {},
   "source": []
  }
 ],
 "metadata": {
  "kernelspec": {
   "display_name": "Python 3",
   "language": "python",
   "name": "python3"
  },
  "language_info": {
   "codemirror_mode": {
    "name": "ipython",
    "version": 3
   },
   "file_extension": ".py",
   "mimetype": "text/x-python",
   "name": "python",
   "nbconvert_exporter": "python",
   "pygments_lexer": "ipython3",
   "version": "3.12.2"
  }
 },
 "nbformat": 4,
 "nbformat_minor": 2
}
